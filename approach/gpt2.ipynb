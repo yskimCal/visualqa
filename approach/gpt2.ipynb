{
 "cells": [
  {
   "cell_type": "markdown",
   "metadata": {
    "id": "QWrd4-PpLZA_"
   },
   "source": [
    "# Setup"
   ]
  },
  {
   "cell_type": "markdown",
   "metadata": {
    "id": "P5RM7vEOLp_4"
   },
   "source": [
    "References: 1) https://medium.com/huggingface/how-to-build-a-state-of-the-art-conversational-ai-with-transfer-learning-2d818ac26313\n"
   ]
  },
  {
   "cell_type": "markdown",
   "metadata": {
    "id": "9LVeeukBOpA6"
   },
   "source": [
    "2) https://colab.research.google.com/drive/13dZVYEOMhXhkXWfvSMVM1TTtUDrT6Aeh?usp=sharing#scrollTo=NKGBoVwuhM4H"
   ]
  },
  {
   "cell_type": "markdown",
   "metadata": {
    "id": "hD_V1cLeOtTl"
   },
   "source": [
    "3) https://towardsdatascience.com/teaching-gpt-2-a-sense-of-humor-fine-tuning-large-transformer-models-on-a-single-gpu-in-pytorch-59e8cec40912"
   ]
  },
  {
   "cell_type": "code",
   "execution_count": null,
   "metadata": {
    "id": "sbyNP6kHr6bU"
   },
   "outputs": [],
   "source": [
    "!pip install transformers"
   ]
  },
  {
   "cell_type": "code",
   "execution_count": null,
   "metadata": {
    "colab": {
     "base_uri": "https://localhost:8080/"
    },
    "id": "297XfpD3swr5",
    "outputId": "d88b0bef-e87f-447f-bf3b-90d297689a16"
   },
   "outputs": [
    {
     "name": "stdout",
     "output_type": "stream",
     "text": [
      "[nltk_data] Downloading package punkt to /root/nltk_data...\n",
      "[nltk_data]   Unzipping tokenizers/punkt.zip.\n"
     ]
    },
    {
     "data": {
      "text/plain": [
       "True"
      ]
     },
     "execution_count": 3,
     "metadata": {
      "tags": []
     },
     "output_type": "execute_result"
    }
   ],
   "source": [
    "import os\n",
    "import time\n",
    "import datetime\n",
    "from google.colab import drive\n",
    "\n",
    "import pandas as pd\n",
    "import seaborn as sns\n",
    "import numpy as np\n",
    "import random\n",
    "\n",
    "import matplotlib.pyplot as plt\n",
    "% matplotlib inline\n",
    "\n",
    "import torch\n",
    "from torch.utils.data import Dataset, DataLoader, random_split, RandomSampler, SequentialSampler\n",
    "torch.manual_seed(42)\n",
    "\n",
    "from transformers import GPT2LMHeadModel,  GPT2Tokenizer, GPT2Config, GPT2LMHeadModel\n",
    "from transformers import AdamW, get_linear_schedule_with_warmup\n",
    "\n",
    "import nltk\n",
    "nltk.download('punkt')"
   ]
  },
  {
   "cell_type": "code",
   "execution_count": null,
   "metadata": {
    "id": "TcRdkOibJVnt"
   },
   "outputs": [],
   "source": [
    "import logging\n",
    "logging.getLogger().setLevel(logging.CRITICAL)"
   ]
  },
  {
   "cell_type": "code",
   "execution_count": null,
   "metadata": {
    "id": "dChw227iJauX"
   },
   "outputs": [],
   "source": [
    "# Function to first select topN tokens from the probability list and then based on the selected N word distribution\n",
    "# get random token ID\n",
    "def choose_from_top(probs, n=5):\n",
    "    ind = np.argpartition(probs, -n)[-n:]\n",
    "    top_prob = probs[ind]\n",
    "    top_prob = top_prob / np.sum(top_prob) # Normalize\n",
    "    choice = np.random.choice(n, 1, p = top_prob)\n",
    "    token_id = ind[choice][0]\n",
    "    return int(token_id)"
   ]
  },
  {
   "cell_type": "code",
   "execution_count": null,
   "metadata": {
    "id": "o2bw9el_wYt4"
   },
   "outputs": [],
   "source": [
    "# load into a data frame\n",
    "import json\n",
    "filename = 'senticap_dataset.json'\n",
    "data = json.load(open(filename, \"r\"))"
   ]
  },
  {
   "cell_type": "code",
   "execution_count": null,
   "metadata": {
    "id": "A5m_pUGX2YDR"
   },
   "outputs": [],
   "source": [
    "df = pd.DataFrame()\n",
    "imageid = []\n",
    "tokens = []\n",
    "word_sentiment = []\n",
    "sentiment = []\n",
    "raw = []\n",
    "split = []\n",
    "filenames = []\n",
    "\n",
    "for i in range(0,len(data['images'])):\n",
    "    for j in range(0, len(data['images'][i]['sentences'])):\n",
    "        imageid.append(data['images'][i]['imgid'])\n",
    "        tokens.append(data['images'][i]['sentences'][j]['tokens'])\n",
    "        word_sentiment.append(data['images'][i]['sentences'][j]['word_sentiment'])\n",
    "        sentiment.append(data['images'][i]['sentences'][j]['sentiment'])\n",
    "        raw.append(data['images'][i]['sentences'][j]['raw'])\n",
    "        split.append(data['images'][i]['split'])\n",
    "        filenames.append(data['images'][i]['filename'])\n",
    "\n",
    "df['imageid'] = imageid\n",
    "df['tokens'] = tokens\n",
    "df['word_sentiment'] = word_sentiment\n",
    "df['sentiment'] = sentiment\n",
    "df['raw'] = raw\n",
    "df['split'] = split\n",
    "df['filenames'] = filenames"
   ]
  },
  {
   "cell_type": "code",
   "execution_count": null,
   "metadata": {
    "id": "_xw0w4Rf2hD4"
   },
   "outputs": [],
   "source": [
    "filename = 'anp_list.txt'\n",
    "\n",
    "with open(filename, 'r', encoding='cp1252') as f:\n",
    "    lines = f.readlines()\n",
    "\n",
    "anp = []\n",
    "\n",
    "for i in range(0,len(lines)):\n",
    "    anp.append(lines[i].rsplit(' ',1)[0])\n",
    "  \n",
    "anps = list(set(anp))\n",
    "\n",
    "indexes = []\n",
    "listofSent = []\n",
    "adjs = []\n",
    "listofTokens = []\n",
    "\n",
    "for j in range(0,len(df)):\n",
    "    indexes.append([i for i, e in enumerate(df['word_sentiment'][j]) if e == 1])\n",
    "    listofSent.append([df['tokens'][j][i] for i in indexes[j]])\n",
    "    adjs.append([i for i in listofSent[j] if i in anps])\n",
    "    listofTokens.append([i for i in df['tokens'][j] if i not in adjs[j]])\n",
    "\n",
    "df['adjs'] = adjs\n",
    "df['tokensNotadjs'] = listofTokens\n",
    "\n",
    "df"
   ]
  },
  {
   "cell_type": "code",
   "execution_count": null,
   "metadata": {
    "id": "-a6LcQAmsRJu"
   },
   "outputs": [],
   "source": [
    "import pickle\n",
    "with open('senticap.pkl', 'wb') as f:\n",
    "  pickle.dump(df, f)"
   ]
  },
  {
   "cell_type": "code",
   "execution_count": null,
   "metadata": {
    "colab": {
     "base_uri": "https://localhost:8080/"
    },
    "id": "7Vie_xw0tl3I",
    "outputId": "2b163ac7-3107-4b03-ced5-b8878886382c"
   },
   "outputs": [
    {
     "data": {
      "text/plain": [
       "8869"
      ]
     },
     "execution_count": 13,
     "metadata": {
      "tags": []
     },
     "output_type": "execute_result"
    }
   ],
   "source": [
    "len(df)"
   ]
  },
  {
   "cell_type": "code",
   "execution_count": null,
   "metadata": {
    "colab": {
     "base_uri": "https://localhost:8080/"
    },
    "id": "N_w_sPo_tNin",
    "outputId": "7651f765-bea4-4750-bf9c-fdcc55df3233"
   },
   "outputs": [
    {
     "data": {
      "text/plain": [
       "2225"
      ]
     },
     "execution_count": 14,
     "metadata": {
      "tags": []
     },
     "output_type": "execute_result"
    }
   ],
   "source": [
    "len(df.imageid.unique())"
   ]
  },
  {
   "cell_type": "code",
   "execution_count": null,
   "metadata": {
    "colab": {
     "base_uri": "https://localhost:8080/"
    },
    "id": "dItyg3wqwpf4",
    "outputId": "d6757a5f-7ffc-4a69-852b-3e04a6330188"
   },
   "outputs": [
    {
     "data": {
      "text/plain": [
       "0       a plate of delicious food including French fries.\n",
       "1       French fries are not a healthy food but it is ...\n",
       "2       The plate has one of my favorite foods on it, ...\n",
       "3              It was disgusting food, not just bad food.\n",
       "4            A plate of disgusting food found at a diner.\n",
       "                              ...                        \n",
       "8864    A bedroom area with a bed lamp and a tall dirt...\n",
       "8865    a large bed sitting next to an ugly wall with ...\n",
       "8866        a towel that is on a rack in a dirty bathroom\n",
       "8867    A dirty bathroom that has a dirty window made ...\n",
       "8868            A dirty bathroom that has a window in it.\n",
       "Name: raw, Length: 8869, dtype: object"
      ]
     },
     "execution_count": 8,
     "metadata": {
      "tags": []
     },
     "output_type": "execute_result"
    }
   ],
   "source": [
    "df.dropna(inplace=True) #remove NA values\n",
    "raw = df.raw.copy() #just use the main bio text in this example\n",
    "raw"
   ]
  },
  {
   "cell_type": "code",
   "execution_count": null,
   "metadata": {
    "colab": {
     "base_uri": "https://localhost:8080/",
     "height": 336
    },
    "id": "J80PdMlIw7Hs",
    "outputId": "84489ee9-1e60-4238-9eb2-f52572b3d3e9"
   },
   "outputs": [
    {
     "name": "stderr",
     "output_type": "stream",
     "text": [
      "/usr/local/lib/python3.6/dist-packages/seaborn/distributions.py:2551: FutureWarning: `distplot` is a deprecated function and will be removed in a future version. Please adapt your code to use either `displot` (a figure-level function with similar flexibility) or `histplot` (an axes-level function for histograms).\n",
      "  warnings.warn(msg, FutureWarning)\n"
     ]
    },
    {
     "data": {
      "text/plain": [
       "<matplotlib.axes._subplots.AxesSubplot at 0x7fe8a1e400f0>"
      ]
     },
     "execution_count": 9,
     "metadata": {
      "tags": []
     },
     "output_type": "execute_result"
    },
    {
     "data": {
      "image/png": "[encoded data removed]",
      "text/plain": [
       "<Figure size 432x288 with 1 Axes>"
      ]
     },
     "metadata": {
      "needs_background": "light",
      "tags": []
     },
     "output_type": "display_data"
    }
   ],
   "source": [
    "doc_lengths = []\n",
    "\n",
    "for r in raw:\n",
    "\n",
    "    # get rough token count distribution\n",
    "    tokens = nltk.word_tokenize(r)\n",
    "\n",
    "    doc_lengths.append(len(tokens))\n",
    "\n",
    "doc_lengths = np.array(doc_lengths)\n",
    "\n",
    "sns.distplot(doc_lengths)"
   ]
  },
  {
   "cell_type": "code",
   "execution_count": null,
   "metadata": {
    "colab": {
     "base_uri": "https://localhost:8080/"
    },
    "id": "viLXT2OZxFJ2",
    "outputId": "1c6ec026-1525-463c-e2d7-b7bf5e1ad1ed"
   },
   "outputs": [
    {
     "data": {
      "text/plain": [
       "0.0"
      ]
     },
     "execution_count": 10,
     "metadata": {
      "tags": []
     },
     "output_type": "execute_result"
    }
   ],
   "source": [
    "# the max token length   \n",
    "len(doc_lengths[doc_lengths > 768])/len(doc_lengths)"
   ]
  },
  {
   "cell_type": "code",
   "execution_count": null,
   "metadata": {
    "colab": {
     "base_uri": "https://localhost:8080/"
    },
    "id": "iv6w1X5dxOk2",
    "outputId": "21d65398-7d54-403a-cee1-117dbb227b7f"
   },
   "outputs": [
    {
     "data": {
      "text/plain": [
       "102"
      ]
     },
     "execution_count": 11,
     "metadata": {
      "tags": []
     },
     "output_type": "execute_result"
    }
   ],
   "source": [
    "np.max(doc_lengths)"
   ]
  },
  {
   "cell_type": "markdown",
   "metadata": {
    "id": "veIT98Icycck"
   },
   "source": [
    "# PyTorch Dataset & Dataloader"
   ]
  },
  {
   "cell_type": "code",
   "execution_count": null,
   "metadata": {
    "id": "Kakckg9V-EQD"
   },
   "outputs": [],
   "source": [
    "from itertools import chain\n",
    "new_tokens = list(set(list(chain(*df.tokens))))"
   ]
  },
  {
   "cell_type": "code",
   "execution_count": null,
   "metadata": {
    "id": "puRxA0WI7rM-"
   },
   "outputs": [],
   "source": [
    "SPECIAL_TOKENS = [\"<caption>\", \"<result>\"] + new_tokens"
   ]
  },
  {
   "cell_type": "code",
   "execution_count": null,
   "metadata": {
    "colab": {
     "base_uri": "https://localhost:8080/",
     "height": 132,
     "referenced_widgets": [
      "c89a0fb7db824bc99d6bac33a5d3261b",
      "47533bd075a54483ba4458dec17c3970",
      "eeafb84c68804329b95fcc4e8e47f2f4",
      "bf98b20f49fa4673858c2efb8bfbc7a9",
      "e7e9928795ee49f7b31e2b89bac9e776",
      "873f977b45ab4d12afc1ac92440bfab9",
      "678d86604921432d8be5459d294609f2",
      "32635e320ac349f684cd9e16795ce807",
      "275f7797ad5f490ba349638538ae8779",
      "6c1fe80ef60142569626c9eef52c2766",
      "89ac79e74e2d4379991d0592786507e2",
      "2f429f24519e4c94b2c83f2f178fe564",
      "da2c83979f2e4ec5b40c5cbec566a8a9",
      "880da065c3b6429fa37edfa3be08f9a4",
      "07255b4e1f87422c96f4ef654101f28b",
      "7c886f05e8be4982a23cb5648715e19b"
     ]
    },
    "id": "RSqisQoF85tq",
    "outputId": "ab2f73e0-c296-4004-e727-2abfc5f1460e"
   },
   "outputs": [
    {
     "data": {
      "application/vnd.jupyter.widget-view+json": {
       "model_id": "c89a0fb7db824bc99d6bac33a5d3261b",
       "version_major": 2,
       "version_minor": 0
      },
      "text/plain": [
       "HBox(children=(FloatProgress(value=0.0, description='Downloading', max=1042301.0, style=ProgressStyle(descript…"
      ]
     },
     "metadata": {
      "tags": []
     },
     "output_type": "display_data"
    },
    {
     "name": "stdout",
     "output_type": "stream",
     "text": [
      "\n"
     ]
    },
    {
     "data": {
      "application/vnd.jupyter.widget-view+json": {
       "model_id": "275f7797ad5f490ba349638538ae8779",
       "version_major": 2,
       "version_minor": 0
      },
      "text/plain": [
       "HBox(children=(FloatProgress(value=0.0, description='Downloading', max=456318.0, style=ProgressStyle(descripti…"
      ]
     },
     "metadata": {
      "tags": []
     },
     "output_type": "display_data"
    },
    {
     "name": "stderr",
     "output_type": "stream",
     "text": [
      "Special tokens have been added in the vocabulary, make sure the associated word embedding are fine-tuned or trained.\n"
     ]
    },
    {
     "name": "stdout",
     "output_type": "stream",
     "text": [
      "\n"
     ]
    }
   ],
   "source": [
    "tokenizer = GPT2Tokenizer.from_pretrained('gpt2-medium', bos_token='<bos>', eos_token='<eos>', pad_token='<pad>', additional_special_tokens = SPECIAL_TOKENS) #gpt2-medium"
   ]
  },
  {
   "cell_type": "code",
   "execution_count": null,
   "metadata": {
    "colab": {
     "base_uri": "https://localhost:8080/"
    },
    "id": "iLwvmoszi-FL",
    "outputId": "78a8d203-b3b8-494d-a124-27219c7e5254"
   },
   "outputs": [
    {
     "data": {
      "text/plain": [
       "50257"
      ]
     },
     "execution_count": 69,
     "metadata": {
      "tags": []
     },
     "output_type": "execute_result"
    }
   ],
   "source": [
    "tokenizer.vocab_size"
   ]
  },
  {
   "cell_type": "code",
   "execution_count": null,
   "metadata": {
    "id": "2MiAYaZZz3RP"
   },
   "outputs": [],
   "source": [
    "sentiments = df.adjs\n",
    "captions = df.tokensNotadjs\n",
    "resultWanted = df.tokens"
   ]
  },
  {
   "cell_type": "code",
   "execution_count": null,
   "metadata": {
    "id": "aYT5l_pH3H1K"
   },
   "outputs": [],
   "source": [
    "bos, eos, caption, result = \"<bos>\", \"<eos>\", \"<caption>\", \"<result>\"\n",
    "#sequence = [[bos] + sentiments[1]] + [[caption] + captions[1]] + [[result] + resultWanted[1] + [eos]] "
   ]
  },
  {
   "cell_type": "code",
   "execution_count": null,
   "metadata": {
    "id": "btB4sp1KBW_I"
   },
   "outputs": [],
   "source": [
    "max_length=128\n",
    "# Now we can pad reply and distractor inputs and targets to the same length\n",
    "def pad(x, padding):\n",
    "    return x + [padding] * (max_length - len(x))"
   ]
  },
  {
   "cell_type": "markdown",
   "metadata": {
    "id": "PRdRjN3yGSN5"
   },
   "source": [
    "# Finetune GPT2 Language Model"
   ]
  },
  {
   "cell_type": "code",
   "execution_count": null,
   "metadata": {
    "id": "Icy9jUCRbklr"
   },
   "outputs": [],
   "source": [
    "class GPT2Dataset(Dataset):\n",
    "\n",
    "  def __init__(self, sentiments, captions, resultWanted, tokenizer, gpt2_type=\"gpt2\", max_length=128):\n",
    "\n",
    "    self.tokenizer = tokenizer\n",
    "    self.input_ids = []\n",
    "    self.attn_masks = []\n",
    "    self.token_type_ids = []\n",
    "    self.position_ids = []\n",
    "    self.labels = []\n",
    "\n",
    "    for i in range(0, len(sentiments)):\n",
    "      sequence = [[bos] + sentiments[1]] + [[caption] + captions[1]] + [[result] + resultWanted[1] + [eos]]\n",
    "      words = list(chain(*sequence))\n",
    "      words = tokenizer.convert_tokens_to_ids(words)\n",
    "      segments = [caption if i in [0,1] else result for i, s in enumerate(sequence) for _ in s]\n",
    "      segments = tokenizer.convert_tokens_to_ids(segments)\n",
    "      position = list(range(len(words)))\n",
    "      attention = [1] * len(words)\n",
    "\n",
    "      lm_targets = ([-1] * sum(len(s) for s in sequence[:-1])) + [-1] + tokenizer.convert_tokens_to_ids(sequence[-1][1:])\n",
    "      last_token = len(words) - 1\n",
    "      \n",
    "      (words, segments) = [pad(x, tokenizer.convert_tokens_to_ids('<pad>')) for x in (words, segments)]\n",
    "      lm_targets = pad(lm_targets, -1)\n",
    "      attention = pad(attention, 0)\n",
    "      \n",
    "      # words token\n",
    "      self.input_ids.append(torch.tensor(words, dtype=torch.long))\n",
    "      # segment token\n",
    "      self.token_type_ids.append(torch.tensor(segments, dtype=torch.long))\n",
    "      # position token\n",
    "      self.position_ids.append(torch.tensor(position, dtype=torch.long))\n",
    "      # attention mask\n",
    "      self.attn_masks.append(torch.tensor(attention, dtype=torch.long)) \n",
    "      # language modeling label\n",
    "      self.labels.append(torch.tensor(lm_targets, dtype=torch.long))\n",
    "    \n",
    "  def __len__(self):\n",
    "    return len(self.input_ids)\n",
    "\n",
    "  def __getitem__(self, idx):\n",
    "    return self.input_ids[idx], self.token_type_ids[idx], self.position_ids[idx], self.attn_masks[idx], self.labels[idx]"
   ]
  },
  {
   "cell_type": "code",
   "execution_count": null,
   "metadata": {
    "colab": {
     "base_uri": "https://localhost:8080/"
    },
    "id": "2gjvZmYODEG8",
    "outputId": "56a58d11-4f6f-45c4-93fb-fd5d14fe99fc"
   },
   "outputs": [
    {
     "name": "stdout",
     "output_type": "stream",
     "text": [
      "7,982 training samples\n",
      "  887 validation samples\n"
     ]
    }
   ],
   "source": [
    "dataset = GPT2Dataset(sentiments, captions, resultWanted, tokenizer, max_length=128)\n",
    "\n",
    "# Split into training and validation sets\n",
    "train_size = int(0.9 * len(dataset))\n",
    "val_size = len(dataset) - train_size\n",
    "\n",
    "train_dataset, val_dataset = random_split(dataset, [train_size, val_size], generator=torch.Generator().manual_seed(42))\n",
    "\n",
    "print('{:>5,} training samples'.format(train_size))\n",
    "print('{:>5,} validation samples'.format(val_size))"
   ]
  },
  {
   "cell_type": "code",
   "execution_count": null,
   "metadata": {
    "id": "vvS3z3HjC2tH"
   },
   "outputs": [],
   "source": [
    "batch_size = 2"
   ]
  },
  {
   "cell_type": "code",
   "execution_count": null,
   "metadata": {
    "id": "gKvyYiuFJpzN"
   },
   "outputs": [],
   "source": [
    "# Create the DataLoaders for our training and validation datasets.\n",
    "# We'll take training samples in random order. \n",
    "train_dataloader = DataLoader(\n",
    "            train_dataset,  # The training samples.\n",
    "            sampler = RandomSampler(train_dataset), # Select batches randomly\n",
    "            batch_size = batch_size # Trains with this batch size.\n",
    "        )\n",
    "\n",
    "# For validation the order doesn't matter, so we'll just read them sequentially.\n",
    "validation_dataloader = DataLoader(\n",
    "            val_dataset, # The validation samples.\n",
    "            sampler = SequentialSampler(val_dataset), # Pull out batches sequentially.\n",
    "            batch_size = batch_size # Evaluate with this batch size.\n",
    "        )"
   ]
  },
  {
   "cell_type": "code",
   "execution_count": null,
   "metadata": {
    "colab": {
     "base_uri": "https://localhost:8080/",
     "height": 132,
     "referenced_widgets": [
      "d23a6c56b88344298e8fdcccd3574efd",
      "a5bd23b9f36c445ea5300559f3e97286",
      "060e4273609a4af7b58698945ac520d4",
      "2a43187a7248445a8332b413df0cd47c",
      "71fda2db73374c529c6dd0aec9f90898",
      "ac4e461671e0447db18ea02a96a1a4d4",
      "81888fcdc2124d6083504bb42c9dc52f",
      "28cdfc139e2f4eb486269c06e4575752",
      "aeef485bfc4d4328846758e64f517c60",
      "981d74b117a248c783375826c96efedf",
      "02800f84a67d4dfdb7501f128dd2e3b0",
      "78096826b208470da83c2c14ef16551f",
      "bc6470a27dc8492cb59499e4240e6c71",
      "999cd8ca64f740cdbe9c6cadfbcc786e",
      "fba8a4d2e95f4a05857302ae906ffde8",
      "5f21d4ab2b924000b5533f627d53b7b1"
     ]
    },
    "id": "UtzzZkrwMQI7",
    "outputId": "7d3ff4a7-12fd-49d7-9038-6905092f7480"
   },
   "outputs": [
    {
     "data": {
      "application/vnd.jupyter.widget-view+json": {
       "model_id": "d23a6c56b88344298e8fdcccd3574efd",
       "version_major": 2,
       "version_minor": 0
      },
      "text/plain": [
       "HBox(children=(FloatProgress(value=0.0, description='Downloading', max=718.0, style=ProgressStyle(description_…"
      ]
     },
     "metadata": {
      "tags": []
     },
     "output_type": "display_data"
    },
    {
     "name": "stdout",
     "output_type": "stream",
     "text": [
      "\n"
     ]
    },
    {
     "data": {
      "application/vnd.jupyter.widget-view+json": {
       "model_id": "aeef485bfc4d4328846758e64f517c60",
       "version_major": 2,
       "version_minor": 0
      },
      "text/plain": [
       "HBox(children=(FloatProgress(value=0.0, description='Downloading', max=1520013706.0, style=ProgressStyle(descr…"
      ]
     },
     "metadata": {
      "tags": []
     },
     "output_type": "display_data"
    },
    {
     "name": "stdout",
     "output_type": "stream",
     "text": [
      "\n"
     ]
    },
    {
     "data": {
      "text/plain": [
       "Embedding(53530, 1024)"
      ]
     },
     "execution_count": 29,
     "metadata": {
      "tags": []
     },
     "output_type": "execute_result"
    }
   ],
   "source": [
    "model = GPT2LMHeadModel.from_pretrained('gpt2-medium')\n",
    "model.resize_token_embeddings(len(tokenizer))"
   ]
  },
  {
   "cell_type": "code",
   "execution_count": null,
   "metadata": {
    "id": "eKJuFXKfMq2e"
   },
   "outputs": [],
   "source": [
    "BATCH_SIZE = 2\n",
    "EPOCHS = 3\n",
    "LEARNING_RATE = 5e-4\n",
    "WARMUP_STEPS = 200\n",
    "MAX_SEQ_LEN = 128\n",
    "total_steps = len(train_dataloader) * EPOCHS\n",
    "from transformers import AdamW, get_linear_schedule_with_warmup\n",
    "\n",
    "device = 'cpu'\n",
    "if torch.cuda.is_available():\n",
    "    device = 'cuda'"
   ]
  },
  {
   "cell_type": "code",
   "execution_count": null,
   "metadata": {
    "colab": {
     "base_uri": "https://localhost:8080/"
    },
    "id": "tU1_P5UsNEuk",
    "outputId": "98003bc6-ef2d-4f47-d44b-2ce3cb9a09da"
   },
   "outputs": [
    {
     "name": "stdout",
     "output_type": "stream",
     "text": [
      "EPOCH 0 started==============================\n",
      "sum loss 898.6929321289062\n",
      "sum loss 51.47236251831055\n",
      "sum loss 17.49954605102539\n",
      "sum loss 2.403780460357666\n",
      "sum loss 0.32820817828178406\n",
      "sum loss 0.36773279309272766\n",
      "sum loss 1.5916633605957031\n",
      "sum loss 0.08908189833164215\n",
      "sum loss 0.060470033437013626\n",
      "sum loss 0.034276917576789856\n",
      "sum loss 0.030187247321009636\n",
      "sum loss 0.12591131031513214\n",
      "sum loss 0.1246960386633873\n",
      "sum loss 0.012645425274968147\n",
      "sum loss 0.022785553708672523\n",
      "sum loss 0.007820970378816128\n",
      "sum loss 0.02997579053044319\n",
      "sum loss 0.021587330847978592\n",
      "sum loss 0.03825334832072258\n",
      "EPOCH 1 started==============================\n",
      "sum loss 0.002597853308543563\n",
      "sum loss 0.11651040613651276\n",
      "sum loss 0.04950220137834549\n",
      "sum loss 0.028491796925663948\n",
      "sum loss 0.03410680592060089\n",
      "sum loss 0.008645609021186829\n",
      "sum loss 0.0022555883042514324\n",
      "sum loss 0.0012999805621802807\n",
      "sum loss 0.03342319279909134\n",
      "sum loss 0.014898043125867844\n",
      "sum loss 0.01154068298637867\n",
      "sum loss 0.0008257759036496282\n",
      "sum loss 0.0011993017978966236\n",
      "sum loss 0.001596201560460031\n",
      "sum loss 0.0016708357725292444\n",
      "sum loss 0.004093540366739035\n",
      "sum loss 0.0006229905411601067\n",
      "sum loss 0.0006541881011798978\n",
      "sum loss 0.000852983386721462\n",
      "sum loss 0.0045210858806967735\n",
      "EPOCH 2 started==============================\n",
      "sum loss 341.4439392089844\n",
      "sum loss 90.22283172607422\n",
      "sum loss 54.96650695800781\n",
      "sum loss 32.4415283203125\n",
      "sum loss 19.072372436523438\n",
      "sum loss 13.00252628326416\n",
      "sum loss 9.453442573547363\n",
      "sum loss 6.605620384216309\n",
      "sum loss 4.786683082580566\n",
      "sum loss 4.092087745666504\n",
      "sum loss 2.332289218902588\n",
      "sum loss 1.5845509767532349\n",
      "sum loss 0.9276593923568726\n",
      "sum loss 0.319072425365448\n",
      "sum loss 0.8721742630004883\n",
      "sum loss 0.3035224676132202\n",
      "sum loss 0.1261913776397705\n",
      "sum loss 0.6597283482551575\n",
      "sum loss 0.12281591445207596\n",
      "sum loss 0.03921741247177124\n"
     ]
    }
   ],
   "source": [
    "model = model.to(device)\n",
    "model.train()\n",
    "optimizer = AdamW(model.parameters(), lr=LEARNING_RATE)\n",
    "scheduler = get_linear_schedule_with_warmup(optimizer, num_warmup_steps=WARMUP_STEPS, num_training_steps=total_steps ,last_epoch = -1)\n",
    "proc_seq_count = 0\n",
    "sum_loss = 0.0\n",
    "batch_count = 0\n",
    "\n",
    "models_folder = \"trained_models\"\n",
    "if not os.path.exists(models_folder):\n",
    "    os.mkdir(models_folder)\n",
    "\n",
    "for epoch in range(EPOCHS):\n",
    "    \n",
    "    print(f\"EPOCH {epoch} started\" + '=' * 30)\n",
    "    \n",
    "    for idx, batch in enumerate(train_dataloader):\n",
    "        b_input_ids = batch[0].to(device)\n",
    "        b_token_type_ids = batch[1].to(device)\n",
    "        b_position_ids = batch[2].to(device)\n",
    "        b_masks = batch[3].to(device)\n",
    "        b_labels = batch[4].to(device)\n",
    "        \n",
    "        outputs = model(input_ids=b_input_ids, \n",
    "                        attention_mask = b_masks, \n",
    "                        labels=b_input_ids)\n",
    "        loss, logits = outputs[:2]                        \n",
    "        loss.backward()\n",
    "        sum_loss = sum_loss + loss.detach().data\n",
    "                       \n",
    "        proc_seq_count = proc_seq_count + 1\n",
    "        if proc_seq_count == BATCH_SIZE:\n",
    "            proc_seq_count = 0    \n",
    "            batch_count += 1\n",
    "            optimizer.step()\n",
    "            scheduler.step() \n",
    "            optimizer.zero_grad()\n",
    "            model.zero_grad()\n",
    "\n",
    "        if batch_count == 100:\n",
    "            print(f\"sum loss {sum_loss}\")\n",
    "            batch_count = 0\n",
    "            sum_loss = 0.0\n",
    "    \n",
    "    # Store the model after each epoch to compare the performance of them\n",
    "    torch.save(model.state_dict(), os.path.join(models_folder, f\"gpt2_medium_{epoch}.pt\"))"
   ]
  },
  {
   "cell_type": "code",
   "execution_count": null,
   "metadata": {
    "colab": {
     "base_uri": "https://localhost:8080/"
    },
    "id": "QxqSjjH0bk3-",
    "outputId": "dd10e422-0395-419b-f716-296999d6c930"
   },
   "outputs": [
    {
     "name": "stdout",
     "output_type": "stream",
     "text": [
      "Mounted at /content/gdrive\n"
     ]
    }
   ],
   "source": [
    "from google.colab import drive\n",
    "drive.mount('/content/gdrive')"
   ]
  },
  {
   "cell_type": "code",
   "execution_count": null,
   "metadata": {
    "id": "7lVOi4n0bm7m"
   },
   "outputs": [],
   "source": [
    "model_save_name = 'gpt2.pt'\n",
    "path = F\"/content/gdrive/My Drive/{model_save_name}\" \n",
    "torch.save(model.state_dict(), path)"
   ]
  },
  {
   "cell_type": "markdown",
   "metadata": {
    "id": "KZr2QHv4m8q8"
   },
   "source": [
    "# Display Model Info"
   ]
  },
  {
   "cell_type": "code",
   "execution_count": null,
   "metadata": {
    "colab": {
     "base_uri": "https://localhost:8080/",
     "height": 173
    },
    "id": "Mxsoe-u7Noqk",
    "outputId": "73723a87-c9a3-4cc5-82a3-b9921c136d7f"
   },
   "outputs": [
    {
     "data": {
      "text/html": [
       "<div>\n",
       "<style scoped>\n",
       "    .dataframe tbody tr th:only-of-type {\n",
       "        vertical-align: middle;\n",
       "    }\n",
       "\n",
       "    .dataframe tbody tr th {\n",
       "        vertical-align: top;\n",
       "    }\n",
       "\n",
       "    .dataframe thead th {\n",
       "        text-align: right;\n",
       "    }\n",
       "</style>\n",
       "<table border=\"1\" class=\"dataframe\">\n",
       "  <thead>\n",
       "    <tr style=\"text-align: right;\">\n",
       "      <th></th>\n",
       "      <th>Training Loss</th>\n",
       "      <th>Valid. Loss</th>\n",
       "      <th>Training Time</th>\n",
       "      <th>Validation Time</th>\n",
       "    </tr>\n",
       "    <tr>\n",
       "      <th>epoch</th>\n",
       "      <th></th>\n",
       "      <th></th>\n",
       "      <th></th>\n",
       "      <th></th>\n",
       "    </tr>\n",
       "  </thead>\n",
       "  <tbody>\n",
       "    <tr>\n",
       "      <th>1</th>\n",
       "      <td>9.89</td>\n",
       "      <td>5.19</td>\n",
       "      <td>0:08:43</td>\n",
       "      <td>0:00:10</td>\n",
       "    </tr>\n",
       "    <tr>\n",
       "      <th>2</th>\n",
       "      <td>5.75</td>\n",
       "      <td>3.56</td>\n",
       "      <td>0:08:43</td>\n",
       "      <td>0:00:10</td>\n",
       "    </tr>\n",
       "    <tr>\n",
       "      <th>3</th>\n",
       "      <td>3.32</td>\n",
       "      <td>2.11</td>\n",
       "      <td>0:08:43</td>\n",
       "      <td>0:00:10</td>\n",
       "    </tr>\n",
       "  </tbody>\n",
       "</table>\n",
       "</div>"
      ],
      "text/plain": [
       "       Training Loss  Valid. Loss Training Time Validation Time\n",
       "epoch                                                          \n",
       "1               9.89         5.19       0:08:43         0:00:10\n",
       "2               5.75         3.56       0:08:43         0:00:10\n",
       "3               3.32         2.11       0:08:43         0:00:10"
      ]
     },
     "execution_count": 36,
     "metadata": {
      "tags": []
     },
     "output_type": "execute_result"
    }
   ],
   "source": [
    "# Display floats with two decimal places.\n",
    "pd.set_option('precision', 2)\n",
    "\n",
    "# Create a DataFrame from our training statistics.\n",
    "df_stats = pd.DataFrame(data=training_stats)\n",
    "\n",
    "# Use the 'epoch' as the row index.\n",
    "df_stats = df_stats.set_index('epoch')\n",
    "\n",
    "# A hack to force the column headers to wrap.\n",
    "#df = df.style.set_table_styles([dict(selector=\"th\",props=[('max-width', '70px')])])\n",
    "\n",
    "# Display the table.\n",
    "df_stats"
   ]
  },
  {
   "cell_type": "code",
   "execution_count": null,
   "metadata": {
    "colab": {
     "base_uri": "https://localhost:8080/",
     "height": 427
    },
    "id": "1Zn3ECHVmz42",
    "outputId": "e8ee0a7a-585c-42b0-ef7f-e15586301d56"
   },
   "outputs": [
    {
     "data": {
      "image/png": "[encoded data removed]",
      "text/plain": [
       "<Figure size 864x432 with 1 Axes>"
      ]
     },
     "metadata": {
      "tags": []
     },
     "output_type": "display_data"
    }
   ],
   "source": [
    "# Use plot styling from seaborn.\n",
    "sns.set(style='darkgrid')\n",
    "\n",
    "# Increase the plot size and font size.\n",
    "sns.set(font_scale=1.5)\n",
    "plt.rcParams[\"figure.figsize\"] = (12,6)\n",
    "\n",
    "# Plot the learning curve.\n",
    "plt.plot(df_stats['Training Loss'], 'b-o', label=\"Training\")\n",
    "plt.plot(df_stats['Valid. Loss'], 'g-o', label=\"Validation\")\n",
    "\n",
    "# Label the plot.\n",
    "plt.title(\"Training & Validation Loss\")\n",
    "plt.xlabel(\"Epoch\")\n",
    "plt.ylabel(\"Loss\")\n",
    "plt.legend()\n",
    "plt.xticks([1, 2, 3, 4])\n",
    "\n",
    "plt.show()"
   ]
  },
  {
   "cell_type": "code",
   "execution_count": null,
   "metadata": {
    "colab": {
     "base_uri": "https://localhost:8080/"
    },
    "id": "hL8SLNFtm1ZB",
    "outputId": "3638b5e5-34b7-4131-b06b-1c1faf2a320c"
   },
   "outputs": [
    {
     "name": "stdout",
     "output_type": "stream",
     "text": [
      "The GPT-2 model has 148 different named parameters.\n",
      "\n",
      "==== Embedding Layer ====\n",
      "\n",
      "transformer.wte.weight                                  (53530, 768)\n",
      "transformer.wpe.weight                                   (1024, 768)\n",
      "\n",
      "==== First Transformer ====\n",
      "\n",
      "transformer.h.0.ln_1.weight                                   (768,)\n",
      "transformer.h.0.ln_1.bias                                     (768,)\n",
      "transformer.h.0.attn.c_attn.weight                       (768, 2304)\n",
      "transformer.h.0.attn.c_attn.bias                             (2304,)\n",
      "transformer.h.0.attn.c_proj.weight                        (768, 768)\n",
      "transformer.h.0.attn.c_proj.bias                              (768,)\n",
      "transformer.h.0.ln_2.weight                                   (768,)\n",
      "transformer.h.0.ln_2.bias                                     (768,)\n",
      "transformer.h.0.mlp.c_fc.weight                          (768, 3072)\n",
      "transformer.h.0.mlp.c_fc.bias                                (3072,)\n",
      "transformer.h.0.mlp.c_proj.weight                        (3072, 768)\n",
      "transformer.h.0.mlp.c_proj.bias                               (768,)\n",
      "\n",
      "==== Output Layer ====\n",
      "\n",
      "transformer.ln_f.weight                                       (768,)\n",
      "transformer.ln_f.bias                                         (768,)\n"
     ]
    }
   ],
   "source": [
    "# Get all of the model's parameters as a list of tuples.\n",
    "params = list(model.named_parameters())\n",
    "\n",
    "print('The GPT-2 model has {:} different named parameters.\\n'.format(len(params)))\n",
    "\n",
    "print('==== Embedding Layer ====\\n')\n",
    "\n",
    "for p in params[0:2]:\n",
    "    print(\"{:<55} {:>12}\".format(p[0], str(tuple(p[1].size()))))\n",
    "\n",
    "print('\\n==== First Transformer ====\\n')\n",
    "\n",
    "for p in params[2:14]:\n",
    "    print(\"{:<55} {:>12}\".format(p[0], str(tuple(p[1].size()))))\n",
    "\n",
    "print('\\n==== Output Layer ====\\n')\n",
    "\n",
    "for p in params[-2:]:\n",
    "    print(\"{:<55} {:>12}\".format(p[0], str(tuple(p[1].size()))))"
   ]
  },
  {
   "cell_type": "markdown",
   "metadata": {
    "id": "G7b0Z5E7m6tL"
   },
   "source": [
    "# Saving & Loading Fine-Tuned Model"
   ]
  },
  {
   "cell_type": "code",
   "execution_count": null,
   "metadata": {
    "colab": {
     "base_uri": "https://localhost:8080/"
    },
    "id": "xCyGXZ0Dm7Yt",
    "outputId": "7ed45c2f-8faf-4203-cadd-8ec9b4328325"
   },
   "outputs": [
    {
     "name": "stdout",
     "output_type": "stream",
     "text": [
      "Saving model to ./model_save/\n"
     ]
    },
    {
     "data": {
      "text/plain": [
       "('./model_save/tokenizer_config.json',\n",
       " './model_save/special_tokens_map.json',\n",
       " './model_save/vocab.json',\n",
       " './model_save/merges.txt',\n",
       " './model_save/added_tokens.json')"
      ]
     },
     "execution_count": 39,
     "metadata": {
      "tags": []
     },
     "output_type": "execute_result"
    }
   ],
   "source": [
    "# Saving best-practices: if you use defaults names for the model, you can reload it using from_pretrained()\n",
    "\n",
    "output_dir = './model_save/'\n",
    "\n",
    "# Create output directory if needed\n",
    "if not os.path.exists(output_dir):\n",
    "    os.makedirs(output_dir)\n",
    "\n",
    "print(\"Saving model to %s\" % output_dir)\n",
    "\n",
    "# Save a trained model, configuration and tokenizer using `save_pretrained()`.\n",
    "# They can then be reloaded using `from_pretrained()`\n",
    "model_to_save = model.module if hasattr(model, 'module') else model  # Take care of distributed/parallel training\n",
    "model_to_save.save_pretrained(output_dir)\n",
    "tokenizer.save_pretrained(output_dir)\n",
    "\n",
    "# Good practice: save your training arguments together with the trained model\n",
    "# torch.save(args, os.path.join(output_dir, 'training_args.bin'))"
   ]
  },
  {
   "cell_type": "code",
   "execution_count": null,
   "metadata": {
    "colab": {
     "base_uri": "https://localhost:8080/"
    },
    "id": "28JbvnItnBbW",
    "outputId": "6435860e-8376-4a84-c98d-be2d082c6550"
   },
   "outputs": [
    {
     "name": "stdout",
     "output_type": "stream",
     "text": [
      "total 509760K\n",
      "-rw-r--r-- 1 root root     58K Nov 18 09:20 added_tokens.json\n",
      "-rw-r--r-- 1 root root      1K Nov 18 09:20 config.json\n",
      "-rw-r--r-- 1 root root    446K Nov 18 09:20 merges.txt\n",
      "-rw-r--r-- 1 root root 508263K Nov 18 09:20 pytorch_model.bin\n",
      "-rw-r--r-- 1 root root     50K Nov 18 09:20 special_tokens_map.json\n",
      "-rw-r--r-- 1 root root     50K Nov 18 09:20 tokenizer_config.json\n",
      "-rw-r--r-- 1 root root    878K Nov 18 09:20 vocab.json\n"
     ]
    }
   ],
   "source": [
    "!ls -l --block-size=K ./model_save/"
   ]
  },
  {
   "cell_type": "code",
   "execution_count": null,
   "metadata": {
    "colab": {
     "base_uri": "https://localhost:8080/"
    },
    "id": "9_CofLDznCs7",
    "outputId": "f013fbd1-7874-4e53-ab47-12f4d699b6af"
   },
   "outputs": [
    {
     "name": "stdout",
     "output_type": "stream",
     "text": [
      "-rw-r--r-- 1 root root 497M Nov 18 09:20 ./model_save/pytorch_model.bin\n"
     ]
    }
   ],
   "source": [
    "!ls -l --block-size=M ./model_save/pytorch_model.bin"
   ]
  },
  {
   "cell_type": "code",
   "execution_count": null,
   "metadata": {
    "colab": {
     "base_uri": "https://localhost:8080/"
    },
    "id": "SfFvGJ-HnEL7",
    "outputId": "3f62aeaf-6088-4094-e91c-4f2114ad4d0c"
   },
   "outputs": [
    {
     "name": "stdout",
     "output_type": "stream",
     "text": [
      "cp: missing destination file operand after './model_save/'\n",
      "Try 'cp --help' for more information.\n"
     ]
    }
   ],
   "source": [
    "# Copy the model files to a directory in your Google Drive.\n",
    "!cp -r ./model_save/ $data_dir\n",
    "\n",
    "# # Load a trained model and vocabulary that you have fine-tuned\n",
    "#model = GPT2LMHeadModel.from_pretrained(output_dir)\n",
    "#tokenizer = GPT2Tokenizer.from_pretrained(output_dir)\n",
    "#model.to(device)"
   ]
  },
  {
   "cell_type": "markdown",
   "metadata": {
    "id": "cpSCizxHnHbM"
   },
   "source": [
    "# Generate Text"
   ]
  },
  {
   "cell_type": "code",
   "execution_count": null,
   "metadata": {
    "id": "xWRrBZ-SbtZt"
   },
   "outputs": [],
   "source": [
    "model_save_name = 'gpt2.pt'\n",
    "path = F\"/content/gdrive/My Drive/{model_save_name}\"\n",
    "model.load_state_dict(torch.load(path))"
   ]
  },
  {
   "cell_type": "code",
   "execution_count": null,
   "metadata": {
    "id": "9Otc6ZGmSK2W"
   },
   "outputs": [],
   "source": [
    "for i in range(0,len(val_dataset)):\n",
    "  val_dataset[i][0][torch.where(val_dataset[i][0] == 50261)[0]+1:torch.where(val_dataset[i][0] == 50258)[0]+1] = 50259"
   ]
  },
  {
   "cell_type": "code",
   "execution_count": null,
   "metadata": {
    "id": "A1ShIMvIhxbz"
   },
   "outputs": [],
   "source": [
    "# Create the DataLoaders for our training and validation datasets.\n",
    "# We'll take training samples in random order. \n",
    "train_dataloader = DataLoader(\n",
    "            train_dataset,  # The training samples.\n",
    "            sampler = RandomSampler(train_dataset), # Select batches randomly\n",
    "            batch_size = batch_size # Trains with this batch size.\n",
    "        )\n",
    "\n",
    "# For validation the order doesn't matter, so we'll just read them sequentially.\n",
    "validation_dataloader = DataLoader(\n",
    "            val_dataset, # The validation samples.\n",
    "            sampler = SequentialSampler(val_dataset), # Pull out batches sequentially.\n",
    "            batch_size = batch_size # Evaluate with this batch size.\n",
    "        )"
   ]
  },
  {
   "cell_type": "code",
   "execution_count": null,
   "metadata": {
    "id": "KAYoUD4CqO-T"
   },
   "outputs": [],
   "source": [
    "MODEL_EPOCH = 2\n",
    "\n",
    "models_folder = \"trained_models\"\n",
    "\n",
    "model_path = os.path.join(models_folder, f\"gpt2_medium_{MODEL_EPOCH}.pt\")\n",
    "model.load_state_dict(torch.load(model_path))\n",
    "\n",
    "output_file_path = f'generated_{MODEL_EPOCH}.txt'\n",
    "\n",
    "model.eval()\n",
    "if os.path.exists(output_file_path):\n",
    "    os.remove(output_file_path)\n",
    "\n",
    "results = []\n",
    "num = 0\n",
    "with torch.no_grad():\n",
    "   \n",
    "        for idx, batch in enumerate(validation_dataloader):\n",
    "        \n",
    "            finished = False\n",
    "\n",
    "            b_input_ids = batch[0].to(device)\n",
    "            b_token_type_ids = batch[1].to(device)\n",
    "            b_position_ids = batch[2].to(device)\n",
    "            b_masks = batch[3].to(device)\n",
    "            b_labels = batch[4].to(device)\n",
    "\n",
    "            #cur_ids = batch[0].unsqueeze(0).to(device)\n",
    "            cur_ids = torch.tensor(tokenizer.encode(\"<result>\")).unsqueeze(0).long().to(device)\n",
    "\n",
    "            for i in range(128):\n",
    "                outputs = model(cur_ids,\n",
    "                            labels=cur_ids)\n",
    "                loss, logits = outputs[:2]\n",
    "                softmax_logits = torch.softmax(logits[0,-1], dim=0) #Take the first(from only one in this case) batch and the last predicted embedding\n",
    "                if i < 3:\n",
    "                    n = 20\n",
    "                else:\n",
    "                    n = 3\n",
    "                next_token_id = choose_from_top(softmax_logits.to('cpu').numpy(), n=n) #Randomly(from the topN probability distribution) select the next word\n",
    "                cur_ids = torch.cat([cur_ids, torch.ones((1,1)).long().to(device) * next_token_id], dim = 1) # Add the last word to the running sequence\n",
    "\n",
    "                if next_token_id in tokenizer.encode('<eos>'):\n",
    "                    finished = True\n",
    "                    break\n",
    "\n",
    "            \n",
    "            if finished:\n",
    "                \n",
    "                num = num + 1\n",
    "                \n",
    "                output_list = list(cur_ids.squeeze().to('cpu').numpy())\n",
    "                output_text = tokenizer.decode(output_list)\n",
    "                print(output_text)\n",
    "                results.append(output_text)"
   ]
  },
  {
   "cell_type": "markdown",
   "metadata": {},
   "source": [
    "Examples of generated sentences. Could not reproduce it due to time constraint."
   ]
  },
  {
   "cell_type": "code",
   "execution_count": null,
   "metadata": {},
   "outputs": [],
   "source": [
    "'''\n",
    "<result> a great great great example of pizza and a drink i have liked my whole \n",
    "\n",
    "<result> a few zebras and a ostrich standing in a field <e \n",
    "\n",
    "<result> an awesome shot of a huge building <e \n",
    "\n",
    "<result> a man in glasses eating a large pizza off of the plate <e \n",
    "\n",
    "<result> a man standing in a kitchen next to a kitchen counter top <e \n",
    "\n",
    "<result> it is a photo of a man with his cell phone <e \n",
    "\n",
    "<result> a person who is taking a picture in a mirror <result> \n",
    "\n",
    "<result> the young boy sits in a parking lot on a surfboard in the ocean <result> \n",
    "\n",
    "<result> the girl sits in the chair to have a drink <e \n",
    "\n",
    "<result> a great great great <caption> \n",
    "\n",
    "<result> a man with a white helmet on is standing on a grassy area near trees <result> \n",
    "\n",
    "<result> a man with a white helmet on a skateboard as he skateboard down the middle of a concrete block <result> \n",
    "\n",
    "<result> nice new <caption>\n",
    "'''"
   ]
  }
 ],
 "metadata": {
  "accelerator": "GPU",
  "colab": {
   "collapsed_sections": [],
   "name": "gpt2.ipynb",
   "provenance": [],
   "toc_visible": true
  },
  "kernelspec": {
   "display_name": "Python 3",
   "language": "python",
   "name": "python3"
  },
  "language_info": {
   "codemirror_mode": {
    "name": "ipython",
    "version": 3
   },
   "file_extension": ".py",
   "mimetype": "text/x-python",
   "name": "python",
   "nbconvert_exporter": "python",
   "pygments_lexer": "ipython3",
   "version": "3.8.3"
  },
  "widgets": {
   "application/vnd.jupyter.widget-state+json": {
    "02800f84a67d4dfdb7501f128dd2e3b0": {
     "model_module": "@jupyter-widgets/controls",
     "model_name": "FloatProgressModel",
     "state": {
      "_dom_classes": [],
      "_model_module": "@jupyter-widgets/controls",
      "_model_module_version": "1.5.0",
      "_model_name": "FloatProgressModel",
      "_view_count": null,
      "_view_module": "@jupyter-widgets/controls",
      "_view_module_version": "1.5.0",
      "_view_name": "ProgressView",
      "bar_style": "success",
      "description": "Downloading: 100%",
      "description_tooltip": null,
      "layout": "IPY_MODEL_999cd8ca64f740cdbe9c6cadfbcc786e",
      "max": 1520013706,
      "min": 0,
      "orientation": "horizontal",
      "style": "IPY_MODEL_bc6470a27dc8492cb59499e4240e6c71",
      "value": 1520013706
     }
    },
    "060e4273609a4af7b58698945ac520d4": {
     "model_module": "@jupyter-widgets/controls",
     "model_name": "FloatProgressModel",
     "state": {
      "_dom_classes": [],
      "_model_module": "@jupyter-widgets/controls",
      "_model_module_version": "1.5.0",
      "_model_name": "FloatProgressModel",
      "_view_count": null,
      "_view_module": "@jupyter-widgets/controls",
      "_view_module_version": "1.5.0",
      "_view_name": "ProgressView",
      "bar_style": "success",
      "description": "Downloading: 100%",
      "description_tooltip": null,
      "layout": "IPY_MODEL_ac4e461671e0447db18ea02a96a1a4d4",
      "max": 718,
      "min": 0,
      "orientation": "horizontal",
      "style": "IPY_MODEL_71fda2db73374c529c6dd0aec9f90898",
      "value": 718
     }
    },
    "07255b4e1f87422c96f4ef654101f28b": {
     "model_module": "@jupyter-widgets/controls",
     "model_name": "DescriptionStyleModel",
     "state": {
      "_model_module": "@jupyter-widgets/controls",
      "_model_module_version": "1.5.0",
      "_model_name": "DescriptionStyleModel",
      "_view_count": null,
      "_view_module": "@jupyter-widgets/base",
      "_view_module_version": "1.2.0",
      "_view_name": "StyleView",
      "description_width": ""
     }
    },
    "275f7797ad5f490ba349638538ae8779": {
     "model_module": "@jupyter-widgets/controls",
     "model_name": "HBoxModel",
     "state": {
      "_dom_classes": [],
      "_model_module": "@jupyter-widgets/controls",
      "_model_module_version": "1.5.0",
      "_model_name": "HBoxModel",
      "_view_count": null,
      "_view_module": "@jupyter-widgets/controls",
      "_view_module_version": "1.5.0",
      "_view_name": "HBoxView",
      "box_style": "",
      "children": [
       "IPY_MODEL_89ac79e74e2d4379991d0592786507e2",
       "IPY_MODEL_2f429f24519e4c94b2c83f2f178fe564"
      ],
      "layout": "IPY_MODEL_6c1fe80ef60142569626c9eef52c2766"
     }
    },
    "28cdfc139e2f4eb486269c06e4575752": {
     "model_module": "@jupyter-widgets/base",
     "model_name": "LayoutModel",
     "state": {
      "_model_module": "@jupyter-widgets/base",
      "_model_module_version": "1.2.0",
      "_model_name": "LayoutModel",
      "_view_count": null,
      "_view_module": "@jupyter-widgets/base",
      "_view_module_version": "1.2.0",
      "_view_name": "LayoutView",
      "align_content": null,
      "align_items": null,
      "align_self": null,
      "border": null,
      "bottom": null,
      "display": null,
      "flex": null,
      "flex_flow": null,
      "grid_area": null,
      "grid_auto_columns": null,
      "grid_auto_flow": null,
      "grid_auto_rows": null,
      "grid_column": null,
      "grid_gap": null,
      "grid_row": null,
      "grid_template_areas": null,
      "grid_template_columns": null,
      "grid_template_rows": null,
      "height": null,
      "justify_content": null,
      "justify_items": null,
      "left": null,
      "margin": null,
      "max_height": null,
      "max_width": null,
      "min_height": null,
      "min_width": null,
      "object_fit": null,
      "object_position": null,
      "order": null,
      "overflow": null,
      "overflow_x": null,
      "overflow_y": null,
      "padding": null,
      "right": null,
      "top": null,
      "visibility": null,
      "width": null
     }
    },
    "2a43187a7248445a8332b413df0cd47c": {
     "model_module": "@jupyter-widgets/controls",
     "model_name": "HTMLModel",
     "state": {
      "_dom_classes": [],
      "_model_module": "@jupyter-widgets/controls",
      "_model_module_version": "1.5.0",
      "_model_name": "HTMLModel",
      "_view_count": null,
      "_view_module": "@jupyter-widgets/controls",
      "_view_module_version": "1.5.0",
      "_view_name": "HTMLView",
      "description": "",
      "description_tooltip": null,
      "layout": "IPY_MODEL_28cdfc139e2f4eb486269c06e4575752",
      "placeholder": "​",
      "style": "IPY_MODEL_81888fcdc2124d6083504bb42c9dc52f",
      "value": " 718/718 [00:25&lt;00:00, 28.5B/s]"
     }
    },
    "2f429f24519e4c94b2c83f2f178fe564": {
     "model_module": "@jupyter-widgets/controls",
     "model_name": "HTMLModel",
     "state": {
      "_dom_classes": [],
      "_model_module": "@jupyter-widgets/controls",
      "_model_module_version": "1.5.0",
      "_model_name": "HTMLModel",
      "_view_count": null,
      "_view_module": "@jupyter-widgets/controls",
      "_view_module_version": "1.5.0",
      "_view_name": "HTMLView",
      "description": "",
      "description_tooltip": null,
      "layout": "IPY_MODEL_7c886f05e8be4982a23cb5648715e19b",
      "placeholder": "​",
      "style": "IPY_MODEL_07255b4e1f87422c96f4ef654101f28b",
      "value": " 456k/456k [00:00&lt;00:00, 1.22MB/s]"
     }
    },
    "32635e320ac349f684cd9e16795ce807": {
     "model_module": "@jupyter-widgets/base",
     "model_name": "LayoutModel",
     "state": {
      "_model_module": "@jupyter-widgets/base",
      "_model_module_version": "1.2.0",
      "_model_name": "LayoutModel",
      "_view_count": null,
      "_view_module": "@jupyter-widgets/base",
      "_view_module_version": "1.2.0",
      "_view_name": "LayoutView",
      "align_content": null,
      "align_items": null,
      "align_self": null,
      "border": null,
      "bottom": null,
      "display": null,
      "flex": null,
      "flex_flow": null,
      "grid_area": null,
      "grid_auto_columns": null,
      "grid_auto_flow": null,
      "grid_auto_rows": null,
      "grid_column": null,
      "grid_gap": null,
      "grid_row": null,
      "grid_template_areas": null,
      "grid_template_columns": null,
      "grid_template_rows": null,
      "height": null,
      "justify_content": null,
      "justify_items": null,
      "left": null,
      "margin": null,
      "max_height": null,
      "max_width": null,
      "min_height": null,
      "min_width": null,
      "object_fit": null,
      "object_position": null,
      "order": null,
      "overflow": null,
      "overflow_x": null,
      "overflow_y": null,
      "padding": null,
      "right": null,
      "top": null,
      "visibility": null,
      "width": null
     }
    },
    "47533bd075a54483ba4458dec17c3970": {
     "model_module": "@jupyter-widgets/base",
     "model_name": "LayoutModel",
     "state": {
      "_model_module": "@jupyter-widgets/base",
      "_model_module_version": "1.2.0",
      "_model_name": "LayoutModel",
      "_view_count": null,
      "_view_module": "@jupyter-widgets/base",
      "_view_module_version": "1.2.0",
      "_view_name": "LayoutView",
      "align_content": null,
      "align_items": null,
      "align_self": null,
      "border": null,
      "bottom": null,
      "display": null,
      "flex": null,
      "flex_flow": null,
      "grid_area": null,
      "grid_auto_columns": null,
      "grid_auto_flow": null,
      "grid_auto_rows": null,
      "grid_column": null,
      "grid_gap": null,
      "grid_row": null,
      "grid_template_areas": null,
      "grid_template_columns": null,
      "grid_template_rows": null,
      "height": null,
      "justify_content": null,
      "justify_items": null,
      "left": null,
      "margin": null,
      "max_height": null,
      "max_width": null,
      "min_height": null,
      "min_width": null,
      "object_fit": null,
      "object_position": null,
      "order": null,
      "overflow": null,
      "overflow_x": null,
      "overflow_y": null,
      "padding": null,
      "right": null,
      "top": null,
      "visibility": null,
      "width": null
     }
    },
    "5f21d4ab2b924000b5533f627d53b7b1": {
     "model_module": "@jupyter-widgets/base",
     "model_name": "LayoutModel",
     "state": {
      "_model_module": "@jupyter-widgets/base",
      "_model_module_version": "1.2.0",
      "_model_name": "LayoutModel",
      "_view_count": null,
      "_view_module": "@jupyter-widgets/base",
      "_view_module_version": "1.2.0",
      "_view_name": "LayoutView",
      "align_content": null,
      "align_items": null,
      "align_self": null,
      "border": null,
      "bottom": null,
      "display": null,
      "flex": null,
      "flex_flow": null,
      "grid_area": null,
      "grid_auto_columns": null,
      "grid_auto_flow": null,
      "grid_auto_rows": null,
      "grid_column": null,
      "grid_gap": null,
      "grid_row": null,
      "grid_template_areas": null,
      "grid_template_columns": null,
      "grid_template_rows": null,
      "height": null,
      "justify_content": null,
      "justify_items": null,
      "left": null,
      "margin": null,
      "max_height": null,
      "max_width": null,
      "min_height": null,
      "min_width": null,
      "object_fit": null,
      "object_position": null,
      "order": null,
      "overflow": null,
      "overflow_x": null,
      "overflow_y": null,
      "padding": null,
      "right": null,
      "top": null,
      "visibility": null,
      "width": null
     }
    },
    "678d86604921432d8be5459d294609f2": {
     "model_module": "@jupyter-widgets/controls",
     "model_name": "DescriptionStyleModel",
     "state": {
      "_model_module": "@jupyter-widgets/controls",
      "_model_module_version": "1.5.0",
      "_model_name": "DescriptionStyleModel",
      "_view_count": null,
      "_view_module": "@jupyter-widgets/base",
      "_view_module_version": "1.2.0",
      "_view_name": "StyleView",
      "description_width": ""
     }
    },
    "6c1fe80ef60142569626c9eef52c2766": {
     "model_module": "@jupyter-widgets/base",
     "model_name": "LayoutModel",
     "state": {
      "_model_module": "@jupyter-widgets/base",
      "_model_module_version": "1.2.0",
      "_model_name": "LayoutModel",
      "_view_count": null,
      "_view_module": "@jupyter-widgets/base",
      "_view_module_version": "1.2.0",
      "_view_name": "LayoutView",
      "align_content": null,
      "align_items": null,
      "align_self": null,
      "border": null,
      "bottom": null,
      "display": null,
      "flex": null,
      "flex_flow": null,
      "grid_area": null,
      "grid_auto_columns": null,
      "grid_auto_flow": null,
      "grid_auto_rows": null,
      "grid_column": null,
      "grid_gap": null,
      "grid_row": null,
      "grid_template_areas": null,
      "grid_template_columns": null,
      "grid_template_rows": null,
      "height": null,
      "justify_content": null,
      "justify_items": null,
      "left": null,
      "margin": null,
      "max_height": null,
      "max_width": null,
      "min_height": null,
      "min_width": null,
      "object_fit": null,
      "object_position": null,
      "order": null,
      "overflow": null,
      "overflow_x": null,
      "overflow_y": null,
      "padding": null,
      "right": null,
      "top": null,
      "visibility": null,
      "width": null
     }
    },
    "71fda2db73374c529c6dd0aec9f90898": {
     "model_module": "@jupyter-widgets/controls",
     "model_name": "ProgressStyleModel",
     "state": {
      "_model_module": "@jupyter-widgets/controls",
      "_model_module_version": "1.5.0",
      "_model_name": "ProgressStyleModel",
      "_view_count": null,
      "_view_module": "@jupyter-widgets/base",
      "_view_module_version": "1.2.0",
      "_view_name": "StyleView",
      "bar_color": null,
      "description_width": "initial"
     }
    },
    "78096826b208470da83c2c14ef16551f": {
     "model_module": "@jupyter-widgets/controls",
     "model_name": "HTMLModel",
     "state": {
      "_dom_classes": [],
      "_model_module": "@jupyter-widgets/controls",
      "_model_module_version": "1.5.0",
      "_model_name": "HTMLModel",
      "_view_count": null,
      "_view_module": "@jupyter-widgets/controls",
      "_view_module_version": "1.5.0",
      "_view_name": "HTMLView",
      "description": "",
      "description_tooltip": null,
      "layout": "IPY_MODEL_5f21d4ab2b924000b5533f627d53b7b1",
      "placeholder": "​",
      "style": "IPY_MODEL_fba8a4d2e95f4a05857302ae906ffde8",
      "value": " 1.52G/1.52G [00:24&lt;00:00, 61.7MB/s]"
     }
    },
    "7c886f05e8be4982a23cb5648715e19b": {
     "model_module": "@jupyter-widgets/base",
     "model_name": "LayoutModel",
     "state": {
      "_model_module": "@jupyter-widgets/base",
      "_model_module_version": "1.2.0",
      "_model_name": "LayoutModel",
      "_view_count": null,
      "_view_module": "@jupyter-widgets/base",
      "_view_module_version": "1.2.0",
      "_view_name": "LayoutView",
      "align_content": null,
      "align_items": null,
      "align_self": null,
      "border": null,
      "bottom": null,
      "display": null,
      "flex": null,
      "flex_flow": null,
      "grid_area": null,
      "grid_auto_columns": null,
      "grid_auto_flow": null,
      "grid_auto_rows": null,
      "grid_column": null,
      "grid_gap": null,
      "grid_row": null,
      "grid_template_areas": null,
      "grid_template_columns": null,
      "grid_template_rows": null,
      "height": null,
      "justify_content": null,
      "justify_items": null,
      "left": null,
      "margin": null,
      "max_height": null,
      "max_width": null,
      "min_height": null,
      "min_width": null,
      "object_fit": null,
      "object_position": null,
      "order": null,
      "overflow": null,
      "overflow_x": null,
      "overflow_y": null,
      "padding": null,
      "right": null,
      "top": null,
      "visibility": null,
      "width": null
     }
    },
    "81888fcdc2124d6083504bb42c9dc52f": {
     "model_module": "@jupyter-widgets/controls",
     "model_name": "DescriptionStyleModel",
     "state": {
      "_model_module": "@jupyter-widgets/controls",
      "_model_module_version": "1.5.0",
      "_model_name": "DescriptionStyleModel",
      "_view_count": null,
      "_view_module": "@jupyter-widgets/base",
      "_view_module_version": "1.2.0",
      "_view_name": "StyleView",
      "description_width": ""
     }
    },
    "873f977b45ab4d12afc1ac92440bfab9": {
     "model_module": "@jupyter-widgets/base",
     "model_name": "LayoutModel",
     "state": {
      "_model_module": "@jupyter-widgets/base",
      "_model_module_version": "1.2.0",
      "_model_name": "LayoutModel",
      "_view_count": null,
      "_view_module": "@jupyter-widgets/base",
      "_view_module_version": "1.2.0",
      "_view_name": "LayoutView",
      "align_content": null,
      "align_items": null,
      "align_self": null,
      "border": null,
      "bottom": null,
      "display": null,
      "flex": null,
      "flex_flow": null,
      "grid_area": null,
      "grid_auto_columns": null,
      "grid_auto_flow": null,
      "grid_auto_rows": null,
      "grid_column": null,
      "grid_gap": null,
      "grid_row": null,
      "grid_template_areas": null,
      "grid_template_columns": null,
      "grid_template_rows": null,
      "height": null,
      "justify_content": null,
      "justify_items": null,
      "left": null,
      "margin": null,
      "max_height": null,
      "max_width": null,
      "min_height": null,
      "min_width": null,
      "object_fit": null,
      "object_position": null,
      "order": null,
      "overflow": null,
      "overflow_x": null,
      "overflow_y": null,
      "padding": null,
      "right": null,
      "top": null,
      "visibility": null,
      "width": null
     }
    },
    "880da065c3b6429fa37edfa3be08f9a4": {
     "model_module": "@jupyter-widgets/base",
     "model_name": "LayoutModel",
     "state": {
      "_model_module": "@jupyter-widgets/base",
      "_model_module_version": "1.2.0",
      "_model_name": "LayoutModel",
      "_view_count": null,
      "_view_module": "@jupyter-widgets/base",
      "_view_module_version": "1.2.0",
      "_view_name": "LayoutView",
      "align_content": null,
      "align_items": null,
      "align_self": null,
      "border": null,
      "bottom": null,
      "display": null,
      "flex": null,
      "flex_flow": null,
      "grid_area": null,
      "grid_auto_columns": null,
      "grid_auto_flow": null,
      "grid_auto_rows": null,
      "grid_column": null,
      "grid_gap": null,
      "grid_row": null,
      "grid_template_areas": null,
      "grid_template_columns": null,
      "grid_template_rows": null,
      "height": null,
      "justify_content": null,
      "justify_items": null,
      "left": null,
      "margin": null,
      "max_height": null,
      "max_width": null,
      "min_height": null,
      "min_width": null,
      "object_fit": null,
      "object_position": null,
      "order": null,
      "overflow": null,
      "overflow_x": null,
      "overflow_y": null,
      "padding": null,
      "right": null,
      "top": null,
      "visibility": null,
      "width": null
     }
    },
    "89ac79e74e2d4379991d0592786507e2": {
     "model_module": "@jupyter-widgets/controls",
     "model_name": "FloatProgressModel",
     "state": {
      "_dom_classes": [],
      "_model_module": "@jupyter-widgets/controls",
      "_model_module_version": "1.5.0",
      "_model_name": "FloatProgressModel",
      "_view_count": null,
      "_view_module": "@jupyter-widgets/controls",
      "_view_module_version": "1.5.0",
      "_view_name": "ProgressView",
      "bar_style": "success",
      "description": "Downloading: 100%",
      "description_tooltip": null,
      "layout": "IPY_MODEL_880da065c3b6429fa37edfa3be08f9a4",
      "max": 456318,
      "min": 0,
      "orientation": "horizontal",
      "style": "IPY_MODEL_da2c83979f2e4ec5b40c5cbec566a8a9",
      "value": 456318
     }
    },
    "981d74b117a248c783375826c96efedf": {
     "model_module": "@jupyter-widgets/base",
     "model_name": "LayoutModel",
     "state": {
      "_model_module": "@jupyter-widgets/base",
      "_model_module_version": "1.2.0",
      "_model_name": "LayoutModel",
      "_view_count": null,
      "_view_module": "@jupyter-widgets/base",
      "_view_module_version": "1.2.0",
      "_view_name": "LayoutView",
      "align_content": null,
      "align_items": null,
      "align_self": null,
      "border": null,
      "bottom": null,
      "display": null,
      "flex": null,
      "flex_flow": null,
      "grid_area": null,
      "grid_auto_columns": null,
      "grid_auto_flow": null,
      "grid_auto_rows": null,
      "grid_column": null,
      "grid_gap": null,
      "grid_row": null,
      "grid_template_areas": null,
      "grid_template_columns": null,
      "grid_template_rows": null,
      "height": null,
      "justify_content": null,
      "justify_items": null,
      "left": null,
      "margin": null,
      "max_height": null,
      "max_width": null,
      "min_height": null,
      "min_width": null,
      "object_fit": null,
      "object_position": null,
      "order": null,
      "overflow": null,
      "overflow_x": null,
      "overflow_y": null,
      "padding": null,
      "right": null,
      "top": null,
      "visibility": null,
      "width": null
     }
    },
    "999cd8ca64f740cdbe9c6cadfbcc786e": {
     "model_module": "@jupyter-widgets/base",
     "model_name": "LayoutModel",
     "state": {
      "_model_module": "@jupyter-widgets/base",
      "_model_module_version": "1.2.0",
      "_model_name": "LayoutModel",
      "_view_count": null,
      "_view_module": "@jupyter-widgets/base",
      "_view_module_version": "1.2.0",
      "_view_name": "LayoutView",
      "align_content": null,
      "align_items": null,
      "align_self": null,
      "border": null,
      "bottom": null,
      "display": null,
      "flex": null,
      "flex_flow": null,
      "grid_area": null,
      "grid_auto_columns": null,
      "grid_auto_flow": null,
      "grid_auto_rows": null,
      "grid_column": null,
      "grid_gap": null,
      "grid_row": null,
      "grid_template_areas": null,
      "grid_template_columns": null,
      "grid_template_rows": null,
      "height": null,
      "justify_content": null,
      "justify_items": null,
      "left": null,
      "margin": null,
      "max_height": null,
      "max_width": null,
      "min_height": null,
      "min_width": null,
      "object_fit": null,
      "object_position": null,
      "order": null,
      "overflow": null,
      "overflow_x": null,
      "overflow_y": null,
      "padding": null,
      "right": null,
      "top": null,
      "visibility": null,
      "width": null
     }
    },
    "a5bd23b9f36c445ea5300559f3e97286": {
     "model_module": "@jupyter-widgets/base",
     "model_name": "LayoutModel",
     "state": {
      "_model_module": "@jupyter-widgets/base",
      "_model_module_version": "1.2.0",
      "_model_name": "LayoutModel",
      "_view_count": null,
      "_view_module": "@jupyter-widgets/base",
      "_view_module_version": "1.2.0",
      "_view_name": "LayoutView",
      "align_content": null,
      "align_items": null,
      "align_self": null,
      "border": null,
      "bottom": null,
      "display": null,
      "flex": null,
      "flex_flow": null,
      "grid_area": null,
      "grid_auto_columns": null,
      "grid_auto_flow": null,
      "grid_auto_rows": null,
      "grid_column": null,
      "grid_gap": null,
      "grid_row": null,
      "grid_template_areas": null,
      "grid_template_columns": null,
      "grid_template_rows": null,
      "height": null,
      "justify_content": null,
      "justify_items": null,
      "left": null,
      "margin": null,
      "max_height": null,
      "max_width": null,
      "min_height": null,
      "min_width": null,
      "object_fit": null,
      "object_position": null,
      "order": null,
      "overflow": null,
      "overflow_x": null,
      "overflow_y": null,
      "padding": null,
      "right": null,
      "top": null,
      "visibility": null,
      "width": null
     }
    },
    "ac4e461671e0447db18ea02a96a1a4d4": {
     "model_module": "@jupyter-widgets/base",
     "model_name": "LayoutModel",
     "state": {
      "_model_module": "@jupyter-widgets/base",
      "_model_module_version": "1.2.0",
      "_model_name": "LayoutModel",
      "_view_count": null,
      "_view_module": "@jupyter-widgets/base",
      "_view_module_version": "1.2.0",
      "_view_name": "LayoutView",
      "align_content": null,
      "align_items": null,
      "align_self": null,
      "border": null,
      "bottom": null,
      "display": null,
      "flex": null,
      "flex_flow": null,
      "grid_area": null,
      "grid_auto_columns": null,
      "grid_auto_flow": null,
      "grid_auto_rows": null,
      "grid_column": null,
      "grid_gap": null,
      "grid_row": null,
      "grid_template_areas": null,
      "grid_template_columns": null,
      "grid_template_rows": null,
      "height": null,
      "justify_content": null,
      "justify_items": null,
      "left": null,
      "margin": null,
      "max_height": null,
      "max_width": null,
      "min_height": null,
      "min_width": null,
      "object_fit": null,
      "object_position": null,
      "order": null,
      "overflow": null,
      "overflow_x": null,
      "overflow_y": null,
      "padding": null,
      "right": null,
      "top": null,
      "visibility": null,
      "width": null
     }
    },
    "aeef485bfc4d4328846758e64f517c60": {
     "model_module": "@jupyter-widgets/controls",
     "model_name": "HBoxModel",
     "state": {
      "_dom_classes": [],
      "_model_module": "@jupyter-widgets/controls",
      "_model_module_version": "1.5.0",
      "_model_name": "HBoxModel",
      "_view_count": null,
      "_view_module": "@jupyter-widgets/controls",
      "_view_module_version": "1.5.0",
      "_view_name": "HBoxView",
      "box_style": "",
      "children": [
       "IPY_MODEL_02800f84a67d4dfdb7501f128dd2e3b0",
       "IPY_MODEL_78096826b208470da83c2c14ef16551f"
      ],
      "layout": "IPY_MODEL_981d74b117a248c783375826c96efedf"
     }
    },
    "bc6470a27dc8492cb59499e4240e6c71": {
     "model_module": "@jupyter-widgets/controls",
     "model_name": "ProgressStyleModel",
     "state": {
      "_model_module": "@jupyter-widgets/controls",
      "_model_module_version": "1.5.0",
      "_model_name": "ProgressStyleModel",
      "_view_count": null,
      "_view_module": "@jupyter-widgets/base",
      "_view_module_version": "1.2.0",
      "_view_name": "StyleView",
      "bar_color": null,
      "description_width": "initial"
     }
    },
    "bf98b20f49fa4673858c2efb8bfbc7a9": {
     "model_module": "@jupyter-widgets/controls",
     "model_name": "HTMLModel",
     "state": {
      "_dom_classes": [],
      "_model_module": "@jupyter-widgets/controls",
      "_model_module_version": "1.5.0",
      "_model_name": "HTMLModel",
      "_view_count": null,
      "_view_module": "@jupyter-widgets/controls",
      "_view_module_version": "1.5.0",
      "_view_name": "HTMLView",
      "description": "",
      "description_tooltip": null,
      "layout": "IPY_MODEL_32635e320ac349f684cd9e16795ce807",
      "placeholder": "​",
      "style": "IPY_MODEL_678d86604921432d8be5459d294609f2",
      "value": " 1.04M/1.04M [00:01&lt;00:00, 772kB/s]"
     }
    },
    "c89a0fb7db824bc99d6bac33a5d3261b": {
     "model_module": "@jupyter-widgets/controls",
     "model_name": "HBoxModel",
     "state": {
      "_dom_classes": [],
      "_model_module": "@jupyter-widgets/controls",
      "_model_module_version": "1.5.0",
      "_model_name": "HBoxModel",
      "_view_count": null,
      "_view_module": "@jupyter-widgets/controls",
      "_view_module_version": "1.5.0",
      "_view_name": "HBoxView",
      "box_style": "",
      "children": [
       "IPY_MODEL_eeafb84c68804329b95fcc4e8e47f2f4",
       "IPY_MODEL_bf98b20f49fa4673858c2efb8bfbc7a9"
      ],
      "layout": "IPY_MODEL_47533bd075a54483ba4458dec17c3970"
     }
    },
    "d23a6c56b88344298e8fdcccd3574efd": {
     "model_module": "@jupyter-widgets/controls",
     "model_name": "HBoxModel",
     "state": {
      "_dom_classes": [],
      "_model_module": "@jupyter-widgets/controls",
      "_model_module_version": "1.5.0",
      "_model_name": "HBoxModel",
      "_view_count": null,
      "_view_module": "@jupyter-widgets/controls",
      "_view_module_version": "1.5.0",
      "_view_name": "HBoxView",
      "box_style": "",
      "children": [
       "IPY_MODEL_060e4273609a4af7b58698945ac520d4",
       "IPY_MODEL_2a43187a7248445a8332b413df0cd47c"
      ],
      "layout": "IPY_MODEL_a5bd23b9f36c445ea5300559f3e97286"
     }
    },
    "da2c83979f2e4ec5b40c5cbec566a8a9": {
     "model_module": "@jupyter-widgets/controls",
     "model_name": "ProgressStyleModel",
     "state": {
      "_model_module": "@jupyter-widgets/controls",
      "_model_module_version": "1.5.0",
      "_model_name": "ProgressStyleModel",
      "_view_count": null,
      "_view_module": "@jupyter-widgets/base",
      "_view_module_version": "1.2.0",
      "_view_name": "StyleView",
      "bar_color": null,
      "description_width": "initial"
     }
    },
    "e7e9928795ee49f7b31e2b89bac9e776": {
     "model_module": "@jupyter-widgets/controls",
     "model_name": "ProgressStyleModel",
     "state": {
      "_model_module": "@jupyter-widgets/controls",
      "_model_module_version": "1.5.0",
      "_model_name": "ProgressStyleModel",
      "_view_count": null,
      "_view_module": "@jupyter-widgets/base",
      "_view_module_version": "1.2.0",
      "_view_name": "StyleView",
      "bar_color": null,
      "description_width": "initial"
     }
    },
    "eeafb84c68804329b95fcc4e8e47f2f4": {
     "model_module": "@jupyter-widgets/controls",
     "model_name": "FloatProgressModel",
     "state": {
      "_dom_classes": [],
      "_model_module": "@jupyter-widgets/controls",
      "_model_module_version": "1.5.0",
      "_model_name": "FloatProgressModel",
      "_view_count": null,
      "_view_module": "@jupyter-widgets/controls",
      "_view_module_version": "1.5.0",
      "_view_name": "ProgressView",
      "bar_style": "success",
      "description": "Downloading: 100%",
      "description_tooltip": null,
      "layout": "IPY_MODEL_873f977b45ab4d12afc1ac92440bfab9",
      "max": 1042301,
      "min": 0,
      "orientation": "horizontal",
      "style": "IPY_MODEL_e7e9928795ee49f7b31e2b89bac9e776",
      "value": 1042301
     }
    },
    "fba8a4d2e95f4a05857302ae906ffde8": {
     "model_module": "@jupyter-widgets/controls",
     "model_name": "DescriptionStyleModel",
     "state": {
      "_model_module": "@jupyter-widgets/controls",
      "_model_module_version": "1.5.0",
      "_model_name": "DescriptionStyleModel",
      "_view_count": null,
      "_view_module": "@jupyter-widgets/base",
      "_view_module_version": "1.2.0",
      "_view_name": "StyleView",
      "description_width": ""
     }
    }
   }
  }
 },
 "nbformat": 4,
 "nbformat_minor": 1
}
