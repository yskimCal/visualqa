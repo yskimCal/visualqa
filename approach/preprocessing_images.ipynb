{
 "cells": [
  {
   "cell_type": "markdown",
   "metadata": {},
   "source": [
    "# Data preprocessing"
   ]
  },
  {
   "cell_type": "code",
   "execution_count": null,
   "metadata": {
    "colab": {
     "base_uri": "https://localhost:8080/"
    },
    "id": "6vsLXm0hf49d",
    "outputId": "14820586-1bca-4d6d-daa6-6958f3bf9788"
   },
   "outputs": [
    {
     "name": "stdout",
     "output_type": "stream",
     "text": [
      "Mounted at /content/drive\n"
     ]
    }
   ],
   "source": [
    "from google.colab import drive\n",
    "drive.mount('/content/drive')"
   ]
  },
  {
   "cell_type": "code",
   "execution_count": null,
   "metadata": {
    "colab": {
     "base_uri": "https://localhost:8080/"
    },
    "id": "gm2LyBm1f5yP",
    "outputId": "9be8c841-5825-4c1d-b772-a3003262ccef"
   },
   "outputs": [
    {
     "name": "stdout",
     "output_type": "stream",
     "text": [
      "Cloning into 'transformers'...\n",
      "remote: Enumerating objects: 53, done.\u001b[K\n",
      "remote: Counting objects: 100% (53/53), done.\u001b[K\n",
      "remote: Compressing objects: 100% (51/51), done.\u001b[K\n",
      "remote: Total 54608 (delta 15), reused 26 (delta 0), pack-reused 54555\u001b[K\n",
      "Receiving objects: 100% (54608/54608), 40.71 MiB | 25.88 MiB/s, done.\n",
      "Resolving deltas: 100% (38167/38167), done.\n"
     ]
    }
   ],
   "source": [
    "!git clone https://github.com/huggingface/transformers"
   ]
  },
  {
   "cell_type": "code",
   "execution_count": null,
   "metadata": {
    "colab": {
     "base_uri": "https://localhost:8080/"
    },
    "id": "vZPd_Efxf-hi",
    "outputId": "d9125981-5935-4b5e-df91-fdbd0d83cc72"
   },
   "outputs": [
    {
     "name": "stdout",
     "output_type": "stream",
     "text": [
      "Collecting tokenizers==0.8.1RC2\n",
      "\u001b[?25l  Downloading https://files.pythonhosted.org/packages/80/83/8b9fccb9e48eeb575ee19179e2bdde0ee9a1904f97de5f02d19016b8804f/tokenizers-0.8.1rc2-cp36-cp36m-manylinux1_x86_64.whl (3.0MB)\n",
      "\u001b[K     |████████████████████████████████| 3.0MB 9.8MB/s \n",
      "\u001b[?25hInstalling collected packages: tokenizers\n",
      "Successfully installed tokenizers-0.8.1rc2\n"
     ]
    }
   ],
   "source": [
    "!pip install tokenizers==0.8.1RC2"
   ]
  },
  {
   "cell_type": "code",
   "execution_count": null,
   "metadata": {
    "id": "791x3ZDSJQTv"
   },
   "outputs": [],
   "source": [
    "# !pip install -e \".[dev]\"\n",
    "\n",
    "from tokenizers.models import BPE"
   ]
  },
  {
   "cell_type": "code",
   "execution_count": null,
   "metadata": {
    "colab": {
     "base_uri": "https://localhost:8080/"
    },
    "id": "PgH_vLOVYYw0",
    "outputId": "fa1d90a7-d1f2-466e-9c34-50ecc87d2663"
   },
   "outputs": [
    {
     "name": "stdout",
     "output_type": "stream",
     "text": [
      "/content/transformers/examples/lxmert\n"
     ]
    }
   ],
   "source": [
    "%cd /content/transformers/examples/lxmert"
   ]
  },
  {
   "cell_type": "code",
   "execution_count": null,
   "metadata": {
    "colab": {
     "base_uri": "https://localhost:8080/"
    },
    "id": "sNpqIXL4YjOB",
    "outputId": "f8088fb2-ce4e-40be-f093-bea373b0e194"
   },
   "outputs": [
    {
     "name": "stdout",
     "output_type": "stream",
     "text": [
      "Collecting wget\n",
      "  Downloading https://files.pythonhosted.org/packages/47/6a/62e288da7bcda82b935ff0c6cfe542970f04e29c756b0e147251b2fb251f/wget-3.2.zip\n",
      "Building wheels for collected packages: wget\n",
      "  Building wheel for wget (setup.py) ... \u001b[?25l\u001b[?25hdone\n",
      "  Created wheel for wget: filename=wget-3.2-cp36-none-any.whl size=9682 sha256=7481ecea3a8f3312f6afa8da31ae02fcb2d1a9fe9f1972a859fc3625694e30f7\n",
      "  Stored in directory: /root/.cache/pip/wheels/40/15/30/7d8f7cea2902b4db79e3fea550d7d7b85ecb27ef992b618f3f\n",
      "Successfully built wget\n",
      "Installing collected packages: wget\n",
      "Successfully installed wget-3.2\n",
      "Collecting transformers\n",
      "\u001b[?25l  Downloading https://files.pythonhosted.org/packages/99/84/7bc03215279f603125d844bf81c3fb3f2d50fe8e511546eb4897e4be2067/transformers-4.0.0-py3-none-any.whl (1.4MB)\n",
      "\u001b[K     |████████████████████████████████| 1.4MB 8.8MB/s \n",
      "\u001b[?25hCollecting tokenizers==0.9.4\n",
      "\u001b[?25l  Downloading https://files.pythonhosted.org/packages/0f/1c/e789a8b12e28be5bc1ce2156cf87cb522b379be9cadc7ad8091a4cc107c4/tokenizers-0.9.4-cp36-cp36m-manylinux2010_x86_64.whl (2.9MB)\n",
      "\u001b[K     |████████████████████████████████| 2.9MB 30.7MB/s \n",
      "\u001b[?25hRequirement already satisfied: packaging in /usr/local/lib/python3.6/dist-packages (from transformers) (20.4)\n",
      "Requirement already satisfied: regex!=2019.12.17 in /usr/local/lib/python3.6/dist-packages (from transformers) (2019.12.20)\n",
      "Requirement already satisfied: tqdm>=4.27 in /usr/local/lib/python3.6/dist-packages (from transformers) (4.41.1)\n",
      "Requirement already satisfied: requests in /usr/local/lib/python3.6/dist-packages (from transformers) (2.23.0)\n",
      "Requirement already satisfied: dataclasses; python_version < \"3.7\" in /usr/local/lib/python3.6/dist-packages (from transformers) (0.8)\n",
      "Collecting sacremoses\n",
      "\u001b[?25l  Downloading https://files.pythonhosted.org/packages/7d/34/09d19aff26edcc8eb2a01bed8e98f13a1537005d31e95233fd48216eed10/sacremoses-0.0.43.tar.gz (883kB)\n",
      "\u001b[K     |████████████████████████████████| 890kB 49.7MB/s \n",
      "\u001b[?25hRequirement already satisfied: filelock in /usr/local/lib/python3.6/dist-packages (from transformers) (3.0.12)\n",
      "Requirement already satisfied: numpy in /usr/local/lib/python3.6/dist-packages (from transformers) (1.18.5)\n",
      "Requirement already satisfied: six in /usr/local/lib/python3.6/dist-packages (from packaging->transformers) (1.15.0)\n",
      "Requirement already satisfied: pyparsing>=2.0.2 in /usr/local/lib/python3.6/dist-packages (from packaging->transformers) (2.4.7)\n",
      "Requirement already satisfied: urllib3!=1.25.0,!=1.25.1,<1.26,>=1.21.1 in /usr/local/lib/python3.6/dist-packages (from requests->transformers) (1.24.3)\n",
      "Requirement already satisfied: idna<3,>=2.5 in /usr/local/lib/python3.6/dist-packages (from requests->transformers) (2.10)\n",
      "Requirement already satisfied: certifi>=2017.4.17 in /usr/local/lib/python3.6/dist-packages (from requests->transformers) (2020.11.8)\n",
      "Requirement already satisfied: chardet<4,>=3.0.2 in /usr/local/lib/python3.6/dist-packages (from requests->transformers) (3.0.4)\n",
      "Requirement already satisfied: click in /usr/local/lib/python3.6/dist-packages (from sacremoses->transformers) (7.1.2)\n",
      "Requirement already satisfied: joblib in /usr/local/lib/python3.6/dist-packages (from sacremoses->transformers) (0.17.0)\n",
      "Building wheels for collected packages: sacremoses\n",
      "  Building wheel for sacremoses (setup.py) ... \u001b[?25l\u001b[?25hdone\n",
      "  Created wheel for sacremoses: filename=sacremoses-0.0.43-cp36-none-any.whl size=893257 sha256=f85b6e79c55edaca80898235a1ab6430175ddd051d17b01b461932e94df9b216\n",
      "  Stored in directory: /root/.cache/pip/wheels/29/3c/fd/7ce5c3f0666dab31a50123635e6fb5e19ceb42ce38d4e58f45\n",
      "Successfully built sacremoses\n",
      "Installing collected packages: tokenizers, sacremoses, transformers\n",
      "  Found existing installation: tokenizers 0.8.1rc2\n",
      "    Uninstalling tokenizers-0.8.1rc2:\n",
      "      Successfully uninstalled tokenizers-0.8.1rc2\n",
      "Successfully installed sacremoses-0.0.43 tokenizers-0.9.4 transformers-4.0.0\n"
     ]
    }
   ],
   "source": [
    "!pip install wget\n",
    "!pip install transformers"
   ]
  },
  {
   "cell_type": "code",
   "execution_count": null,
   "metadata": {
    "id": "uVQqNeC0d5dL"
   },
   "outputs": [],
   "source": [
    "from IPython.display import clear_output, Image, display\n",
    "import PIL.Image\n",
    "import io\n",
    "import json\n",
    "import torch\n",
    "import numpy as np\n",
    "from processing_image import Preprocess\n",
    "from visualizing_image import SingleImageViz\n",
    "from modeling_frcnn import GeneralizedRCNN\n",
    "from utils import Config\n",
    "import utils\n",
    "from transformers import LxmertModel, LxmertTokenizer\n",
    "import wget\n",
    "import pickle\n",
    "import os"
   ]
  },
  {
   "cell_type": "code",
   "execution_count": null,
   "metadata": {
    "colab": {
     "base_uri": "https://localhost:8080/",
     "height": 351,
     "referenced_widgets": [
      "37db9560a6bd411cb68ded54980ff1f6",
      "da415753f8b14d638de321c237cda940",
      "cc2f9a6e5718491688e790859db040e1",
      "6edf4c2aae154e2fb8a28208b5a64e19",
      "a9679e00ae6744e69ec9d7bca5862273",
      "716e72150ed14b80a0c44ce12416ce73",
      "e6228437fdde4191ba44db1b586387bf",
      "18a20cf4a09f48c68ed8e32dd733fcbf",
      "b07b0dcd84084a17937c77c4b91b69d8",
      "9c9ce7c0435b4f8881c3819dab4560ab",
      "cfdcfc3515f349ef8927ac8924399a43",
      "3c6f2ab74c554038b95cddce2d6f04fd",
      "49afbc6986b94eaea2da76bf902848fa",
      "b5a368aae65a4ad186f0d3ec3b47a66a",
      "179aca5b7ea94c94b8017c61873ffcc6",
      "b8b6a8e9c74c424ca43560a60c6bde43",
      "3f67bc114b534cdb93b1f0df4885e8fb",
      "8a84bebb375a4c5db9c645e801d7ce00",
      "f6909e73672b43e7a13cd21d839e1e5b",
      "a254406f85bf4bc6b86a479b9d160294",
      "ce202aafa14d476890e2e9db658089c0",
      "7175bc96cd5d494a9d2e96b6f1956777",
      "fb89dae90f134da3aeae2cfa9016993d",
      "8c6a46c31eff4c31b5c5b8f879704df5"
     ]
    },
    "id": "s0vTzzs3eRkg",
    "outputId": "6403a19f-630a-4215-a56d-5116144a9138"
   },
   "outputs": [
    {
     "name": "stdout",
     "output_type": "stream",
     "text": [
      "%s not found in cache or force_download set to True, downloading to %s https://s3.amazonaws.com/models.huggingface.co/bert/unc-nlp/frcnn-vg-finetuned/config.yaml /root/.cache/torch/transformers/tmpey67uksw\n"
     ]
    },
    {
     "data": {
      "application/vnd.jupyter.widget-view+json": {
       "model_id": "37db9560a6bd411cb68ded54980ff1f6",
       "version_major": 2,
       "version_minor": 0
      },
      "text/plain": [
       "HBox(children=(FloatProgress(value=0.0, description='Downloading', max=2132.0, style=ProgressStyle(description…"
      ]
     },
     "metadata": {
      "tags": []
     },
     "output_type": "display_data"
    },
    {
     "name": "stdout",
     "output_type": "stream",
     "text": [
      "\n",
      "loading configuration file cache\n",
      "%s not found in cache or force_download set to True, downloading to %s https://cdn.huggingface.co/unc-nlp/frcnn-vg-finetuned/pytorch_model.bin /root/.cache/torch/transformers/tmpk0bhaai5\n"
     ]
    },
    {
     "data": {
      "application/vnd.jupyter.widget-view+json": {
       "model_id": "b07b0dcd84084a17937c77c4b91b69d8",
       "version_major": 2,
       "version_minor": 0
      },
      "text/plain": [
       "HBox(children=(FloatProgress(value=0.0, description='Downloading', max=262398754.0, style=ProgressStyle(descri…"
      ]
     },
     "metadata": {
      "tags": []
     },
     "output_type": "display_data"
    },
    {
     "name": "stdout",
     "output_type": "stream",
     "text": [
      "\n",
      "loading weights file https://cdn.huggingface.co/unc-nlp/frcnn-vg-finetuned/pytorch_model.bin from cache at /root/.cache/torch/transformers/57f6df6abe353be2773f2700159c65615babf39ab5b48114d2b49267672ae10f.77b59256a4cf8343ae0f923246a81489fc8d82f98d082edc2d2037c977c0d9d0\n"
     ]
    },
    {
     "name": "stderr",
     "output_type": "stream",
     "text": [
      "/usr/local/lib/python3.6/dist-packages/torch/nn/modules/container.py:434: UserWarning: Setting attributes on ParameterList is not supported.\n",
      "  warnings.warn(\"Setting attributes on ParameterList is not supported.\")\n"
     ]
    },
    {
     "name": "stdout",
     "output_type": "stream",
     "text": [
      "All model checkpoint weights were used when initializing GeneralizedRCNN.\n",
      "\n",
      "All the weights of GeneralizedRCNN were initialized from the model checkpoint at unc-nlp/frcnn-vg-finetuned.\n",
      "If your task is similar to the task the model of the checkpoint was trained on, you can already use GeneralizedRCNN for predictions without further training.\n"
     ]
    },
    {
     "data": {
      "application/vnd.jupyter.widget-view+json": {
       "model_id": "3f67bc114b534cdb93b1f0df4885e8fb",
       "version_major": 2,
       "version_minor": 0
      },
      "text/plain": [
       "HBox(children=(FloatProgress(value=0.0, description='Downloading', max=231508.0, style=ProgressStyle(descripti…"
      ]
     },
     "metadata": {
      "tags": []
     },
     "output_type": "display_data"
    },
    {
     "name": "stdout",
     "output_type": "stream",
     "text": [
      "\n"
     ]
    }
   ],
   "source": [
    "frcnn_cfg = Config.from_pretrained(\"unc-nlp/frcnn-vg-finetuned\")\n",
    "\n",
    "frcnn = GeneralizedRCNN.from_pretrained(\"unc-nlp/frcnn-vg-finetuned\", config=frcnn_cfg)\n",
    "\n",
    "image_preprocess = Preprocess(frcnn_cfg)\n",
    "lxmert_tokenizer = LxmertTokenizer.from_pretrained(\"unc-nlp/lxmert-base-uncased\")\n"
   ]
  },
  {
   "cell_type": "code",
   "execution_count": null,
   "metadata": {
    "id": "Ye1B39ku8M7l"
   },
   "outputs": [],
   "source": [
    "import glob\n",
    "s_images = '/content/drive/MyDrive/CS685/val2014/'\n",
    "s_img = glob.glob(s_images + '*.jpg')"
   ]
  },
  {
   "cell_type": "code",
   "execution_count": null,
   "metadata": {
    "id": "FxSF0ZJkiAgk"
   },
   "outputs": [],
   "source": [
    "import json\n",
    "senticap_file = \"/content/drive/MyDrive/senticap_dataset/data/senticap_dataset.json\"\n",
    "scap = json.load(open(senticap_file, \"r\"))"
   ]
  },
  {
   "cell_type": "code",
   "execution_count": null,
   "metadata": {
    "colab": {
     "base_uri": "https://localhost:8080/"
    },
    "id": "K7vqANQb8Wm9",
    "outputId": "426516de-c746-4f2e-ab52-0e15113a738b"
   },
   "outputs": [
    {
     "name": "stdout",
     "output_type": "stream",
     "text": [
      "/content/drive/MyDrive/CS685/val2014/COCO_val2014_000000389081.jpg\n"
     ]
    }
   ],
   "source": [
    "s_train_img = []\n",
    "for i in scap['images']:\n",
    "  if i['split'] == 'train':\n",
    "    s_train_img.append(s_images+i['filename'])\n",
    "print(s_train_img[0])"
   ]
  },
  {
   "cell_type": "code",
   "execution_count": null,
   "metadata": {
    "colab": {
     "base_uri": "https://localhost:8080/"
    },
    "id": "Wjap12vxfptT",
    "outputId": "cf54308f-a1e7-4d79-d123-d9333f1b21bf"
   },
   "outputs": [
    {
     "name": "stdout",
     "output_type": "stream",
     "text": [
      "878\n",
      "/content/drive/MyDrive/CS685/val2014/COCO_val2014_000000497106.jpg\n"
     ]
    }
   ],
   "source": [
    "s_test_img = []\n",
    "for i in scap['images']:\n",
    "  if i['split'] == 'test':\n",
    "    s_test_img.append(s_images+i['filename'])\n",
    "print(len(s_test_img))\n",
    "print(s_test_img[0])"
   ]
  },
  {
   "cell_type": "code",
   "execution_count": null,
   "metadata": {
    "colab": {
     "base_uri": "https://localhost:8080/"
    },
    "id": "C6yfR8DBhdLh",
    "outputId": "9e3fdf40-b538-4575-d62f-f223cc01ec1a"
   },
   "outputs": [
    {
     "name": "stdout",
     "output_type": "stream",
     "text": [
      "1217\n",
      "878\n"
     ]
    }
   ],
   "source": [
    "print(len(s_train_img))\n",
    "print(len(s_test_img))"
   ]
  },
  {
   "cell_type": "code",
   "execution_count": null,
   "metadata": {
    "colab": {
     "base_uri": "https://localhost:8080/",
     "height": 114,
     "referenced_widgets": [
      "e5bfe371be184c459cf3b57a5978deb8",
      "e33936ed5e094321b6f081a5fac31e00",
      "2f5589664f284ae7ba9406af8b4a7752",
      "31d11fb48e60490eba4f371ea05ebe5f",
      "61a4507562154383800557a90e2c74b8",
      "83c6e93848c5495587bc03769282500f",
      "2a03f817321b4b1baa6d9b2b33cc232b",
      "9b72fb46e9bf44c39d64a4c99c1492d7",
      "19fa66a6332a401eb5f90f29d1aa0552",
      "f512cfd61caf4e27be4e83fc0fe5b4db",
      "158ee5a16e9547368afb82f4f0071dc0",
      "91315328743e4062a6c4b483e73d4eb7",
      "00948cd860bd464691f33175baad6956",
      "7a8c0edfcb0b470faa4cc02bf17aa370",
      "438427afcfae4bc089f8fd7a2e4d59de",
      "30ac58c7bf6341699563f7b9ed55642c"
     ]
    },
    "id": "tpGgLUKcj583",
    "outputId": "d609bfb7-c7ca-44d4-b59e-35e6b45ad52a"
   },
   "outputs": [
    {
     "data": {
      "application/vnd.jupyter.widget-view+json": {
       "model_id": "e5bfe371be184c459cf3b57a5978deb8",
       "version_major": 2,
       "version_minor": 0
      },
      "text/plain": [
       "HBox(children=(FloatProgress(value=0.0, description='Downloading', max=776.0, style=ProgressStyle(description_…"
      ]
     },
     "metadata": {
      "tags": []
     },
     "output_type": "display_data"
    },
    {
     "name": "stdout",
     "output_type": "stream",
     "text": [
      "\n"
     ]
    },
    {
     "data": {
      "application/vnd.jupyter.widget-view+json": {
       "model_id": "19fa66a6332a401eb5f90f29d1aa0552",
       "version_major": 2,
       "version_minor": 0
      },
      "text/plain": [
       "HBox(children=(FloatProgress(value=0.0, description='Downloading', max=1006130773.0, style=ProgressStyle(descr…"
      ]
     },
     "metadata": {
      "tags": []
     },
     "output_type": "display_data"
    },
    {
     "name": "stdout",
     "output_type": "stream",
     "text": [
      "\n"
     ]
    }
   ],
   "source": [
    "model = LxmertModel.from_pretrained('unc-nlp/lxmert-base-uncased')"
   ]
  },
  {
   "cell_type": "code",
   "execution_count": null,
   "metadata": {
    "colab": {
     "base_uri": "https://localhost:8080/"
    },
    "id": "TIG6FIHMd4Oo",
    "outputId": "2c9c8a95-4edd-401f-c84d-21b018e4a0aa"
   },
   "outputs": [
    {
     "name": "stdout",
     "output_type": "stream",
     "text": [
      "0 Image Done: /content/drive/MyDrive/CS685/val2014/COCO_val2014_000000389081.jpg seconds:  16.66849970817566\n",
      "1 Image Done: /content/drive/MyDrive/CS685/val2014/COCO_val2014_000000290768.jpg seconds:  33.49321126937866\n",
      "2 Image Done: /content/drive/MyDrive/CS685/val2014/COCO_val2014_000000263323.jpg seconds:  50.8152711391449\n",
      "3 Image Done: /content/drive/MyDrive/CS685/val2014/COCO_val2014_000000521634.jpg seconds:  66.70559215545654\n",
      "4 Image Done: /content/drive/MyDrive/CS685/val2014/COCO_val2014_000000226154.jpg seconds:  86.5916736125946\n",
      "5 Image Done: /content/drive/MyDrive/CS685/val2014/COCO_val2014_000000543492.jpg seconds:  102.89471888542175\n",
      "6 Image Done: /content/drive/MyDrive/CS685/val2014/COCO_val2014_000000193194.jpg seconds:  120.71813201904297\n",
      "7 Image Done: /content/drive/MyDrive/CS685/val2014/COCO_val2014_000000212573.jpg seconds:  140.7256622314453\n",
      "8 Image Done: /content/drive/MyDrive/CS685/val2014/COCO_val2014_000000545978.jpg seconds:  159.25845575332642\n",
      "9 Image Done: /content/drive/MyDrive/CS685/val2014/COCO_val2014_000000085160.jpg seconds:  178.9515724182129\n",
      "10 Image Done: /content/drive/MyDrive/CS685/val2014/COCO_val2014_000000435387.jpg seconds:  202.2066617012024\n",
      "11 Image Done: /content/drive/MyDrive/CS685/val2014/COCO_val2014_000000032284.jpg seconds:  220.7734456062317\n",
      "12 Image Done: /content/drive/MyDrive/CS685/val2014/COCO_val2014_000000031471.jpg seconds:  241.3595244884491\n",
      "13 Image Done: /content/drive/MyDrive/CS685/val2014/COCO_val2014_000000561619.jpg seconds:  261.13165616989136\n",
      "14 Image Done: /content/drive/MyDrive/CS685/val2014/COCO_val2014_000000270593.jpg seconds:  288.2384934425354\n",
      "15 Image Done: /content/drive/MyDrive/CS685/val2014/COCO_val2014_000000334185.jpg seconds:  306.22530579566956\n",
      "16 Image Done: /content/drive/MyDrive/CS685/val2014/COCO_val2014_000000487095.jpg seconds:  328.6432921886444\n",
      "17 Image Done: /content/drive/MyDrive/CS685/val2014/COCO_val2014_000000275268.jpg seconds:  344.5031614303589\n",
      "18 Image Done: /content/drive/MyDrive/CS685/val2014/COCO_val2014_000000011364.jpg seconds:  361.69309091567993\n",
      "19 Image Done: /content/drive/MyDrive/CS685/val2014/COCO_val2014_000000338948.jpg seconds:  384.83186984062195\n",
      "20 Image Done: /content/drive/MyDrive/CS685/val2014/COCO_val2014_000000075768.jpg seconds:  402.35847759246826\n",
      "21 Image Done: /content/drive/MyDrive/CS685/val2014/COCO_val2014_000000233825.jpg seconds:  421.4964029788971\n",
      "22 Image Done: /content/drive/MyDrive/CS685/val2014/COCO_val2014_000000075006.jpg seconds:  440.0864186286926\n",
      "23 Image Done: /content/drive/MyDrive/CS685/val2014/COCO_val2014_000000405945.jpg seconds:  459.2850487232208\n",
      "24 Image Done: /content/drive/MyDrive/CS685/val2014/COCO_val2014_000000295553.jpg seconds:  474.85215759277344\n",
      "25 Image Done: /content/drive/MyDrive/CS685/val2014/COCO_val2014_000000221523.jpg seconds:  491.86659145355225\n",
      "26 Image Done: /content/drive/MyDrive/CS685/val2014/COCO_val2014_000000472942.jpg seconds:  514.081378698349\n",
      "27 Image Done: /content/drive/MyDrive/CS685/val2014/COCO_val2014_000000480842.jpg seconds:  528.9828317165375\n",
      "28 Image Done: /content/drive/MyDrive/CS685/val2014/COCO_val2014_000000287219.jpg seconds:  546.5112872123718\n",
      "29 Image Done: /content/drive/MyDrive/CS685/val2014/COCO_val2014_000000246265.jpg seconds:  569.3676269054413\n",
      "30 Image Done: /content/drive/MyDrive/CS685/val2014/COCO_val2014_000000094751.jpg seconds:  587.0616478919983\n",
      "31 Image Done: /content/drive/MyDrive/CS685/val2014/COCO_val2014_000000456525.jpg seconds:  609.0025098323822\n",
      "32 Image Done: /content/drive/MyDrive/CS685/val2014/COCO_val2014_000000046440.jpg seconds:  625.1681969165802\n",
      "33 Image Done: /content/drive/MyDrive/CS685/val2014/COCO_val2014_000000004840.jpg seconds:  648.5015497207642\n",
      "34 Image Done: /content/drive/MyDrive/CS685/val2014/COCO_val2014_000000206362.jpg seconds:  665.551242351532\n",
      "35 Image Done: /content/drive/MyDrive/CS685/val2014/COCO_val2014_000000035887.jpg seconds:  681.6746225357056\n",
      "36 Image Done: /content/drive/MyDrive/CS685/val2014/COCO_val2014_000000301486.jpg seconds:  698.4746005535126\n",
      "37 Image Done: /content/drive/MyDrive/CS685/val2014/COCO_val2014_000000167583.jpg seconds:  715.3995451927185\n",
      "38 Image Done: /content/drive/MyDrive/CS685/val2014/COCO_val2014_000000338595.jpg seconds:  735.8878273963928\n",
      "39 Image Done: /content/drive/MyDrive/CS685/val2014/COCO_val2014_000000237881.jpg seconds:  755.7889740467072\n",
      "40 Image Done: /content/drive/MyDrive/CS685/val2014/COCO_val2014_000000387916.jpg seconds:  776.7430498600006\n",
      "41 Image Done: /content/drive/MyDrive/CS685/val2014/COCO_val2014_000000352481.jpg seconds:  795.7919924259186\n",
      "42 Image Done: /content/drive/MyDrive/CS685/val2014/COCO_val2014_000000089121.jpg seconds:  811.9769976139069\n",
      "43 Image Done: /content/drive/MyDrive/CS685/val2014/COCO_val2014_000000348913.jpg seconds:  829.6295490264893\n",
      "44 Image Done: /content/drive/MyDrive/CS685/val2014/COCO_val2014_000000347557.jpg seconds:  847.7015352249146\n",
      "45 Image Done: /content/drive/MyDrive/CS685/val2014/COCO_val2014_000000043961.jpg seconds:  866.5522096157074\n",
      "46 Image Done: /content/drive/MyDrive/CS685/val2014/COCO_val2014_000000074573.jpg seconds:  884.8851115703583\n",
      "47 Image Done: /content/drive/MyDrive/CS685/val2014/COCO_val2014_000000361244.jpg seconds:  900.1377787590027\n",
      "48 Image Done: /content/drive/MyDrive/CS685/val2014/COCO_val2014_000000341681.jpg seconds:  917.2896256446838\n",
      "49 Image Done: /content/drive/MyDrive/CS685/val2014/COCO_val2014_000000162998.jpg seconds:  942.640319108963\n",
      "50 Image Done: /content/drive/MyDrive/CS685/val2014/COCO_val2014_000000188044.jpg seconds:  963.6675612926483\n",
      "51 Image Done: /content/drive/MyDrive/CS685/val2014/COCO_val2014_000000040686.jpg seconds:  980.6336274147034\n",
      "52 Image Done: /content/drive/MyDrive/CS685/val2014/COCO_val2014_000000425484.jpg seconds:  1000.6874530315399\n",
      "53 Image Done: /content/drive/MyDrive/CS685/val2014/COCO_val2014_000000425672.jpg seconds:  1018.5102381706238\n",
      "54 Image Done: /content/drive/MyDrive/CS685/val2014/COCO_val2014_000000088349.jpg seconds:  1033.3888666629791\n",
      "55 Image Done: /content/drive/MyDrive/CS685/val2014/COCO_val2014_000000482305.jpg seconds:  1050.8568005561829\n",
      "56 Image Done: /content/drive/MyDrive/CS685/val2014/COCO_val2014_000000107244.jpg seconds:  1071.0638587474823\n",
      "57 Image Done: /content/drive/MyDrive/CS685/val2014/COCO_val2014_000000349936.jpg seconds:  1092.408103942871\n",
      "58 Image Done: /content/drive/MyDrive/CS685/val2014/COCO_val2014_000000403820.jpg seconds:  1108.5899679660797\n",
      "59 Image Done: /content/drive/MyDrive/CS685/val2014/COCO_val2014_000000419653.jpg seconds:  1130.0597131252289\n",
      "60 Image Done: /content/drive/MyDrive/CS685/val2014/COCO_val2014_000000426842.jpg seconds:  1145.3914558887482\n",
      "61 Image Done: /content/drive/MyDrive/CS685/val2014/COCO_val2014_000000278463.jpg seconds:  1166.2949097156525\n",
      "62 Image Done: /content/drive/MyDrive/CS685/val2014/COCO_val2014_000000099269.jpg seconds:  1183.388602733612\n",
      "63 Image Done: /content/drive/MyDrive/CS685/val2014/COCO_val2014_000000505169.jpg seconds:  1199.4269654750824\n",
      "64 Image Done: /content/drive/MyDrive/CS685/val2014/COCO_val2014_000000030432.jpg seconds:  1216.4460656642914\n",
      "65 Image Done: /content/drive/MyDrive/CS685/val2014/COCO_val2014_000000339099.jpg seconds:  1237.5671229362488\n",
      "66 Image Done: /content/drive/MyDrive/CS685/val2014/COCO_val2014_000000303342.jpg seconds:  1256.1364147663116\n",
      "67 Image Done: /content/drive/MyDrive/CS685/val2014/COCO_val2014_000000562139.jpg seconds:  1275.110496520996\n",
      "68 Image Done: /content/drive/MyDrive/CS685/val2014/COCO_val2014_000000268435.jpg seconds:  1295.283929824829\n",
      "69 Image Done: /content/drive/MyDrive/CS685/val2014/COCO_val2014_000000261706.jpg seconds:  1310.395094871521\n",
      "70 Image Done: /content/drive/MyDrive/CS685/val2014/COCO_val2014_000000325992.jpg seconds:  1330.6093134880066\n",
      "71 Image Done: /content/drive/MyDrive/CS685/val2014/COCO_val2014_000000424879.jpg seconds:  1351.7366547584534\n",
      "72 Image Done: /content/drive/MyDrive/CS685/val2014/COCO_val2014_000000528318.jpg seconds:  1369.9733335971832\n",
      "73 Image Done: /content/drive/MyDrive/CS685/val2014/COCO_val2014_000000089032.jpg seconds:  1392.4274170398712\n",
      "74 Image Done: /content/drive/MyDrive/CS685/val2014/COCO_val2014_000000189387.jpg seconds:  1412.7817115783691\n",
      "75 Image Done: /content/drive/MyDrive/CS685/val2014/COCO_val2014_000000205251.jpg seconds:  1437.5581402778625\n",
      "76 Image Done: /content/drive/MyDrive/CS685/val2014/COCO_val2014_000000497875.jpg seconds:  1462.9671375751495\n",
      "77 Image Done: /content/drive/MyDrive/CS685/val2014/COCO_val2014_000000021046.jpg seconds:  1479.2530567646027\n",
      "78 Image Done: /content/drive/MyDrive/CS685/val2014/COCO_val2014_000000121519.jpg seconds:  1496.2088141441345\n",
      "79 Image Done: /content/drive/MyDrive/CS685/val2014/COCO_val2014_000000531495.jpg seconds:  1520.0882074832916\n",
      "80 Image Done: /content/drive/MyDrive/CS685/val2014/COCO_val2014_000000140840.jpg seconds:  1543.0706202983856\n",
      "81 Image Done: /content/drive/MyDrive/CS685/val2014/COCO_val2014_000000048609.jpg seconds:  1562.2770130634308\n",
      "82 Image Done: /content/drive/MyDrive/CS685/val2014/COCO_val2014_000000553108.jpg seconds:  1579.1499588489532\n",
      "83 Image Done: /content/drive/MyDrive/CS685/val2014/COCO_val2014_000000052368.jpg seconds:  1599.5312016010284\n",
      "84 Image Done: /content/drive/MyDrive/CS685/val2014/COCO_val2014_000000578130.jpg seconds:  1619.6995177268982\n",
      "85 Image Done: /content/drive/MyDrive/CS685/val2014/COCO_val2014_000000067788.jpg seconds:  1644.2031879425049\n",
      "86 Image Done: /content/drive/MyDrive/CS685/val2014/COCO_val2014_000000355168.jpg seconds:  1661.1424930095673\n",
      "87 Image Done: /content/drive/MyDrive/CS685/val2014/COCO_val2014_000000207728.jpg seconds:  1681.0181248188019\n",
      "88 Image Done: /content/drive/MyDrive/CS685/val2014/COCO_val2014_000000544811.jpg seconds:  1699.9246683120728\n",
      "89 Image Done: /content/drive/MyDrive/CS685/val2014/COCO_val2014_000000434412.jpg seconds:  1717.1957728862762\n",
      "90 Image Done: /content/drive/MyDrive/CS685/val2014/COCO_val2014_000000009214.jpg seconds:  1735.2272584438324\n",
      "91 Image Done: /content/drive/MyDrive/CS685/val2014/COCO_val2014_000000158952.jpg seconds:  1753.3744614124298\n",
      "92 Image Done: /content/drive/MyDrive/CS685/val2014/COCO_val2014_000000046378.jpg seconds:  1771.0006296634674\n",
      "93 Image Done: /content/drive/MyDrive/CS685/val2014/COCO_val2014_000000221554.jpg seconds:  1789.2429649829865\n",
      "94 Image Done: /content/drive/MyDrive/CS685/val2014/COCO_val2014_000000072342.jpg seconds:  1805.4911994934082\n",
      "95 Image Done: /content/drive/MyDrive/CS685/val2014/COCO_val2014_000000434098.jpg seconds:  1823.3117320537567\n",
      "96 Image Done: /content/drive/MyDrive/CS685/val2014/COCO_val2014_000000490890.jpg seconds:  1841.1255366802216\n",
      "97 Image Done: /content/drive/MyDrive/CS685/val2014/COCO_val2014_000000118034.jpg seconds:  1856.6263868808746\n",
      "98 Image Done: /content/drive/MyDrive/CS685/val2014/COCO_val2014_000000360400.jpg seconds:  1872.6350939273834\n",
      "99 Image Done: /content/drive/MyDrive/CS685/val2014/COCO_val2014_000000190951.jpg seconds:  1891.3235919475555\n",
      "100 Image Done: /content/drive/MyDrive/CS685/val2014/COCO_val2014_000000127920.jpg seconds:  1910.221791267395\n",
      "101 Image Done: /content/drive/MyDrive/CS685/val2014/COCO_val2014_000000264819.jpg seconds:  1927.258570432663\n",
      "102 Image Done: /content/drive/MyDrive/CS685/val2014/COCO_val2014_000000540869.jpg seconds:  1947.2515494823456\n",
      "103 Image Done: /content/drive/MyDrive/CS685/val2014/COCO_val2014_000000411215.jpg seconds:  1966.9504144191742\n",
      "104 Image Done: /content/drive/MyDrive/CS685/val2014/COCO_val2014_000000520683.jpg seconds:  1981.6925764083862\n",
      "105 Image Done: /content/drive/MyDrive/CS685/val2014/COCO_val2014_000000566027.jpg seconds:  2000.8556163311005\n",
      "106 Image Done: /content/drive/MyDrive/CS685/val2014/COCO_val2014_000000153104.jpg seconds:  2017.7675166130066\n",
      "107 Image Done: /content/drive/MyDrive/CS685/val2014/COCO_val2014_000000044250.jpg seconds:  2033.9908196926117\n",
      "108 Image Done: /content/drive/MyDrive/CS685/val2014/COCO_val2014_000000552977.jpg seconds:  2050.7729942798615\n",
      "109 Image Done: /content/drive/MyDrive/CS685/val2014/COCO_val2014_000000540160.jpg seconds:  2067.3666994571686\n",
      "110 Image Done: /content/drive/MyDrive/CS685/val2014/COCO_val2014_000000290234.jpg seconds:  2084.8916606903076\n",
      "111 Image Done: /content/drive/MyDrive/CS685/val2014/COCO_val2014_000000271680.jpg seconds:  2105.167560338974\n",
      "112 Image Done: /content/drive/MyDrive/CS685/val2014/COCO_val2014_000000236865.jpg seconds:  2125.8601264953613\n",
      "113 Image Done: /content/drive/MyDrive/CS685/val2014/COCO_val2014_000000159402.jpg seconds:  2146.5120980739594\n",
      "114 Image Done: /content/drive/MyDrive/CS685/val2014/COCO_val2014_000000249295.jpg seconds:  2166.6466295719147\n",
      "115 Image Done: /content/drive/MyDrive/CS685/val2014/COCO_val2014_000000106935.jpg seconds:  2184.856481075287\n",
      "116 Image Done: /content/drive/MyDrive/CS685/val2014/COCO_val2014_000000226571.jpg seconds:  2210.5490930080414\n",
      "117 Image Done: /content/drive/MyDrive/CS685/val2014/COCO_val2014_000000071673.jpg seconds:  2228.412009239197\n",
      "118 Image Done: /content/drive/MyDrive/CS685/val2014/COCO_val2014_000000170292.jpg seconds:  2251.976161003113\n",
      "119 Image Done: /content/drive/MyDrive/CS685/val2014/COCO_val2014_000000380634.jpg seconds:  2271.1833193302155\n",
      "120 Image Done: /content/drive/MyDrive/CS685/val2014/COCO_val2014_000000399415.jpg seconds:  2289.995096206665\n",
      "121 Image Done: /content/drive/MyDrive/CS685/val2014/COCO_val2014_000000553436.jpg seconds:  2307.7245366573334\n",
      "122 Image Done: /content/drive/MyDrive/CS685/val2014/COCO_val2014_000000396385.jpg seconds:  2327.4074108600616\n",
      "123 Image Done: /content/drive/MyDrive/CS685/val2014/COCO_val2014_000000479203.jpg seconds:  2341.6715846061707\n",
      "124 Image Done: /content/drive/MyDrive/CS685/val2014/COCO_val2014_000000173598.jpg seconds:  2364.820766687393\n",
      "125 Image Done: /content/drive/MyDrive/CS685/val2014/COCO_val2014_000000115106.jpg seconds:  2381.0869002342224\n",
      "126 Image Done: /content/drive/MyDrive/CS685/val2014/COCO_val2014_000000257537.jpg seconds:  2407.0472691059113\n",
      "127 Image Done: /content/drive/MyDrive/CS685/val2014/COCO_val2014_000000398746.jpg seconds:  2427.5240552425385\n",
      "128 Image Done: /content/drive/MyDrive/CS685/val2014/COCO_val2014_000000568623.jpg seconds:  2450.0245814323425\n",
      "129 Image Done: /content/drive/MyDrive/CS685/val2014/COCO_val2014_000000547744.jpg seconds:  2470.8402206897736\n",
      "130 Image Done: /content/drive/MyDrive/CS685/val2014/COCO_val2014_000000070353.jpg seconds:  2488.1194365024567\n",
      "131 Image Done: /content/drive/MyDrive/CS685/val2014/COCO_val2014_000000437564.jpg seconds:  2506.099162340164\n",
      "132 Image Done: /content/drive/MyDrive/CS685/val2014/COCO_val2014_000000220221.jpg seconds:  2523.379994392395\n",
      "133 Image Done: /content/drive/MyDrive/CS685/val2014/COCO_val2014_000000183249.jpg seconds:  2538.5824897289276\n",
      "134 Image Done: /content/drive/MyDrive/CS685/val2014/COCO_val2014_000000067502.jpg seconds:  2560.68749666214\n",
      "135 Image Done: /content/drive/MyDrive/CS685/val2014/COCO_val2014_000000173340.jpg seconds:  2577.6426043510437\n",
      "136 Image Done: /content/drive/MyDrive/CS685/val2014/COCO_val2014_000000276076.jpg seconds:  2599.4701874256134\n",
      "137 Image Done: /content/drive/MyDrive/CS685/val2014/COCO_val2014_000000140289.jpg seconds:  2618.1058254241943\n",
      "138 Image Done: /content/drive/MyDrive/CS685/val2014/COCO_val2014_000000131386.jpg seconds:  2636.4321570396423\n",
      "139 Image Done: /content/drive/MyDrive/CS685/val2014/COCO_val2014_000000395701.jpg seconds:  2656.25976228714\n",
      "140 Image Done: /content/drive/MyDrive/CS685/val2014/COCO_val2014_000000341969.jpg seconds:  2673.2261476516724\n",
      "141 Image Done: /content/drive/MyDrive/CS685/val2014/COCO_val2014_000000061503.jpg seconds:  2691.5528757572174\n",
      "142 Image Done: /content/drive/MyDrive/CS685/val2014/COCO_val2014_000000257660.jpg seconds:  2706.4514830112457\n",
      "143 Image Done: /content/drive/MyDrive/CS685/val2014/COCO_val2014_000000218924.jpg seconds:  2722.470433473587\n",
      "144 Image Done: /content/drive/MyDrive/CS685/val2014/COCO_val2014_000000422017.jpg seconds:  2739.7982420921326\n",
      "145 Image Done: /content/drive/MyDrive/CS685/val2014/COCO_val2014_000000203754.jpg seconds:  2758.793205976486\n",
      "146 Image Done: /content/drive/MyDrive/CS685/val2014/COCO_val2014_000000305050.jpg seconds:  2777.833675146103\n",
      "147 Image Done: /content/drive/MyDrive/CS685/val2014/COCO_val2014_000000027805.jpg seconds:  2792.6613585948944\n",
      "148 Image Done: /content/drive/MyDrive/CS685/val2014/COCO_val2014_000000386012.jpg seconds:  2818.9548404216766\n"
     ]
    }
   ],
   "source": [
    "from time import time\n",
    "start = time()\n",
    "s_train_features = {}\n",
    "od_train_list = {}\n",
    "# for idx, img in enumerate(s_train_img[948:1217]): #Melnita\n",
    "# for idx, img in enumerate(s_train_img[682:948]): #Young\n",
    "# for idx, img in enumerate(s_train_img[416:682]): #Josh\n",
    "for idx, img in enumerate(s_train_img[:149]): #Chinmay\n",
    "  images, sizes, scales_yx = image_preprocess(img)\n",
    "  output_dict = frcnn(\n",
    "      images, \n",
    "      sizes, \n",
    "      scales_yx=scales_yx, \n",
    "      padding=\"max_detections\",\n",
    "      max_detections=frcnn_cfg.max_detections,\n",
    "      return_tensors=\"pt\"\n",
    "  )\n",
    "  normalized_boxes = output_dict.get(\"normalized_boxes\")\n",
    "  features = output_dict.get(\"roi_features\")\n",
    "  od_train_list[img] = output_dict\n",
    "  # inputs = lxmert_tokenizer(\"What is in the image?\", return_tensors=\"pt\")\n",
    "  # outputs = model(**inputs, visual_feats=features, visual_pos = normalized_boxes)\n",
    "  # s_train_features[img] = torch.flatten(outputs.vision_output[0])\n",
    "  print(idx, \"Image Done:\",img,\"seconds: \", time() - start)"
   ]
  },
  {
   "cell_type": "code",
   "execution_count": null,
   "metadata": {
    "colab": {
     "base_uri": "https://localhost:8080/"
    },
    "id": "VEi5UTsQk9yA",
    "outputId": "ff2fc059-98d4-4222-dc90-9b5135384a54"
   },
   "outputs": [
    {
     "data": {
      "text/plain": [
       "267"
      ]
     },
     "execution_count": 81,
     "metadata": {
      "tags": []
     },
     "output_type": "execute_result"
    }
   ],
   "source": [
    "# with open(\"/content/drive/MyDrive/stfeatures_149-415.pkl\", 'rb') as f:\n",
    "#   s_train_features = pickle.load( f)\n",
    "# len(s_train_features)"
   ]
  },
  {
   "cell_type": "code",
   "execution_count": null,
   "metadata": {
    "id": "xGzduUhEs_Gm"
   },
   "outputs": [],
   "source": [
    "with open(\"/content/drive/MyDrive/ICDl/odtl_0-149.pkl\", 'wb') as f:\n",
    "  pickle.dump(od_train_list, f)"
   ]
  },
  {
   "cell_type": "code",
   "execution_count": null,
   "metadata": {
    "colab": {
     "base_uri": "https://localhost:8080/"
    },
    "id": "loDhdkMLO_Mb",
    "outputId": "8bb70a62-e555-4ba9-c10f-ea45828179f2"
   },
   "outputs": [
    {
     "data": {
      "text/plain": [
       "torch.Size([27648])"
      ]
     },
     "execution_count": 85,
     "metadata": {
      "tags": []
     },
     "output_type": "execute_result"
    }
   ],
   "source": [
    "s_train_features['/content/drive/MyDrive/CS685/val2014/COCO_val2014_000000005107.jpg'].shape"
   ]
  },
  {
   "cell_type": "code",
   "execution_count": null,
   "metadata": {
    "id": "FLF2EhE0PO5_"
   },
   "outputs": [],
   "source": [
    "%mv /content/drive/MyDrive/odtl_149-415.pkl /content/drive/MyDrive/ICDl"
   ]
  },
  {
   "cell_type": "code",
   "execution_count": null,
   "metadata": {
    "colab": {
     "base_uri": "https://localhost:8080/"
    },
    "id": "f0zD5EV6tR_w",
    "outputId": "3b4aefe9-216d-4b0d-e780-529a998b187f"
   },
   "outputs": [
    {
     "name": "stdout",
     "output_type": "stream",
     "text": [
      "0 Image Done: /content/drive/MyDrive/CS685/val2014/COCO_val2014_000000204036.jpg seconds:  18.185779571533203\n",
      "1 Image Done: /content/drive/MyDrive/CS685/val2014/COCO_val2014_000000082052.jpg seconds:  34.692858934402466\n",
      "2 Image Done: /content/drive/MyDrive/CS685/val2014/COCO_val2014_000000083766.jpg seconds:  58.84759855270386\n",
      "3 Image Done: /content/drive/MyDrive/CS685/val2014/COCO_val2014_000000404988.jpg seconds:  77.67152690887451\n",
      "4 Image Done: /content/drive/MyDrive/CS685/val2014/COCO_val2014_000000071281.jpg seconds:  96.31073999404907\n",
      "5 Image Done: /content/drive/MyDrive/CS685/val2014/COCO_val2014_000000288002.jpg seconds:  112.83107781410217\n",
      "6 Image Done: /content/drive/MyDrive/CS685/val2014/COCO_val2014_000000535668.jpg seconds:  132.89531207084656\n",
      "7 Image Done: /content/drive/MyDrive/CS685/val2014/COCO_val2014_000000058915.jpg seconds:  152.9195475578308\n",
      "8 Image Done: /content/drive/MyDrive/CS685/val2014/COCO_val2014_000000062549.jpg seconds:  171.62828636169434\n",
      "9 Image Done: /content/drive/MyDrive/CS685/val2014/COCO_val2014_000000074629.jpg seconds:  197.18196749687195\n",
      "10 Image Done: /content/drive/MyDrive/CS685/val2014/COCO_val2014_000000175611.jpg seconds:  215.7779631614685\n",
      "11 Image Done: /content/drive/MyDrive/CS685/val2014/COCO_val2014_000000036238.jpg seconds:  231.16963839530945\n",
      "12 Image Done: /content/drive/MyDrive/CS685/val2014/COCO_val2014_000000149376.jpg seconds:  249.3395481109619\n",
      "13 Image Done: /content/drive/MyDrive/CS685/val2014/COCO_val2014_000000509270.jpg seconds:  265.85253643989563\n",
      "14 Image Done: /content/drive/MyDrive/CS685/val2014/COCO_val2014_000000309424.jpg seconds:  283.2274522781372\n",
      "15 Image Done: /content/drive/MyDrive/CS685/val2014/COCO_val2014_000000098493.jpg seconds:  303.489905834198\n",
      "16 Image Done: /content/drive/MyDrive/CS685/val2014/COCO_val2014_000000025758.jpg seconds:  320.6639139652252\n",
      "17 Image Done: /content/drive/MyDrive/CS685/val2014/COCO_val2014_000000116786.jpg seconds:  337.41451597213745\n",
      "18 Image Done: /content/drive/MyDrive/CS685/val2014/COCO_val2014_000000414078.jpg seconds:  353.97547817230225\n",
      "19 Image Done: /content/drive/MyDrive/CS685/val2014/COCO_val2014_000000345941.jpg seconds:  369.93181848526\n",
      "20 Image Done: /content/drive/MyDrive/CS685/val2014/COCO_val2014_000000355297.jpg seconds:  387.524854183197\n",
      "21 Image Done: /content/drive/MyDrive/CS685/val2014/COCO_val2014_000000346703.jpg seconds:  408.08116006851196\n",
      "22 Image Done: /content/drive/MyDrive/CS685/val2014/COCO_val2014_000000516602.jpg seconds:  428.6617205142975\n",
      "23 Image Done: /content/drive/MyDrive/CS685/val2014/COCO_val2014_000000502936.jpg seconds:  454.544641494751\n",
      "24 Image Done: /content/drive/MyDrive/CS685/val2014/COCO_val2014_000000480793.jpg seconds:  470.36634159088135\n",
      "25 Image Done: /content/drive/MyDrive/CS685/val2014/COCO_val2014_000000365642.jpg seconds:  488.332478761673\n",
      "26 Image Done: /content/drive/MyDrive/CS685/val2014/COCO_val2014_000000127451.jpg seconds:  505.8335041999817\n",
      "27 Image Done: /content/drive/MyDrive/CS685/val2014/COCO_val2014_000000020381.jpg seconds:  529.5022809505463\n",
      "28 Image Done: /content/drive/MyDrive/CS685/val2014/COCO_val2014_000000020069.jpg seconds:  547.6540989875793\n",
      "29 Image Done: /content/drive/MyDrive/CS685/val2014/COCO_val2014_000000115846.jpg seconds:  565.9683923721313\n",
      "30 Image Done: /content/drive/MyDrive/CS685/val2014/COCO_val2014_000000314370.jpg seconds:  585.9743330478668\n",
      "31 Image Done: /content/drive/MyDrive/CS685/val2014/COCO_val2014_000000388528.jpg seconds:  602.7230815887451\n",
      "32 Image Done: /content/drive/MyDrive/CS685/val2014/COCO_val2014_000000479597.jpg seconds:  618.5537250041962\n",
      "33 Image Done: /content/drive/MyDrive/CS685/val2014/COCO_val2014_000000310788.jpg seconds:  639.0965552330017\n",
      "34 Image Done: /content/drive/MyDrive/CS685/val2014/COCO_val2014_000000153392.jpg seconds:  657.3222930431366\n",
      "35 Image Done: /content/drive/MyDrive/CS685/val2014/COCO_val2014_000000088162.jpg seconds:  675.9518823623657\n",
      "36 Image Done: /content/drive/MyDrive/CS685/val2014/COCO_val2014_000000148909.jpg seconds:  693.4120471477509\n",
      "37 Image Done: /content/drive/MyDrive/CS685/val2014/COCO_val2014_000000042375.jpg seconds:  713.9122002124786\n",
      "38 Image Done: /content/drive/MyDrive/CS685/val2014/COCO_val2014_000000144373.jpg seconds:  731.1561954021454\n",
      "39 Image Done: /content/drive/MyDrive/CS685/val2014/COCO_val2014_000000217517.jpg seconds:  754.9670095443726\n",
      "40 Image Done: /content/drive/MyDrive/CS685/val2014/COCO_val2014_000000422877.jpg seconds:  777.885665178299\n",
      "41 Image Done: /content/drive/MyDrive/CS685/val2014/COCO_val2014_000000372807.jpg seconds:  795.8823883533478\n",
      "42 Image Done: /content/drive/MyDrive/CS685/val2014/COCO_val2014_000000069496.jpg seconds:  813.94455909729\n",
      "43 Image Done: /content/drive/MyDrive/CS685/val2014/COCO_val2014_000000096988.jpg seconds:  832.3784580230713\n",
      "44 Image Done: /content/drive/MyDrive/CS685/val2014/COCO_val2014_000000490705.jpg seconds:  853.9207537174225\n",
      "45 Image Done: /content/drive/MyDrive/CS685/val2014/COCO_val2014_000000160531.jpg seconds:  872.6668176651001\n",
      "46 Image Done: /content/drive/MyDrive/CS685/val2014/COCO_val2014_000000529578.jpg seconds:  890.2815277576447\n",
      "47 Image Done: /content/drive/MyDrive/CS685/val2014/COCO_val2014_000000216096.jpg seconds:  911.4959721565247\n",
      "48 Image Done: /content/drive/MyDrive/CS685/val2014/COCO_val2014_000000131361.jpg seconds:  928.9144442081451\n",
      "49 Image Done: /content/drive/MyDrive/CS685/val2014/COCO_val2014_000000204507.jpg seconds:  949.0379095077515\n",
      "50 Image Done: /content/drive/MyDrive/CS685/val2014/COCO_val2014_000000033638.jpg seconds:  966.7645239830017\n",
      "51 Image Done: /content/drive/MyDrive/CS685/val2014/COCO_val2014_000000578427.jpg seconds:  983.834226846695\n",
      "52 Image Done: /content/drive/MyDrive/CS685/val2014/COCO_val2014_000000375915.jpg seconds:  1002.0617220401764\n",
      "53 Image Done: /content/drive/MyDrive/CS685/val2014/COCO_val2014_000000510864.jpg seconds:  1020.5714199542999\n",
      "54 Image Done: /content/drive/MyDrive/CS685/val2014/COCO_val2014_000000019663.jpg seconds:  1041.0301642417908\n",
      "55 Image Done: /content/drive/MyDrive/CS685/val2014/COCO_val2014_000000525777.jpg seconds:  1059.6663448810577\n",
      "56 Image Done: /content/drive/MyDrive/CS685/val2014/COCO_val2014_000000316054.jpg seconds:  1080.7255811691284\n",
      "57 Image Done: /content/drive/MyDrive/CS685/val2014/COCO_val2014_000000315191.jpg seconds:  1097.4114801883698\n",
      "58 Image Done: /content/drive/MyDrive/CS685/val2014/COCO_val2014_000000427980.jpg seconds:  1115.1528930664062\n",
      "59 Image Done: /content/drive/MyDrive/CS685/val2014/COCO_val2014_000000521613.jpg seconds:  1144.1892442703247\n",
      "60 Image Done: /content/drive/MyDrive/CS685/val2014/COCO_val2014_000000160195.jpg seconds:  1164.0436651706696\n",
      "61 Image Done: /content/drive/MyDrive/CS685/val2014/COCO_val2014_000000048668.jpg seconds:  1180.7167961597443\n",
      "62 Image Done: /content/drive/MyDrive/CS685/val2014/COCO_val2014_000000332455.jpg seconds:  1196.6179525852203\n",
      "63 Image Done: /content/drive/MyDrive/CS685/val2014/COCO_val2014_000000221094.jpg seconds:  1219.4653224945068\n",
      "64 Image Done: /content/drive/MyDrive/CS685/val2014/COCO_val2014_000000028110.jpg seconds:  1237.8296144008636\n",
      "65 Image Done: /content/drive/MyDrive/CS685/val2014/COCO_val2014_000000576987.jpg seconds:  1255.3589639663696\n",
      "66 Image Done: /content/drive/MyDrive/CS685/val2014/COCO_val2014_000000250309.jpg seconds:  1273.7632811069489\n",
      "67 Image Done: /content/drive/MyDrive/CS685/val2014/COCO_val2014_000000478404.jpg seconds:  1287.876930475235\n",
      "68 Image Done: /content/drive/MyDrive/CS685/val2014/COCO_val2014_000000526044.jpg seconds:  1304.7058744430542\n",
      "69 Image Done: /content/drive/MyDrive/CS685/val2014/COCO_val2014_000000306524.jpg seconds:  1321.4816055297852\n",
      "70 Image Done: /content/drive/MyDrive/CS685/val2014/COCO_val2014_000000423830.jpg seconds:  1340.4517884254456\n",
      "71 Image Done: /content/drive/MyDrive/CS685/val2014/COCO_val2014_000000071738.jpg seconds:  1361.5890419483185\n",
      "72 Image Done: /content/drive/MyDrive/CS685/val2014/COCO_val2014_000000519764.jpg seconds:  1378.6620345115662\n",
      "73 Image Done: /content/drive/MyDrive/CS685/val2014/COCO_val2014_000000488979.jpg seconds:  1401.1847643852234\n",
      "74 Image Done: /content/drive/MyDrive/CS685/val2014/COCO_val2014_000000183374.jpg seconds:  1420.936577796936\n",
      "75 Image Done: /content/drive/MyDrive/CS685/val2014/COCO_val2014_000000535821.jpg seconds:  1441.0817065238953\n",
      "76 Image Done: /content/drive/MyDrive/CS685/val2014/COCO_val2014_000000547041.jpg seconds:  1457.2326128482819\n",
      "77 Image Done: /content/drive/MyDrive/CS685/val2014/COCO_val2014_000000246064.jpg seconds:  1479.2062056064606\n",
      "78 Image Done: /content/drive/MyDrive/CS685/val2014/COCO_val2014_000000114164.jpg seconds:  1499.5763101577759\n",
      "79 Image Done: /content/drive/MyDrive/CS685/val2014/COCO_val2014_000000078429.jpg seconds:  1520.4541280269623\n",
      "80 Image Done: /content/drive/MyDrive/CS685/val2014/COCO_val2014_000000515022.jpg seconds:  1542.7356176376343\n",
      "81 Image Done: /content/drive/MyDrive/CS685/val2014/COCO_val2014_000000535307.jpg seconds:  1567.423594713211\n",
      "82 Image Done: /content/drive/MyDrive/CS685/val2014/COCO_val2014_000000539555.jpg seconds:  1584.0974929332733\n",
      "83 Image Done: /content/drive/MyDrive/CS685/val2014/COCO_val2014_000000440093.jpg seconds:  1602.264891386032\n",
      "84 Image Done: /content/drive/MyDrive/CS685/val2014/COCO_val2014_000000235672.jpg seconds:  1625.25594496727\n",
      "85 Image Done: /content/drive/MyDrive/CS685/val2014/COCO_val2014_000000172556.jpg seconds:  1646.9518418312073\n",
      "86 Image Done: /content/drive/MyDrive/CS685/val2014/COCO_val2014_000000368459.jpg seconds:  1665.772733926773\n",
      "87 Image Done: /content/drive/MyDrive/CS685/val2014/COCO_val2014_000000279994.jpg seconds:  1682.9249243736267\n",
      "88 Image Done: /content/drive/MyDrive/CS685/val2014/COCO_val2014_000000282037.jpg seconds:  1708.148910522461\n",
      "89 Image Done: /content/drive/MyDrive/CS685/val2014/COCO_val2014_000000143974.jpg seconds:  1728.877676486969\n",
      "90 Image Done: /content/drive/MyDrive/CS685/val2014/COCO_val2014_000000523681.jpg seconds:  1745.2069718837738\n",
      "91 Image Done: /content/drive/MyDrive/CS685/val2014/COCO_val2014_000000068745.jpg seconds:  1766.5374388694763\n",
      "92 Image Done: /content/drive/MyDrive/CS685/val2014/COCO_val2014_000000006870.jpg seconds:  1788.6451559066772\n",
      "93 Image Done: /content/drive/MyDrive/CS685/val2014/COCO_val2014_000000516239.jpg seconds:  1812.9393668174744\n",
      "94 Image Done: /content/drive/MyDrive/CS685/val2014/COCO_val2014_000000383229.jpg seconds:  1835.4847705364227\n",
      "95 Image Done: /content/drive/MyDrive/CS685/val2014/COCO_val2014_000000528729.jpg seconds:  1857.8855440616608\n",
      "96 Image Done: /content/drive/MyDrive/CS685/val2014/COCO_val2014_000000419350.jpg seconds:  1876.3882660865784\n",
      "97 Image Done: /content/drive/MyDrive/CS685/val2014/COCO_val2014_000000370444.jpg seconds:  1891.770396232605\n",
      "98 Image Done: /content/drive/MyDrive/CS685/val2014/COCO_val2014_000000084749.jpg seconds:  1908.2849514484406\n",
      "99 Image Done: /content/drive/MyDrive/CS685/val2014/COCO_val2014_000000193884.jpg seconds:  1930.1629564762115\n",
      "100 Image Done: /content/drive/MyDrive/CS685/val2014/COCO_val2014_000000298290.jpg seconds:  1947.9430418014526\n",
      "101 Image Done: /content/drive/MyDrive/CS685/val2014/COCO_val2014_000000201637.jpg seconds:  1966.7990753650665\n",
      "102 Image Done: /content/drive/MyDrive/CS685/val2014/COCO_val2014_000000005600.jpg seconds:  1984.3202483654022\n",
      "103 Image Done: /content/drive/MyDrive/CS685/val2014/COCO_val2014_000000523565.jpg seconds:  2000.0713715553284\n",
      "104 Image Done: /content/drive/MyDrive/CS685/val2014/COCO_val2014_000000381031.jpg seconds:  2017.602576494217\n",
      "105 Image Done: /content/drive/MyDrive/CS685/val2014/COCO_val2014_000000557127.jpg seconds:  2038.1359977722168\n",
      "106 Image Done: /content/drive/MyDrive/CS685/val2014/COCO_val2014_000000371552.jpg seconds:  2062.2177832126617\n",
      "107 Image Done: /content/drive/MyDrive/CS685/val2014/COCO_val2014_000000166948.jpg seconds:  2079.3513643741608\n",
      "108 Image Done: /content/drive/MyDrive/CS685/val2014/COCO_val2014_000000251367.jpg seconds:  2103.778769016266\n",
      "109 Image Done: /content/drive/MyDrive/CS685/val2014/COCO_val2014_000000415961.jpg seconds:  2123.629932165146\n",
      "110 Image Done: /content/drive/MyDrive/CS685/val2014/COCO_val2014_000000417742.jpg seconds:  2141.79243850708\n",
      "111 Image Done: /content/drive/MyDrive/CS685/val2014/COCO_val2014_000000308702.jpg seconds:  2159.900130748749\n",
      "112 Image Done: /content/drive/MyDrive/CS685/val2014/COCO_val2014_000000312237.jpg seconds:  2183.4735004901886\n",
      "113 Image Done: /content/drive/MyDrive/CS685/val2014/COCO_val2014_000000010104.jpg seconds:  2209.1793146133423\n",
      "114 Image Done: /content/drive/MyDrive/CS685/val2014/COCO_val2014_000000342334.jpg seconds:  2233.3411858081818\n",
      "115 Image Done: /content/drive/MyDrive/CS685/val2014/COCO_val2014_000000333565.jpg seconds:  2254.7986767292023\n",
      "116 Image Done: /content/drive/MyDrive/CS685/val2014/COCO_val2014_000000355441.jpg seconds:  2276.7258512973785\n",
      "117 Image Done: /content/drive/MyDrive/CS685/val2014/COCO_val2014_000000478490.jpg seconds:  2294.7715249061584\n",
      "118 Image Done: /content/drive/MyDrive/CS685/val2014/COCO_val2014_000000527625.jpg seconds:  2313.752536058426\n",
      "119 Image Done: /content/drive/MyDrive/CS685/val2014/COCO_val2014_000000227879.jpg seconds:  2337.3072893619537\n",
      "120 Image Done: /content/drive/MyDrive/CS685/val2014/COCO_val2014_000000104758.jpg seconds:  2357.2053701877594\n",
      "121 Image Done: /content/drive/MyDrive/CS685/val2014/COCO_val2014_000000296816.jpg seconds:  2376.1665217876434\n",
      "122 Image Done: /content/drive/MyDrive/CS685/val2014/COCO_val2014_000000196699.jpg seconds:  2394.6773352622986\n",
      "123 Image Done: /content/drive/MyDrive/CS685/val2014/COCO_val2014_000000173693.jpg seconds:  2428.5122594833374\n",
      "124 Image Done: /content/drive/MyDrive/CS685/val2014/COCO_val2014_000000445999.jpg seconds:  2444.473700761795\n",
      "125 Image Done: /content/drive/MyDrive/CS685/val2014/COCO_val2014_000000334719.jpg seconds:  2466.03173494339\n",
      "126 Image Done: /content/drive/MyDrive/CS685/val2014/COCO_val2014_000000081998.jpg seconds:  2482.1377692222595\n",
      "127 Image Done: /content/drive/MyDrive/CS685/val2014/COCO_val2014_000000206958.jpg seconds:  2497.640391588211\n",
      "128 Image Done: /content/drive/MyDrive/CS685/val2014/COCO_val2014_000000206618.jpg seconds:  2513.032190322876\n",
      "129 Image Done: /content/drive/MyDrive/CS685/val2014/COCO_val2014_000000013783.jpg seconds:  2529.661022424698\n",
      "130 Image Done: /content/drive/MyDrive/CS685/val2014/COCO_val2014_000000361245.jpg seconds:  2552.1857051849365\n",
      "131 Image Done: /content/drive/MyDrive/CS685/val2014/COCO_val2014_000000177407.jpg seconds:  2567.928878068924\n",
      "132 Image Done: /content/drive/MyDrive/CS685/val2014/COCO_val2014_000000123810.jpg seconds:  2587.728859424591\n",
      "133 Image Done: /content/drive/MyDrive/CS685/val2014/COCO_val2014_000000121430.jpg seconds:  2608.528833389282\n",
      "134 Image Done: /content/drive/MyDrive/CS685/val2014/COCO_val2014_000000221666.jpg seconds:  2627.770480632782\n",
      "135 Image Done: /content/drive/MyDrive/CS685/val2014/COCO_val2014_000000163167.jpg seconds:  2645.405170440674\n",
      "136 Image Done: /content/drive/MyDrive/CS685/val2014/COCO_val2014_000000160031.jpg seconds:  2667.424511194229\n",
      "137 Image Done: /content/drive/MyDrive/CS685/val2014/COCO_val2014_000000190291.jpg seconds:  2685.0582604408264\n",
      "138 Image Done: /content/drive/MyDrive/CS685/val2014/COCO_val2014_000000368220.jpg seconds:  2703.5800261497498\n",
      "139 Image Done: /content/drive/MyDrive/CS685/val2014/COCO_val2014_000000096351.jpg seconds:  2723.4478421211243\n",
      "140 Image Done: /content/drive/MyDrive/CS685/val2014/COCO_val2014_000000241668.jpg seconds:  2739.582820892334\n",
      "141 Image Done: /content/drive/MyDrive/CS685/val2014/COCO_val2014_000000415880.jpg seconds:  2762.301793575287\n",
      "142 Image Done: /content/drive/MyDrive/CS685/val2014/COCO_val2014_000000434788.jpg seconds:  2784.467529296875\n",
      "143 Image Done: /content/drive/MyDrive/CS685/val2014/COCO_val2014_000000022167.jpg seconds:  2801.788981437683\n",
      "144 Image Done: /content/drive/MyDrive/CS685/val2014/COCO_val2014_000000369309.jpg seconds:  2818.895870447159\n",
      "145 Image Done: /content/drive/MyDrive/CS685/val2014/COCO_val2014_000000202001.jpg seconds:  2833.0072498321533\n",
      "146 Image Done: /content/drive/MyDrive/CS685/val2014/COCO_val2014_000000299631.jpg seconds:  2851.8850157260895\n",
      "147 Image Done: /content/drive/MyDrive/CS685/val2014/COCO_val2014_000000507087.jpg seconds:  2871.0880975723267\n",
      "148 Image Done: /content/drive/MyDrive/CS685/val2014/COCO_val2014_000000573214.jpg seconds:  2893.8354790210724\n",
      "149 Image Done: /content/drive/MyDrive/CS685/val2014/COCO_val2014_000000153956.jpg seconds:  2911.9041318893433\n",
      "150 Image Done: /content/drive/MyDrive/CS685/val2014/COCO_val2014_000000466818.jpg seconds:  2933.4657883644104\n",
      "151 Image Done: /content/drive/MyDrive/CS685/val2014/COCO_val2014_000000427820.jpg seconds:  2959.1051054000854\n",
      "152 Image Done: /content/drive/MyDrive/CS685/val2014/COCO_val2014_000000027565.jpg seconds:  2977.6709971427917\n",
      "153 Image Done: /content/drive/MyDrive/CS685/val2014/COCO_val2014_000000057323.jpg seconds:  3004.955086708069\n",
      "154 Image Done: /content/drive/MyDrive/CS685/val2014/COCO_val2014_000000051250.jpg seconds:  3024.4588651657104\n",
      "155 Image Done: /content/drive/MyDrive/CS685/val2014/COCO_val2014_000000102837.jpg seconds:  3043.5463309288025\n",
      "156 Image Done: /content/drive/MyDrive/CS685/val2014/COCO_val2014_000000092248.jpg seconds:  3060.000879049301\n",
      "157 Image Done: /content/drive/MyDrive/CS685/val2014/COCO_val2014_000000095833.jpg seconds:  3081.8142709732056\n",
      "158 Image Done: /content/drive/MyDrive/CS685/val2014/COCO_val2014_000000017613.jpg seconds:  3100.9244685173035\n",
      "159 Image Done: /content/drive/MyDrive/CS685/val2014/COCO_val2014_000000191047.jpg seconds:  3123.795353412628\n",
      "160 Image Done: /content/drive/MyDrive/CS685/val2014/COCO_val2014_000000132796.jpg seconds:  3143.7446761131287\n",
      "161 Image Done: /content/drive/MyDrive/CS685/val2014/COCO_val2014_000000414379.jpg seconds:  3168.1852748394012\n",
      "162 Image Done: /content/drive/MyDrive/CS685/val2014/COCO_val2014_000000064015.jpg seconds:  3193.211604118347\n",
      "163 Image Done: /content/drive/MyDrive/CS685/val2014/COCO_val2014_000000533368.jpg seconds:  3210.2506811618805\n",
      "164 Image Done: /content/drive/MyDrive/CS685/val2014/COCO_val2014_000000173530.jpg seconds:  3235.0131504535675\n",
      "165 Image Done: /content/drive/MyDrive/CS685/val2014/COCO_val2014_000000021879.jpg seconds:  3256.9634268283844\n",
      "166 Image Done: /content/drive/MyDrive/CS685/val2014/COCO_val2014_000000266712.jpg seconds:  3272.851655483246\n",
      "167 Image Done: /content/drive/MyDrive/CS685/val2014/COCO_val2014_000000391642.jpg seconds:  3291.9348413944244\n",
      "168 Image Done: /content/drive/MyDrive/CS685/val2014/COCO_val2014_000000425522.jpg seconds:  3310.029640197754\n",
      "169 Image Done: /content/drive/MyDrive/CS685/val2014/COCO_val2014_000000324638.jpg seconds:  3330.2787988185883\n",
      "170 Image Done: /content/drive/MyDrive/CS685/val2014/COCO_val2014_000000374061.jpg seconds:  3346.651646375656\n",
      "171 Image Done: /content/drive/MyDrive/CS685/val2014/COCO_val2014_000000137413.jpg seconds:  3362.162823677063\n",
      "172 Image Done: /content/drive/MyDrive/CS685/val2014/COCO_val2014_000000381587.jpg seconds:  3379.8450922966003\n",
      "173 Image Done: /content/drive/MyDrive/CS685/val2014/COCO_val2014_000000520503.jpg seconds:  3405.345702648163\n",
      "174 Image Done: /content/drive/MyDrive/CS685/val2014/COCO_val2014_000000404655.jpg seconds:  3427.875048160553\n",
      "175 Image Done: /content/drive/MyDrive/CS685/val2014/COCO_val2014_000000207913.jpg seconds:  3446.8519933223724\n",
      "176 Image Done: /content/drive/MyDrive/CS685/val2014/COCO_val2014_000000359276.jpg seconds:  3464.6604602336884\n",
      "177 Image Done: /content/drive/MyDrive/CS685/val2014/COCO_val2014_000000150533.jpg seconds:  3483.1140637397766\n",
      "178 Image Done: /content/drive/MyDrive/CS685/val2014/COCO_val2014_000000499810.jpg seconds:  3502.442540407181\n",
      "179 Image Done: /content/drive/MyDrive/CS685/val2014/COCO_val2014_000000264599.jpg seconds:  3524.0850377082825\n",
      "180 Image Done: /content/drive/MyDrive/CS685/val2014/COCO_val2014_000000284509.jpg seconds:  3543.4236793518066\n",
      "181 Image Done: /content/drive/MyDrive/CS685/val2014/COCO_val2014_000000505789.jpg seconds:  3562.705808162689\n",
      "182 Image Done: /content/drive/MyDrive/CS685/val2014/COCO_val2014_000000060177.jpg seconds:  3582.4461629390717\n",
      "183 Image Done: /content/drive/MyDrive/CS685/val2014/COCO_val2014_000000025986.jpg seconds:  3600.196602344513\n",
      "184 Image Done: /content/drive/MyDrive/CS685/val2014/COCO_val2014_000000516248.jpg seconds:  3617.3082258701324\n",
      "185 Image Done: /content/drive/MyDrive/CS685/val2014/COCO_val2014_000000298689.jpg seconds:  3636.2783851623535\n",
      "186 Image Done: /content/drive/MyDrive/CS685/val2014/COCO_val2014_000000332153.jpg seconds:  3655.4222095012665\n",
      "187 Image Done: /content/drive/MyDrive/CS685/val2014/COCO_val2014_000000515885.jpg seconds:  3672.382419347763\n",
      "188 Image Done: /content/drive/MyDrive/CS685/val2014/COCO_val2014_000000371135.jpg seconds:  3690.2234241962433\n",
      "189 Image Done: /content/drive/MyDrive/CS685/val2014/COCO_val2014_000000377946.jpg seconds:  3711.0261104106903\n",
      "190 Image Done: /content/drive/MyDrive/CS685/val2014/COCO_val2014_000000217303.jpg seconds:  3734.1954684257507\n",
      "191 Image Done: /content/drive/MyDrive/CS685/val2014/COCO_val2014_000000566096.jpg seconds:  3751.6814954280853\n",
      "192 Image Done: /content/drive/MyDrive/CS685/val2014/COCO_val2014_000000097577.jpg seconds:  3770.4611868858337\n",
      "193 Image Done: /content/drive/MyDrive/CS685/val2014/COCO_val2014_000000415413.jpg seconds:  3790.7244901657104\n",
      "194 Image Done: /content/drive/MyDrive/CS685/val2014/COCO_val2014_000000091326.jpg seconds:  3811.405974149704\n",
      "195 Image Done: /content/drive/MyDrive/CS685/val2014/COCO_val2014_000000483742.jpg seconds:  3833.271129846573\n",
      "196 Image Done: /content/drive/MyDrive/CS685/val2014/COCO_val2014_000000399384.jpg seconds:  3849.942055463791\n",
      "197 Image Done: /content/drive/MyDrive/CS685/val2014/COCO_val2014_000000259597.jpg seconds:  3869.6025013923645\n",
      "198 Image Done: /content/drive/MyDrive/CS685/val2014/COCO_val2014_000000435260.jpg seconds:  3889.175258874893\n",
      "199 Image Done: /content/drive/MyDrive/CS685/val2014/COCO_val2014_000000244411.jpg seconds:  3907.902611017227\n",
      "200 Image Done: /content/drive/MyDrive/CS685/val2014/COCO_val2014_000000439472.jpg seconds:  3927.0291998386383\n",
      "201 Image Done: /content/drive/MyDrive/CS685/val2014/COCO_val2014_000000045105.jpg seconds:  3948.8715085983276\n",
      "202 Image Done: /content/drive/MyDrive/CS685/val2014/COCO_val2014_000000308388.jpg seconds:  3970.058428287506\n",
      "203 Image Done: /content/drive/MyDrive/CS685/val2014/COCO_val2014_000000202653.jpg seconds:  3990.9303905963898\n",
      "204 Image Done: /content/drive/MyDrive/CS685/val2014/COCO_val2014_000000489313.jpg seconds:  4005.5782244205475\n",
      "205 Image Done: /content/drive/MyDrive/CS685/val2014/COCO_val2014_000000372641.jpg seconds:  4023.6231820583344\n"
     ]
    }
   ],
   "source": [
    "start = time()\n",
    "# s_test_features = {}\n",
    "# od_test_list = {}\n",
    "# for idx, img in enumerate(s_test_img[657:878]): #Melnita\n",
    "# for idx, img in enumerate(s_test_img[438:657]): #Young\n",
    "# for idx, img in enumerate(s_test_img[219:438]): #Josh\n",
    "for idx, img in enumerate(s_test_img[13:219]): #Chinmay\n",
    "  images, sizes, scales_yx = image_preprocess(img)\n",
    "  output_dict = frcnn(\n",
    "      images, \n",
    "      sizes, \n",
    "      scales_yx=scales_yx, \n",
    "      padding=\"max_detections\",\n",
    "      max_detections=frcnn_cfg.max_detections,\n",
    "      return_tensors=\"pt\"\n",
    "  )\n",
    "  normalized_boxes = output_dict.get(\"normalized_boxes\")\n",
    "  features = output_dict.get(\"roi_features\")\n",
    "  od_test_list[img] = output_dict\n",
    "  inputs = lxmert_tokenizer(\"What is in the image?\", return_tensors=\"pt\")\n",
    "  outputs = model(**inputs, visual_feats=features, visual_pos = normalized_boxes)\n",
    "  s_test_features[img] = torch.flatten(outputs.vision_output[0])\n",
    "  print(idx, \"Image Done:\",img,\"seconds: \", time() - start)"
   ]
  },
  {
   "cell_type": "code",
   "execution_count": null,
   "metadata": {
    "colab": {
     "base_uri": "https://localhost:8080/"
    },
    "id": "kQeikD8ujAtQ",
    "outputId": "9181bf94-73d0-4d84-9988-3e46ea70c7f9"
   },
   "outputs": [
    {
     "name": "stdout",
     "output_type": "stream",
     "text": [
      "demo.ipynb\t     __pycache__\t     utils.py\n",
      "extracting_data.py   README.md\t\t     visualizing_image.py\n",
      "modeling_frcnn.py    requirements.txt\n",
      "processing_image.py  stfeatures_149-415,pkl\n"
     ]
    }
   ],
   "source": [
    "!ls"
   ]
  },
  {
   "cell_type": "code",
   "execution_count": null,
   "metadata": {
    "colab": {
     "base_uri": "https://localhost:8080/"
    },
    "id": "YG1QiJskjINe",
    "outputId": "8d2c6cdd-7616-46c7-df96-609b4b645210"
   },
   "outputs": [
    {
     "data": {
      "text/plain": [
       "219"
      ]
     },
     "execution_count": 76,
     "metadata": {
      "tags": []
     },
     "output_type": "execute_result"
    }
   ],
   "source": [
    "with open(\"/content/drive/MyDrive/ICDl/stfeatures_test_0-219.pkl\", 'wb') as f:\n",
    "  pickle.dump(s_test_features, f)\n",
    "len(s_test_features)"
   ]
  },
  {
   "cell_type": "code",
   "execution_count": null,
   "metadata": {
    "id": "E0mYfs4qjINg"
   },
   "outputs": [],
   "source": [
    "with open(\"/content/drive/MyDrive/ICDl/odtl_test_0-219.pkl\", 'wb') as f:\n",
    "  pickle.dump(od_test_list, f)"
   ]
  },
  {
   "cell_type": "code",
   "execution_count": null,
   "metadata": {
    "id": "QadJa314jdyy"
   },
   "outputs": [],
   "source": []
  }
 ],
 "metadata": {
  "colab": {
   "name": "PreprocessingData.ipynb",
   "provenance": []
  },
  "kernelspec": {
   "display_name": "Python 3",
   "language": "python",
   "name": "python3"
  },
  "language_info": {
   "codemirror_mode": {
    "name": "ipython",
    "version": 3
   },
   "file_extension": ".py",
   "mimetype": "text/x-python",
   "name": "python",
   "nbconvert_exporter": "python",
   "pygments_lexer": "ipython3",
   "version": "3.8.3"
  },
  "widgets": {
   "application/vnd.jupyter.widget-state+json": {
    "00948cd860bd464691f33175baad6956": {
     "model_module": "@jupyter-widgets/controls",
     "model_name": "ProgressStyleModel",
     "state": {
      "_model_module": "@jupyter-widgets/controls",
      "_model_module_version": "1.5.0",
      "_model_name": "ProgressStyleModel",
      "_view_count": null,
      "_view_module": "@jupyter-widgets/base",
      "_view_module_version": "1.2.0",
      "_view_name": "StyleView",
      "bar_color": null,
      "description_width": "initial"
     }
    },
    "158ee5a16e9547368afb82f4f0071dc0": {
     "model_module": "@jupyter-widgets/controls",
     "model_name": "FloatProgressModel",
     "state": {
      "_dom_classes": [],
      "_model_module": "@jupyter-widgets/controls",
      "_model_module_version": "1.5.0",
      "_model_name": "FloatProgressModel",
      "_view_count": null,
      "_view_module": "@jupyter-widgets/controls",
      "_view_module_version": "1.5.0",
      "_view_name": "ProgressView",
      "bar_style": "success",
      "description": "Downloading: 100%",
      "description_tooltip": null,
      "layout": "IPY_MODEL_7a8c0edfcb0b470faa4cc02bf17aa370",
      "max": 1006130773,
      "min": 0,
      "orientation": "horizontal",
      "style": "IPY_MODEL_00948cd860bd464691f33175baad6956",
      "value": 1006130773
     }
    },
    "179aca5b7ea94c94b8017c61873ffcc6": {
     "model_module": "@jupyter-widgets/controls",
     "model_name": "DescriptionStyleModel",
     "state": {
      "_model_module": "@jupyter-widgets/controls",
      "_model_module_version": "1.5.0",
      "_model_name": "DescriptionStyleModel",
      "_view_count": null,
      "_view_module": "@jupyter-widgets/base",
      "_view_module_version": "1.2.0",
      "_view_name": "StyleView",
      "description_width": ""
     }
    },
    "18a20cf4a09f48c68ed8e32dd733fcbf": {
     "model_module": "@jupyter-widgets/base",
     "model_name": "LayoutModel",
     "state": {
      "_model_module": "@jupyter-widgets/base",
      "_model_module_version": "1.2.0",
      "_model_name": "LayoutModel",
      "_view_count": null,
      "_view_module": "@jupyter-widgets/base",
      "_view_module_version": "1.2.0",
      "_view_name": "LayoutView",
      "align_content": null,
      "align_items": null,
      "align_self": null,
      "border": null,
      "bottom": null,
      "display": null,
      "flex": null,
      "flex_flow": null,
      "grid_area": null,
      "grid_auto_columns": null,
      "grid_auto_flow": null,
      "grid_auto_rows": null,
      "grid_column": null,
      "grid_gap": null,
      "grid_row": null,
      "grid_template_areas": null,
      "grid_template_columns": null,
      "grid_template_rows": null,
      "height": null,
      "justify_content": null,
      "justify_items": null,
      "left": null,
      "margin": null,
      "max_height": null,
      "max_width": null,
      "min_height": null,
      "min_width": null,
      "object_fit": null,
      "object_position": null,
      "order": null,
      "overflow": null,
      "overflow_x": null,
      "overflow_y": null,
      "padding": null,
      "right": null,
      "top": null,
      "visibility": null,
      "width": null
     }
    },
    "19fa66a6332a401eb5f90f29d1aa0552": {
     "model_module": "@jupyter-widgets/controls",
     "model_name": "HBoxModel",
     "state": {
      "_dom_classes": [],
      "_model_module": "@jupyter-widgets/controls",
      "_model_module_version": "1.5.0",
      "_model_name": "HBoxModel",
      "_view_count": null,
      "_view_module": "@jupyter-widgets/controls",
      "_view_module_version": "1.5.0",
      "_view_name": "HBoxView",
      "box_style": "",
      "children": [
       "IPY_MODEL_158ee5a16e9547368afb82f4f0071dc0",
       "IPY_MODEL_91315328743e4062a6c4b483e73d4eb7"
      ],
      "layout": "IPY_MODEL_f512cfd61caf4e27be4e83fc0fe5b4db"
     }
    },
    "2a03f817321b4b1baa6d9b2b33cc232b": {
     "model_module": "@jupyter-widgets/controls",
     "model_name": "DescriptionStyleModel",
     "state": {
      "_model_module": "@jupyter-widgets/controls",
      "_model_module_version": "1.5.0",
      "_model_name": "DescriptionStyleModel",
      "_view_count": null,
      "_view_module": "@jupyter-widgets/base",
      "_view_module_version": "1.2.0",
      "_view_name": "StyleView",
      "description_width": ""
     }
    },
    "2f5589664f284ae7ba9406af8b4a7752": {
     "model_module": "@jupyter-widgets/controls",
     "model_name": "FloatProgressModel",
     "state": {
      "_dom_classes": [],
      "_model_module": "@jupyter-widgets/controls",
      "_model_module_version": "1.5.0",
      "_model_name": "FloatProgressModel",
      "_view_count": null,
      "_view_module": "@jupyter-widgets/controls",
      "_view_module_version": "1.5.0",
      "_view_name": "ProgressView",
      "bar_style": "success",
      "description": "Downloading: 100%",
      "description_tooltip": null,
      "layout": "IPY_MODEL_83c6e93848c5495587bc03769282500f",
      "max": 776,
      "min": 0,
      "orientation": "horizontal",
      "style": "IPY_MODEL_61a4507562154383800557a90e2c74b8",
      "value": 776
     }
    },
    "30ac58c7bf6341699563f7b9ed55642c": {
     "model_module": "@jupyter-widgets/base",
     "model_name": "LayoutModel",
     "state": {
      "_model_module": "@jupyter-widgets/base",
      "_model_module_version": "1.2.0",
      "_model_name": "LayoutModel",
      "_view_count": null,
      "_view_module": "@jupyter-widgets/base",
      "_view_module_version": "1.2.0",
      "_view_name": "LayoutView",
      "align_content": null,
      "align_items": null,
      "align_self": null,
      "border": null,
      "bottom": null,
      "display": null,
      "flex": null,
      "flex_flow": null,
      "grid_area": null,
      "grid_auto_columns": null,
      "grid_auto_flow": null,
      "grid_auto_rows": null,
      "grid_column": null,
      "grid_gap": null,
      "grid_row": null,
      "grid_template_areas": null,
      "grid_template_columns": null,
      "grid_template_rows": null,
      "height": null,
      "justify_content": null,
      "justify_items": null,
      "left": null,
      "margin": null,
      "max_height": null,
      "max_width": null,
      "min_height": null,
      "min_width": null,
      "object_fit": null,
      "object_position": null,
      "order": null,
      "overflow": null,
      "overflow_x": null,
      "overflow_y": null,
      "padding": null,
      "right": null,
      "top": null,
      "visibility": null,
      "width": null
     }
    },
    "31d11fb48e60490eba4f371ea05ebe5f": {
     "model_module": "@jupyter-widgets/controls",
     "model_name": "HTMLModel",
     "state": {
      "_dom_classes": [],
      "_model_module": "@jupyter-widgets/controls",
      "_model_module_version": "1.5.0",
      "_model_name": "HTMLModel",
      "_view_count": null,
      "_view_module": "@jupyter-widgets/controls",
      "_view_module_version": "1.5.0",
      "_view_name": "HTMLView",
      "description": "",
      "description_tooltip": null,
      "layout": "IPY_MODEL_9b72fb46e9bf44c39d64a4c99c1492d7",
      "placeholder": "​",
      "style": "IPY_MODEL_2a03f817321b4b1baa6d9b2b33cc232b",
      "value": " 776/776 [00:53&lt;00:00, 14.4B/s]"
     }
    },
    "37db9560a6bd411cb68ded54980ff1f6": {
     "model_module": "@jupyter-widgets/controls",
     "model_name": "HBoxModel",
     "state": {
      "_dom_classes": [],
      "_model_module": "@jupyter-widgets/controls",
      "_model_module_version": "1.5.0",
      "_model_name": "HBoxModel",
      "_view_count": null,
      "_view_module": "@jupyter-widgets/controls",
      "_view_module_version": "1.5.0",
      "_view_name": "HBoxView",
      "box_style": "",
      "children": [
       "IPY_MODEL_cc2f9a6e5718491688e790859db040e1",
       "IPY_MODEL_6edf4c2aae154e2fb8a28208b5a64e19"
      ],
      "layout": "IPY_MODEL_da415753f8b14d638de321c237cda940"
     }
    },
    "3c6f2ab74c554038b95cddce2d6f04fd": {
     "model_module": "@jupyter-widgets/controls",
     "model_name": "HTMLModel",
     "state": {
      "_dom_classes": [],
      "_model_module": "@jupyter-widgets/controls",
      "_model_module_version": "1.5.0",
      "_model_name": "HTMLModel",
      "_view_count": null,
      "_view_module": "@jupyter-widgets/controls",
      "_view_module_version": "1.5.0",
      "_view_name": "HTMLView",
      "description": "",
      "description_tooltip": null,
      "layout": "IPY_MODEL_b8b6a8e9c74c424ca43560a60c6bde43",
      "placeholder": "​",
      "style": "IPY_MODEL_179aca5b7ea94c94b8017c61873ffcc6",
      "value": " 262M/262M [00:06&lt;00:00, 42.3MB/s]"
     }
    },
    "3f67bc114b534cdb93b1f0df4885e8fb": {
     "model_module": "@jupyter-widgets/controls",
     "model_name": "HBoxModel",
     "state": {
      "_dom_classes": [],
      "_model_module": "@jupyter-widgets/controls",
      "_model_module_version": "1.5.0",
      "_model_name": "HBoxModel",
      "_view_count": null,
      "_view_module": "@jupyter-widgets/controls",
      "_view_module_version": "1.5.0",
      "_view_name": "HBoxView",
      "box_style": "",
      "children": [
       "IPY_MODEL_f6909e73672b43e7a13cd21d839e1e5b",
       "IPY_MODEL_a254406f85bf4bc6b86a479b9d160294"
      ],
      "layout": "IPY_MODEL_8a84bebb375a4c5db9c645e801d7ce00"
     }
    },
    "438427afcfae4bc089f8fd7a2e4d59de": {
     "model_module": "@jupyter-widgets/controls",
     "model_name": "DescriptionStyleModel",
     "state": {
      "_model_module": "@jupyter-widgets/controls",
      "_model_module_version": "1.5.0",
      "_model_name": "DescriptionStyleModel",
      "_view_count": null,
      "_view_module": "@jupyter-widgets/base",
      "_view_module_version": "1.2.0",
      "_view_name": "StyleView",
      "description_width": ""
     }
    },
    "49afbc6986b94eaea2da76bf902848fa": {
     "model_module": "@jupyter-widgets/controls",
     "model_name": "ProgressStyleModel",
     "state": {
      "_model_module": "@jupyter-widgets/controls",
      "_model_module_version": "1.5.0",
      "_model_name": "ProgressStyleModel",
      "_view_count": null,
      "_view_module": "@jupyter-widgets/base",
      "_view_module_version": "1.2.0",
      "_view_name": "StyleView",
      "bar_color": null,
      "description_width": "initial"
     }
    },
    "61a4507562154383800557a90e2c74b8": {
     "model_module": "@jupyter-widgets/controls",
     "model_name": "ProgressStyleModel",
     "state": {
      "_model_module": "@jupyter-widgets/controls",
      "_model_module_version": "1.5.0",
      "_model_name": "ProgressStyleModel",
      "_view_count": null,
      "_view_module": "@jupyter-widgets/base",
      "_view_module_version": "1.2.0",
      "_view_name": "StyleView",
      "bar_color": null,
      "description_width": "initial"
     }
    },
    "6edf4c2aae154e2fb8a28208b5a64e19": {
     "model_module": "@jupyter-widgets/controls",
     "model_name": "HTMLModel",
     "state": {
      "_dom_classes": [],
      "_model_module": "@jupyter-widgets/controls",
      "_model_module_version": "1.5.0",
      "_model_name": "HTMLModel",
      "_view_count": null,
      "_view_module": "@jupyter-widgets/controls",
      "_view_module_version": "1.5.0",
      "_view_name": "HTMLView",
      "description": "",
      "description_tooltip": null,
      "layout": "IPY_MODEL_18a20cf4a09f48c68ed8e32dd733fcbf",
      "placeholder": "​",
      "style": "IPY_MODEL_e6228437fdde4191ba44db1b586387bf",
      "value": " 2.13k/2.13k [00:00&lt;00:00, 39.4kB/s]"
     }
    },
    "716e72150ed14b80a0c44ce12416ce73": {
     "model_module": "@jupyter-widgets/base",
     "model_name": "LayoutModel",
     "state": {
      "_model_module": "@jupyter-widgets/base",
      "_model_module_version": "1.2.0",
      "_model_name": "LayoutModel",
      "_view_count": null,
      "_view_module": "@jupyter-widgets/base",
      "_view_module_version": "1.2.0",
      "_view_name": "LayoutView",
      "align_content": null,
      "align_items": null,
      "align_self": null,
      "border": null,
      "bottom": null,
      "display": null,
      "flex": null,
      "flex_flow": null,
      "grid_area": null,
      "grid_auto_columns": null,
      "grid_auto_flow": null,
      "grid_auto_rows": null,
      "grid_column": null,
      "grid_gap": null,
      "grid_row": null,
      "grid_template_areas": null,
      "grid_template_columns": null,
      "grid_template_rows": null,
      "height": null,
      "justify_content": null,
      "justify_items": null,
      "left": null,
      "margin": null,
      "max_height": null,
      "max_width": null,
      "min_height": null,
      "min_width": null,
      "object_fit": null,
      "object_position": null,
      "order": null,
      "overflow": null,
      "overflow_x": null,
      "overflow_y": null,
      "padding": null,
      "right": null,
      "top": null,
      "visibility": null,
      "width": null
     }
    },
    "7175bc96cd5d494a9d2e96b6f1956777": {
     "model_module": "@jupyter-widgets/base",
     "model_name": "LayoutModel",
     "state": {
      "_model_module": "@jupyter-widgets/base",
      "_model_module_version": "1.2.0",
      "_model_name": "LayoutModel",
      "_view_count": null,
      "_view_module": "@jupyter-widgets/base",
      "_view_module_version": "1.2.0",
      "_view_name": "LayoutView",
      "align_content": null,
      "align_items": null,
      "align_self": null,
      "border": null,
      "bottom": null,
      "display": null,
      "flex": null,
      "flex_flow": null,
      "grid_area": null,
      "grid_auto_columns": null,
      "grid_auto_flow": null,
      "grid_auto_rows": null,
      "grid_column": null,
      "grid_gap": null,
      "grid_row": null,
      "grid_template_areas": null,
      "grid_template_columns": null,
      "grid_template_rows": null,
      "height": null,
      "justify_content": null,
      "justify_items": null,
      "left": null,
      "margin": null,
      "max_height": null,
      "max_width": null,
      "min_height": null,
      "min_width": null,
      "object_fit": null,
      "object_position": null,
      "order": null,
      "overflow": null,
      "overflow_x": null,
      "overflow_y": null,
      "padding": null,
      "right": null,
      "top": null,
      "visibility": null,
      "width": null
     }
    },
    "7a8c0edfcb0b470faa4cc02bf17aa370": {
     "model_module": "@jupyter-widgets/base",
     "model_name": "LayoutModel",
     "state": {
      "_model_module": "@jupyter-widgets/base",
      "_model_module_version": "1.2.0",
      "_model_name": "LayoutModel",
      "_view_count": null,
      "_view_module": "@jupyter-widgets/base",
      "_view_module_version": "1.2.0",
      "_view_name": "LayoutView",
      "align_content": null,
      "align_items": null,
      "align_self": null,
      "border": null,
      "bottom": null,
      "display": null,
      "flex": null,
      "flex_flow": null,
      "grid_area": null,
      "grid_auto_columns": null,
      "grid_auto_flow": null,
      "grid_auto_rows": null,
      "grid_column": null,
      "grid_gap": null,
      "grid_row": null,
      "grid_template_areas": null,
      "grid_template_columns": null,
      "grid_template_rows": null,
      "height": null,
      "justify_content": null,
      "justify_items": null,
      "left": null,
      "margin": null,
      "max_height": null,
      "max_width": null,
      "min_height": null,
      "min_width": null,
      "object_fit": null,
      "object_position": null,
      "order": null,
      "overflow": null,
      "overflow_x": null,
      "overflow_y": null,
      "padding": null,
      "right": null,
      "top": null,
      "visibility": null,
      "width": null
     }
    },
    "83c6e93848c5495587bc03769282500f": {
     "model_module": "@jupyter-widgets/base",
     "model_name": "LayoutModel",
     "state": {
      "_model_module": "@jupyter-widgets/base",
      "_model_module_version": "1.2.0",
      "_model_name": "LayoutModel",
      "_view_count": null,
      "_view_module": "@jupyter-widgets/base",
      "_view_module_version": "1.2.0",
      "_view_name": "LayoutView",
      "align_content": null,
      "align_items": null,
      "align_self": null,
      "border": null,
      "bottom": null,
      "display": null,
      "flex": null,
      "flex_flow": null,
      "grid_area": null,
      "grid_auto_columns": null,
      "grid_auto_flow": null,
      "grid_auto_rows": null,
      "grid_column": null,
      "grid_gap": null,
      "grid_row": null,
      "grid_template_areas": null,
      "grid_template_columns": null,
      "grid_template_rows": null,
      "height": null,
      "justify_content": null,
      "justify_items": null,
      "left": null,
      "margin": null,
      "max_height": null,
      "max_width": null,
      "min_height": null,
      "min_width": null,
      "object_fit": null,
      "object_position": null,
      "order": null,
      "overflow": null,
      "overflow_x": null,
      "overflow_y": null,
      "padding": null,
      "right": null,
      "top": null,
      "visibility": null,
      "width": null
     }
    },
    "8a84bebb375a4c5db9c645e801d7ce00": {
     "model_module": "@jupyter-widgets/base",
     "model_name": "LayoutModel",
     "state": {
      "_model_module": "@jupyter-widgets/base",
      "_model_module_version": "1.2.0",
      "_model_name": "LayoutModel",
      "_view_count": null,
      "_view_module": "@jupyter-widgets/base",
      "_view_module_version": "1.2.0",
      "_view_name": "LayoutView",
      "align_content": null,
      "align_items": null,
      "align_self": null,
      "border": null,
      "bottom": null,
      "display": null,
      "flex": null,
      "flex_flow": null,
      "grid_area": null,
      "grid_auto_columns": null,
      "grid_auto_flow": null,
      "grid_auto_rows": null,
      "grid_column": null,
      "grid_gap": null,
      "grid_row": null,
      "grid_template_areas": null,
      "grid_template_columns": null,
      "grid_template_rows": null,
      "height": null,
      "justify_content": null,
      "justify_items": null,
      "left": null,
      "margin": null,
      "max_height": null,
      "max_width": null,
      "min_height": null,
      "min_width": null,
      "object_fit": null,
      "object_position": null,
      "order": null,
      "overflow": null,
      "overflow_x": null,
      "overflow_y": null,
      "padding": null,
      "right": null,
      "top": null,
      "visibility": null,
      "width": null
     }
    },
    "8c6a46c31eff4c31b5c5b8f879704df5": {
     "model_module": "@jupyter-widgets/base",
     "model_name": "LayoutModel",
     "state": {
      "_model_module": "@jupyter-widgets/base",
      "_model_module_version": "1.2.0",
      "_model_name": "LayoutModel",
      "_view_count": null,
      "_view_module": "@jupyter-widgets/base",
      "_view_module_version": "1.2.0",
      "_view_name": "LayoutView",
      "align_content": null,
      "align_items": null,
      "align_self": null,
      "border": null,
      "bottom": null,
      "display": null,
      "flex": null,
      "flex_flow": null,
      "grid_area": null,
      "grid_auto_columns": null,
      "grid_auto_flow": null,
      "grid_auto_rows": null,
      "grid_column": null,
      "grid_gap": null,
      "grid_row": null,
      "grid_template_areas": null,
      "grid_template_columns": null,
      "grid_template_rows": null,
      "height": null,
      "justify_content": null,
      "justify_items": null,
      "left": null,
      "margin": null,
      "max_height": null,
      "max_width": null,
      "min_height": null,
      "min_width": null,
      "object_fit": null,
      "object_position": null,
      "order": null,
      "overflow": null,
      "overflow_x": null,
      "overflow_y": null,
      "padding": null,
      "right": null,
      "top": null,
      "visibility": null,
      "width": null
     }
    },
    "91315328743e4062a6c4b483e73d4eb7": {
     "model_module": "@jupyter-widgets/controls",
     "model_name": "HTMLModel",
     "state": {
      "_dom_classes": [],
      "_model_module": "@jupyter-widgets/controls",
      "_model_module_version": "1.5.0",
      "_model_name": "HTMLModel",
      "_view_count": null,
      "_view_module": "@jupyter-widgets/controls",
      "_view_module_version": "1.5.0",
      "_view_name": "HTMLView",
      "description": "",
      "description_tooltip": null,
      "layout": "IPY_MODEL_30ac58c7bf6341699563f7b9ed55642c",
      "placeholder": "​",
      "style": "IPY_MODEL_438427afcfae4bc089f8fd7a2e4d59de",
      "value": " 1.01G/1.01G [00:51&lt;00:00, 19.4MB/s]"
     }
    },
    "9b72fb46e9bf44c39d64a4c99c1492d7": {
     "model_module": "@jupyter-widgets/base",
     "model_name": "LayoutModel",
     "state": {
      "_model_module": "@jupyter-widgets/base",
      "_model_module_version": "1.2.0",
      "_model_name": "LayoutModel",
      "_view_count": null,
      "_view_module": "@jupyter-widgets/base",
      "_view_module_version": "1.2.0",
      "_view_name": "LayoutView",
      "align_content": null,
      "align_items": null,
      "align_self": null,
      "border": null,
      "bottom": null,
      "display": null,
      "flex": null,
      "flex_flow": null,
      "grid_area": null,
      "grid_auto_columns": null,
      "grid_auto_flow": null,
      "grid_auto_rows": null,
      "grid_column": null,
      "grid_gap": null,
      "grid_row": null,
      "grid_template_areas": null,
      "grid_template_columns": null,
      "grid_template_rows": null,
      "height": null,
      "justify_content": null,
      "justify_items": null,
      "left": null,
      "margin": null,
      "max_height": null,
      "max_width": null,
      "min_height": null,
      "min_width": null,
      "object_fit": null,
      "object_position": null,
      "order": null,
      "overflow": null,
      "overflow_x": null,
      "overflow_y": null,
      "padding": null,
      "right": null,
      "top": null,
      "visibility": null,
      "width": null
     }
    },
    "9c9ce7c0435b4f8881c3819dab4560ab": {
     "model_module": "@jupyter-widgets/base",
     "model_name": "LayoutModel",
     "state": {
      "_model_module": "@jupyter-widgets/base",
      "_model_module_version": "1.2.0",
      "_model_name": "LayoutModel",
      "_view_count": null,
      "_view_module": "@jupyter-widgets/base",
      "_view_module_version": "1.2.0",
      "_view_name": "LayoutView",
      "align_content": null,
      "align_items": null,
      "align_self": null,
      "border": null,
      "bottom": null,
      "display": null,
      "flex": null,
      "flex_flow": null,
      "grid_area": null,
      "grid_auto_columns": null,
      "grid_auto_flow": null,
      "grid_auto_rows": null,
      "grid_column": null,
      "grid_gap": null,
      "grid_row": null,
      "grid_template_areas": null,
      "grid_template_columns": null,
      "grid_template_rows": null,
      "height": null,
      "justify_content": null,
      "justify_items": null,
      "left": null,
      "margin": null,
      "max_height": null,
      "max_width": null,
      "min_height": null,
      "min_width": null,
      "object_fit": null,
      "object_position": null,
      "order": null,
      "overflow": null,
      "overflow_x": null,
      "overflow_y": null,
      "padding": null,
      "right": null,
      "top": null,
      "visibility": null,
      "width": null
     }
    },
    "a254406f85bf4bc6b86a479b9d160294": {
     "model_module": "@jupyter-widgets/controls",
     "model_name": "HTMLModel",
     "state": {
      "_dom_classes": [],
      "_model_module": "@jupyter-widgets/controls",
      "_model_module_version": "1.5.0",
      "_model_name": "HTMLModel",
      "_view_count": null,
      "_view_module": "@jupyter-widgets/controls",
      "_view_module_version": "1.5.0",
      "_view_name": "HTMLView",
      "description": "",
      "description_tooltip": null,
      "layout": "IPY_MODEL_8c6a46c31eff4c31b5c5b8f879704df5",
      "placeholder": "​",
      "style": "IPY_MODEL_fb89dae90f134da3aeae2cfa9016993d",
      "value": " 232k/232k [00:00&lt;00:00, 777kB/s]"
     }
    },
    "a9679e00ae6744e69ec9d7bca5862273": {
     "model_module": "@jupyter-widgets/controls",
     "model_name": "ProgressStyleModel",
     "state": {
      "_model_module": "@jupyter-widgets/controls",
      "_model_module_version": "1.5.0",
      "_model_name": "ProgressStyleModel",
      "_view_count": null,
      "_view_module": "@jupyter-widgets/base",
      "_view_module_version": "1.2.0",
      "_view_name": "StyleView",
      "bar_color": null,
      "description_width": "initial"
     }
    },
    "b07b0dcd84084a17937c77c4b91b69d8": {
     "model_module": "@jupyter-widgets/controls",
     "model_name": "HBoxModel",
     "state": {
      "_dom_classes": [],
      "_model_module": "@jupyter-widgets/controls",
      "_model_module_version": "1.5.0",
      "_model_name": "HBoxModel",
      "_view_count": null,
      "_view_module": "@jupyter-widgets/controls",
      "_view_module_version": "1.5.0",
      "_view_name": "HBoxView",
      "box_style": "",
      "children": [
       "IPY_MODEL_cfdcfc3515f349ef8927ac8924399a43",
       "IPY_MODEL_3c6f2ab74c554038b95cddce2d6f04fd"
      ],
      "layout": "IPY_MODEL_9c9ce7c0435b4f8881c3819dab4560ab"
     }
    },
    "b5a368aae65a4ad186f0d3ec3b47a66a": {
     "model_module": "@jupyter-widgets/base",
     "model_name": "LayoutModel",
     "state": {
      "_model_module": "@jupyter-widgets/base",
      "_model_module_version": "1.2.0",
      "_model_name": "LayoutModel",
      "_view_count": null,
      "_view_module": "@jupyter-widgets/base",
      "_view_module_version": "1.2.0",
      "_view_name": "LayoutView",
      "align_content": null,
      "align_items": null,
      "align_self": null,
      "border": null,
      "bottom": null,
      "display": null,
      "flex": null,
      "flex_flow": null,
      "grid_area": null,
      "grid_auto_columns": null,
      "grid_auto_flow": null,
      "grid_auto_rows": null,
      "grid_column": null,
      "grid_gap": null,
      "grid_row": null,
      "grid_template_areas": null,
      "grid_template_columns": null,
      "grid_template_rows": null,
      "height": null,
      "justify_content": null,
      "justify_items": null,
      "left": null,
      "margin": null,
      "max_height": null,
      "max_width": null,
      "min_height": null,
      "min_width": null,
      "object_fit": null,
      "object_position": null,
      "order": null,
      "overflow": null,
      "overflow_x": null,
      "overflow_y": null,
      "padding": null,
      "right": null,
      "top": null,
      "visibility": null,
      "width": null
     }
    },
    "b8b6a8e9c74c424ca43560a60c6bde43": {
     "model_module": "@jupyter-widgets/base",
     "model_name": "LayoutModel",
     "state": {
      "_model_module": "@jupyter-widgets/base",
      "_model_module_version": "1.2.0",
      "_model_name": "LayoutModel",
      "_view_count": null,
      "_view_module": "@jupyter-widgets/base",
      "_view_module_version": "1.2.0",
      "_view_name": "LayoutView",
      "align_content": null,
      "align_items": null,
      "align_self": null,
      "border": null,
      "bottom": null,
      "display": null,
      "flex": null,
      "flex_flow": null,
      "grid_area": null,
      "grid_auto_columns": null,
      "grid_auto_flow": null,
      "grid_auto_rows": null,
      "grid_column": null,
      "grid_gap": null,
      "grid_row": null,
      "grid_template_areas": null,
      "grid_template_columns": null,
      "grid_template_rows": null,
      "height": null,
      "justify_content": null,
      "justify_items": null,
      "left": null,
      "margin": null,
      "max_height": null,
      "max_width": null,
      "min_height": null,
      "min_width": null,
      "object_fit": null,
      "object_position": null,
      "order": null,
      "overflow": null,
      "overflow_x": null,
      "overflow_y": null,
      "padding": null,
      "right": null,
      "top": null,
      "visibility": null,
      "width": null
     }
    },
    "cc2f9a6e5718491688e790859db040e1": {
     "model_module": "@jupyter-widgets/controls",
     "model_name": "FloatProgressModel",
     "state": {
      "_dom_classes": [],
      "_model_module": "@jupyter-widgets/controls",
      "_model_module_version": "1.5.0",
      "_model_name": "FloatProgressModel",
      "_view_count": null,
      "_view_module": "@jupyter-widgets/controls",
      "_view_module_version": "1.5.0",
      "_view_name": "ProgressView",
      "bar_style": "success",
      "description": "Downloading: 100%",
      "description_tooltip": null,
      "layout": "IPY_MODEL_716e72150ed14b80a0c44ce12416ce73",
      "max": 2132,
      "min": 0,
      "orientation": "horizontal",
      "style": "IPY_MODEL_a9679e00ae6744e69ec9d7bca5862273",
      "value": 2132
     }
    },
    "ce202aafa14d476890e2e9db658089c0": {
     "model_module": "@jupyter-widgets/controls",
     "model_name": "ProgressStyleModel",
     "state": {
      "_model_module": "@jupyter-widgets/controls",
      "_model_module_version": "1.5.0",
      "_model_name": "ProgressStyleModel",
      "_view_count": null,
      "_view_module": "@jupyter-widgets/base",
      "_view_module_version": "1.2.0",
      "_view_name": "StyleView",
      "bar_color": null,
      "description_width": "initial"
     }
    },
    "cfdcfc3515f349ef8927ac8924399a43": {
     "model_module": "@jupyter-widgets/controls",
     "model_name": "FloatProgressModel",
     "state": {
      "_dom_classes": [],
      "_model_module": "@jupyter-widgets/controls",
      "_model_module_version": "1.5.0",
      "_model_name": "FloatProgressModel",
      "_view_count": null,
      "_view_module": "@jupyter-widgets/controls",
      "_view_module_version": "1.5.0",
      "_view_name": "ProgressView",
      "bar_style": "success",
      "description": "Downloading: 100%",
      "description_tooltip": null,
      "layout": "IPY_MODEL_b5a368aae65a4ad186f0d3ec3b47a66a",
      "max": 262398754,
      "min": 0,
      "orientation": "horizontal",
      "style": "IPY_MODEL_49afbc6986b94eaea2da76bf902848fa",
      "value": 262398754
     }
    },
    "da415753f8b14d638de321c237cda940": {
     "model_module": "@jupyter-widgets/base",
     "model_name": "LayoutModel",
     "state": {
      "_model_module": "@jupyter-widgets/base",
      "_model_module_version": "1.2.0",
      "_model_name": "LayoutModel",
      "_view_count": null,
      "_view_module": "@jupyter-widgets/base",
      "_view_module_version": "1.2.0",
      "_view_name": "LayoutView",
      "align_content": null,
      "align_items": null,
      "align_self": null,
      "border": null,
      "bottom": null,
      "display": null,
      "flex": null,
      "flex_flow": null,
      "grid_area": null,
      "grid_auto_columns": null,
      "grid_auto_flow": null,
      "grid_auto_rows": null,
      "grid_column": null,
      "grid_gap": null,
      "grid_row": null,
      "grid_template_areas": null,
      "grid_template_columns": null,
      "grid_template_rows": null,
      "height": null,
      "justify_content": null,
      "justify_items": null,
      "left": null,
      "margin": null,
      "max_height": null,
      "max_width": null,
      "min_height": null,
      "min_width": null,
      "object_fit": null,
      "object_position": null,
      "order": null,
      "overflow": null,
      "overflow_x": null,
      "overflow_y": null,
      "padding": null,
      "right": null,
      "top": null,
      "visibility": null,
      "width": null
     }
    },
    "e33936ed5e094321b6f081a5fac31e00": {
     "model_module": "@jupyter-widgets/base",
     "model_name": "LayoutModel",
     "state": {
      "_model_module": "@jupyter-widgets/base",
      "_model_module_version": "1.2.0",
      "_model_name": "LayoutModel",
      "_view_count": null,
      "_view_module": "@jupyter-widgets/base",
      "_view_module_version": "1.2.0",
      "_view_name": "LayoutView",
      "align_content": null,
      "align_items": null,
      "align_self": null,
      "border": null,
      "bottom": null,
      "display": null,
      "flex": null,
      "flex_flow": null,
      "grid_area": null,
      "grid_auto_columns": null,
      "grid_auto_flow": null,
      "grid_auto_rows": null,
      "grid_column": null,
      "grid_gap": null,
      "grid_row": null,
      "grid_template_areas": null,
      "grid_template_columns": null,
      "grid_template_rows": null,
      "height": null,
      "justify_content": null,
      "justify_items": null,
      "left": null,
      "margin": null,
      "max_height": null,
      "max_width": null,
      "min_height": null,
      "min_width": null,
      "object_fit": null,
      "object_position": null,
      "order": null,
      "overflow": null,
      "overflow_x": null,
      "overflow_y": null,
      "padding": null,
      "right": null,
      "top": null,
      "visibility": null,
      "width": null
     }
    },
    "e5bfe371be184c459cf3b57a5978deb8": {
     "model_module": "@jupyter-widgets/controls",
     "model_name": "HBoxModel",
     "state": {
      "_dom_classes": [],
      "_model_module": "@jupyter-widgets/controls",
      "_model_module_version": "1.5.0",
      "_model_name": "HBoxModel",
      "_view_count": null,
      "_view_module": "@jupyter-widgets/controls",
      "_view_module_version": "1.5.0",
      "_view_name": "HBoxView",
      "box_style": "",
      "children": [
       "IPY_MODEL_2f5589664f284ae7ba9406af8b4a7752",
       "IPY_MODEL_31d11fb48e60490eba4f371ea05ebe5f"
      ],
      "layout": "IPY_MODEL_e33936ed5e094321b6f081a5fac31e00"
     }
    },
    "e6228437fdde4191ba44db1b586387bf": {
     "model_module": "@jupyter-widgets/controls",
     "model_name": "DescriptionStyleModel",
     "state": {
      "_model_module": "@jupyter-widgets/controls",
      "_model_module_version": "1.5.0",
      "_model_name": "DescriptionStyleModel",
      "_view_count": null,
      "_view_module": "@jupyter-widgets/base",
      "_view_module_version": "1.2.0",
      "_view_name": "StyleView",
      "description_width": ""
     }
    },
    "f512cfd61caf4e27be4e83fc0fe5b4db": {
     "model_module": "@jupyter-widgets/base",
     "model_name": "LayoutModel",
     "state": {
      "_model_module": "@jupyter-widgets/base",
      "_model_module_version": "1.2.0",
      "_model_name": "LayoutModel",
      "_view_count": null,
      "_view_module": "@jupyter-widgets/base",
      "_view_module_version": "1.2.0",
      "_view_name": "LayoutView",
      "align_content": null,
      "align_items": null,
      "align_self": null,
      "border": null,
      "bottom": null,
      "display": null,
      "flex": null,
      "flex_flow": null,
      "grid_area": null,
      "grid_auto_columns": null,
      "grid_auto_flow": null,
      "grid_auto_rows": null,
      "grid_column": null,
      "grid_gap": null,
      "grid_row": null,
      "grid_template_areas": null,
      "grid_template_columns": null,
      "grid_template_rows": null,
      "height": null,
      "justify_content": null,
      "justify_items": null,
      "left": null,
      "margin": null,
      "max_height": null,
      "max_width": null,
      "min_height": null,
      "min_width": null,
      "object_fit": null,
      "object_position": null,
      "order": null,
      "overflow": null,
      "overflow_x": null,
      "overflow_y": null,
      "padding": null,
      "right": null,
      "top": null,
      "visibility": null,
      "width": null
     }
    },
    "f6909e73672b43e7a13cd21d839e1e5b": {
     "model_module": "@jupyter-widgets/controls",
     "model_name": "FloatProgressModel",
     "state": {
      "_dom_classes": [],
      "_model_module": "@jupyter-widgets/controls",
      "_model_module_version": "1.5.0",
      "_model_name": "FloatProgressModel",
      "_view_count": null,
      "_view_module": "@jupyter-widgets/controls",
      "_view_module_version": "1.5.0",
      "_view_name": "ProgressView",
      "bar_style": "success",
      "description": "Downloading: 100%",
      "description_tooltip": null,
      "layout": "IPY_MODEL_7175bc96cd5d494a9d2e96b6f1956777",
      "max": 231508,
      "min": 0,
      "orientation": "horizontal",
      "style": "IPY_MODEL_ce202aafa14d476890e2e9db658089c0",
      "value": 231508
     }
    },
    "fb89dae90f134da3aeae2cfa9016993d": {
     "model_module": "@jupyter-widgets/controls",
     "model_name": "DescriptionStyleModel",
     "state": {
      "_model_module": "@jupyter-widgets/controls",
      "_model_module_version": "1.5.0",
      "_model_name": "DescriptionStyleModel",
      "_view_count": null,
      "_view_module": "@jupyter-widgets/base",
      "_view_module_version": "1.2.0",
      "_view_name": "StyleView",
      "description_width": ""
     }
    }
   }
  }
 },
 "nbformat": 4,
 "nbformat_minor": 1
}
