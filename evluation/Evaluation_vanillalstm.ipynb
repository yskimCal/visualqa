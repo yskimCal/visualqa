{
  "nbformat": 4,
  "nbformat_minor": 0,
  "metadata": {
    "colab": {
      "name": "Evaluation-vanillalstm.ipynb",
      "provenance": [],
      "collapsed_sections": [],
      "toc_visible": true
    },
    "kernelspec": {
      "name": "python2",
      "display_name": "Python 2"
    }
  },
  "cells": [
    {
      "cell_type": "markdown",
      "metadata": {
        "id": "63Ki_LNiGLhT"
      },
      "source": [
        "# Setup"
      ]
    },
    {
      "cell_type": "code",
      "metadata": {
        "id": "jGgdw58u9_nw",
        "colab": {
          "base_uri": "https://localhost:8080/"
        },
        "outputId": "52befd6a-763e-4507-c194-61c27a8585c1"
      },
      "source": [
        "from google.colab import drive\n",
        "drive.mount('/content/drive')"
      ],
      "execution_count": null,
      "outputs": [
        {
          "output_type": "stream",
          "text": [
            "Drive already mounted at /content/drive; to attempt to forcibly remount, call drive.mount(\"/content/drive\", force_remount=True).\n"
          ],
          "name": "stdout"
        }
      ]
    },
    {
      "cell_type": "code",
      "metadata": {
        "colab": {
          "base_uri": "https://localhost:8080/"
        },
        "id": "eDEtuLPe_CAv",
        "outputId": "10cf1e1e-cf31-44e8-8541-7431ecd18efd"
      },
      "source": [
        "# From: https://github.com/tylin/coco-caption/blob/master/cocoEvalCapDemo.ipynb\n",
        "%cd /content/drive/MyDrive/results/coco-caption\n",
        "\n",
        "%matplotlib inline\n",
        "from pycocotools.coco import COCO\n",
        "from pycocoevalcap.eval import COCOEvalCap\n",
        "import matplotlib.pyplot as plt\n",
        "import skimage.io as io\n",
        "import pylab\n",
        "pylab.rcParams['figure.figsize'] = (10.0, 8.0)\n",
        "\n",
        "import json\n",
        "from json import encoder\n",
        "encoder.FLOAT_REPR = lambda o: format(o, '.3f')"
      ],
      "execution_count": null,
      "outputs": [
        {
          "output_type": "stream",
          "text": [
            "/content/drive/MyDrive/results/coco-caption\n"
          ],
          "name": "stdout"
        }
      ]
    },
    {
      "cell_type": "markdown",
      "metadata": {
        "id": "8WleSuZpmXxp"
      },
      "source": [
        "# Load Dataset"
      ]
    },
    {
      "cell_type": "code",
      "metadata": {
        "colab": {
          "base_uri": "https://localhost:8080/"
        },
        "id": "PWGdOhl4_FZw",
        "outputId": "0d324ad8-d524-4501-fc52-d084030a1684"
      },
      "source": [
        "%cd /content/drive/MyDrive/results\n",
        "import pickle\n",
        "import nltk\n",
        "nltk.download('punkt')\n",
        "\n",
        "with open('./imageCaptions/vanilla_lstm_results2.pkl', 'rb') as f:\n",
        "  vanilla_lstm_results = pickle.load(f)"
      ],
      "execution_count": null,
      "outputs": [
        {
          "output_type": "stream",
          "text": [
            "/content/drive/MyDrive/results\n",
            "[nltk_data] Downloading package punkt to /root/nltk_data...\n",
            "[nltk_data]   Package punkt is already up-to-date!\n"
          ],
          "name": "stdout"
        }
      ]
    },
    {
      "cell_type": "code",
      "metadata": {
        "id": "aSVHwlJf_KIP"
      },
      "source": [
        "with open('./imageCaptions/vanilla_lstm_result_ids2.pkl', 'rb') as f:\n",
        "  vanilla_lstm_result_ids = pickle.load(f)"
      ],
      "execution_count": null,
      "outputs": []
    },
    {
      "cell_type": "code",
      "metadata": {
        "id": "pkBnBqLxCyBF"
      },
      "source": [
        "# Read adjective list\n",
        "filename = 'anp_list.txt'\n",
        "\n",
        "with open(filename, 'r') as f:\n",
        "    lines = f.readlines()\n",
        "\n",
        "anp = []\n",
        "\n",
        "for i in range(0,len(lines)):\n",
        "    anp.append(lines[i].rsplit(' ',1)[0])\n",
        "  \n",
        "anps = list(set(anp))"
      ],
      "execution_count": null,
      "outputs": []
    },
    {
      "cell_type": "markdown",
      "metadata": {
        "id": "vzMIvvg_GOVn"
      },
      "source": [
        "# Create generated sentence without adjectives"
      ]
    },
    {
      "cell_type": "code",
      "metadata": {
        "id": "Gj9lF4hy_VNg"
      },
      "source": [
        "# Setence without adjectives\n",
        "senTocompare = []\n",
        "\n",
        "for i in range(0,len(vanilla_lstm_results)):\n",
        "  tokens = nltk.tokenize.word_tokenize(vanilla_lstm_results[i].lower())\n",
        "  tokensNotadjs = [t for t in tokens if t not in anps]\n",
        "  withoutAdjs = \" \".join(tokensNotadjs)\n",
        "  senTocompare.append(withoutAdjs)"
      ],
      "execution_count": null,
      "outputs": []
    },
    {
      "cell_type": "code",
      "metadata": {
        "id": "ayLFDUx8HxI-"
      },
      "source": [
        "# Load original captions\n",
        "import json\n",
        "\n",
        "with open('./captions_val2014.json') as json_file:\n",
        "    captions_val2014 = json.load(json_file)"
      ],
      "execution_count": null,
      "outputs": []
    },
    {
      "cell_type": "code",
      "metadata": {
        "id": "g1sYIKFjIqDS"
      },
      "source": [
        "# Find image ids\n",
        "image_ids = [] \n",
        "\n",
        "for i in range(0,len(vanilla_lstm_result_ids)):\n",
        "  for j in range(0,len(captions_val2014['images'])):\n",
        "    if vanilla_lstm_result_ids[i] == captions_val2014['images'][j]['file_name']:\n",
        "      image_ids.append(captions_val2014['images'][j]['id'])"
      ],
      "execution_count": null,
      "outputs": []
    },
    {
      "cell_type": "code",
      "metadata": {
        "id": "2F1xvVszGT5l"
      },
      "source": [
        "# Create Json file for generated sentences\n",
        "import collections\n",
        "sendict = []\n",
        "\n",
        "for i in range(0,len(image_ids)):\n",
        "  dict_temp = {'image_id': image_ids[i],\n",
        "               'caption': senTocompare[i]}\n",
        "  od = collections.OrderedDict(sorted(dict_temp.items(), reverse=True))\n",
        "  sendict.append(od)"
      ],
      "execution_count": null,
      "outputs": []
    },
    {
      "cell_type": "code",
      "metadata": {
        "id": "wWq_cx9gNMc6"
      },
      "source": [
        "with open('vanilla_lstm_generated_sen.json', 'w') as outfile:\n",
        "  json.dump(sendict, outfile)"
      ],
      "execution_count": null,
      "outputs": []
    },
    {
      "cell_type": "markdown",
      "metadata": {
        "id": "E_48ilTyfWH_"
      },
      "source": [
        "# Load created dataset"
      ]
    },
    {
      "cell_type": "code",
      "metadata": {
        "colab": {
          "base_uri": "https://localhost:8080/"
        },
        "id": "iHSjK9flE71A",
        "outputId": "1b26c71b-1917-47c4-ff66-aa5b14759f5a"
      },
      "source": [
        "# From: https://github.com/tylin/coco-caption/blob/master/cocoEvalCapDemo.ipynb\n",
        "# set up file names and pathes\n",
        "# Data Directory\n",
        "groud_truth = './coco-caption/annotations/captions_val2014.json'\n",
        "generated_sen = './vanilla_lstm_generated_sen.json'\n",
        "\n",
        "## I don't know whether this stanford model is needed\n",
        "# download Stanford models\n",
        "%cd /content/drive/MyDrive/results/coco-caption\n",
        "!./get_stanford_models.sh"
      ],
      "execution_count": null,
      "outputs": [
        {
          "output_type": "stream",
          "text": [
            "/content/drive/MyDrive/results/coco-caption\n",
            "Found Stanford CoreNLP.\n"
          ],
          "name": "stdout"
        }
      ]
    },
    {
      "cell_type": "code",
      "metadata": {
        "colab": {
          "base_uri": "https://localhost:8080/"
        },
        "id": "hKj6RmtRGA9f",
        "outputId": "1267afff-fff5-44f1-f4dd-6297161b7069"
      },
      "source": [
        "# From: https://github.com/tylin/coco-caption/blob/master/cocoEvalCapDemo.ipynb\n",
        "## COCO reads original COCO style file: captions_val2014.json \n",
        "## loadRes reads load Id and caption json file\n",
        "## Example: {\"image_id\": 404464, \"caption\": \"black and white photo of a man standing in front of a building\"}\n",
        "\n",
        "%cd /content/drive/MyDrive/results\n",
        "ground_truth = COCO(groud_truth)\n",
        "gen_sen = ground_truth.loadRes(generated_sen)"
      ],
      "execution_count": null,
      "outputs": [
        {
          "output_type": "stream",
          "text": [
            "/content/drive/MyDrive/results\n",
            "loading annotations into memory...\n",
            "0:00:00.779439\n",
            "creating index...\n",
            "index created!\n",
            "Loading and preparing results...     \n",
            "DONE (t=0.04s)\n",
            "creating index...\n",
            "index created!\n"
          ],
          "name": "stdout"
        }
      ]
    },
    {
      "cell_type": "markdown",
      "metadata": {
        "id": "va7jgcknGXUI"
      },
      "source": [
        "# Calculate evaluation metrics"
      ]
    },
    {
      "cell_type": "code",
      "metadata": {
        "colab": {
          "base_uri": "https://localhost:8080/"
        },
        "id": "W-mvRQUxYAj6",
        "outputId": "aef017d8-dd2f-41a8-9c9b-f19d91ce7223"
      },
      "source": [
        "%cd /content/drive/MyDrive/results/coco-caption"
      ],
      "execution_count": null,
      "outputs": [
        {
          "output_type": "stream",
          "text": [
            "/content/drive/MyDrive/results/coco-caption\n"
          ],
          "name": "stdout"
        }
      ]
    },
    {
      "cell_type": "code",
      "metadata": {
        "colab": {
          "base_uri": "https://localhost:8080/"
        },
        "id": "1aH9lUY_GVTW",
        "outputId": "56a71462-9273-478a-db0f-79f5691dcc1f"
      },
      "source": [
        "# From: https://github.com/tylin/coco-caption/blob/master/cocoEvalCapDemo.ipynb\n",
        "# create cocoEval object by taking coco and cocoRes\n",
        "#cocoEval = COCOEvalCap(coco, cocoRes)\n",
        "cocoEval = COCOEvalCap(ground_truth, gen_sen)\n",
        "\n",
        "# evaluate on a subset of images by setting\n",
        "# cocoEval.params['image_id'] = cocoRes.getImgIds()\n",
        "# please remove this line when evaluating the full validation set\n",
        "#cocoEval.params['image_id'] = cocoRes.getImgIds()\n",
        "cocoEval.params['image_id'] = gen_sen.getImgIds()\n",
        "\n",
        "# evaluate results\n",
        "# SPICE will take a few minutes the first time, but speeds up due to caching\n",
        "cocoEval.evaluate()"
      ],
      "execution_count": null,
      "outputs": [
        {
          "output_type": "stream",
          "text": [
            "tokenization...\n",
            "setting up scorers...\n",
            "computing Bleu score...\n",
            "{'reflen': 951, 'guess': [913, 813, 713, 613], 'testlen': 913, 'correct': [306, 57, 13, 4]}\n",
            "ratio: 0.960042060987\n",
            "Bleu_1: 0.321\n",
            "Bleu_2: 0.147\n",
            "Bleu_3: 0.072\n",
            "Bleu_4: 0.039\n",
            "computing METEOR score...\n",
            "METEOR: 0.102\n",
            "computing Rouge score...\n",
            "ROUGE_L: 0.211\n",
            "computing CIDEr score...\n",
            "CIDEr: 0.183\n",
            "computing SPICE score...\n",
            "SPICE: 0.055\n"
          ],
          "name": "stdout"
        }
      ]
    },
    {
      "cell_type": "code",
      "metadata": {
        "colab": {
          "base_uri": "https://localhost:8080/"
        },
        "id": "b6_4CK8KGbzh",
        "outputId": "e56d7cf1-000a-40ff-fa68-cfc655967e0a"
      },
      "source": [
        "# From: https://github.com/tylin/coco-caption/blob/master/cocoEvalCapDemo.ipynb\n",
        "# print output evaluation scores\n",
        "for metric, score in cocoEval.eval.items():\n",
        "    print '%s: %.4f'%(metric, score)"
      ],
      "execution_count": null,
      "outputs": [
        {
          "output_type": "stream",
          "text": [
            "CIDEr: 0.1827\n",
            "Bleu_4: 0.0392\n",
            "Bleu_3: 0.0723\n",
            "Bleu_2: 0.1470\n",
            "Bleu_1: 0.3215\n",
            "ROUGE_L: 0.2105\n",
            "METEOR: 0.1021\n",
            "SPICE: 0.0546\n"
          ],
          "name": "stdout"
        }
      ]
    },
    {
      "cell_type": "code",
      "metadata": {
        "colab": {
          "base_uri": "https://localhost:8080/",
          "height": 527
        },
        "id": "De_KQhxNGfIp",
        "outputId": "5e08a410-d805-4a47-8644-9d354545b1a8"
      },
      "source": [
        "# From: https://github.com/tylin/coco-caption/blob/master/cocoEvalCapDemo.ipynb\n",
        "# plot score histogram\n",
        "ciderScores = [eva['CIDEr'] for eva in cocoEval.evalImgs]\n",
        "plt.hist(ciderScores)\n",
        "plt.title('Histogram of CIDEr Scores', fontsize=20)\n",
        "plt.xlabel('CIDEr score', fontsize=20)\n",
        "plt.ylabel('result counts', fontsize=20)\n",
        "plt.show()"
      ],
      "execution_count": null,
      "outputs": [
        {
          "output_type": "display_data",
          "data": {
            "image/png": "[encoded data removed]",
            "text/plain": [
              "<Figure size 720x576 with 1 Axes>"
            ]
          },
          "metadata": {
            "tags": [],
            "needs_background": "light"
          }
        }
      ]
    },
    {
      "cell_type": "code",
      "metadata": {
        "colab": {
          "base_uri": "https://localhost:8080/"
        },
        "id": "OAfcw2aDGge6",
        "outputId": "ca18abf9-3052-49bb-8409-d2fbaa6f4d3e"
      },
      "source": [
        "# From: https://github.com/tylin/coco-caption/blob/master/cocoEvalCapDemo.ipynb\n",
        "# save evaluation results to ./results folder\n",
        "'''\n",
        "import os\n",
        "%cd /content/drive/MyDrive/results/evalresults\n",
        "evalImgsFile = './vinalla_lstm_imgresults.json'\n",
        "evalFile = './vinalla_lstm_lstm_evalresults.json'\n",
        "\n",
        "json.dump(cocoEval.evalImgs, open(evalImgsFile, 'w'))\n",
        "json.dump(cocoEval.eval,     open(evalFile, 'w'))\n",
        "'''"
      ],
      "execution_count": null,
      "outputs": [
        {
          "output_type": "stream",
          "text": [
            "/content/drive/MyDrive/results/evalresults\n"
          ],
          "name": "stdout"
        }
      ]
    },
    {
      "cell_type": "code",
      "metadata": {
        "id": "ZXnf1lcQgWDQ"
      },
      "source": [
        ""
      ],
      "execution_count": null,
      "outputs": []
    }
  ]
}